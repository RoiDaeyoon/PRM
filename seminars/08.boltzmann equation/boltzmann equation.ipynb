{
 "cells": [
  {
   "cell_type": "markdown",
   "metadata": {},
   "source": [
    "# Boltzmann equation for DBD plasma"
   ]
  },
  {
   "cell_type": "markdown",
   "metadata": {},
   "source": [
    "# 1. Boltzmann equation"
   ]
  },
  {
   "cell_type": "markdown",
   "metadata": {},
   "source": [
    "## 정의"
   ]
  },
  {
   "cell_type": "markdown",
   "metadata": {},
   "source": [
    "루트비히 볼츠만은 1872년 <기체 분자의 열평형에 대한 추가 연구, Weitere Studien über das Wärmegleichgewicht unter Gasmolekülen>라는 논문에서 H와 정리와 같이 볼츠만 방정식을 발표하였다."
   ]
  },
  {
   "cell_type": "markdown",
   "metadata": {},
   "source": [
    "볼츠만 운송 방정식은 충돌로만 상호작용하는 이상 기체의 비평형 통계역학계를 다루는 적분 미분 방정식이다."
   ]
  },
  {
   "cell_type": "markdown",
   "metadata": {},
   "source": [
    "![alt](./fig/boltzmann.PNG)"
   ]
  },
  {
   "cell_type": "markdown",
   "metadata": {},
   "source": [
    "간단히 말하면 기체 분자의 위치와 속도에 관한 분산함수(f)의 시간적 변화를 정하는 방정식이다"
   ]
  },
  {
   "cell_type": "markdown",
   "metadata": {},
   "source": [
    "위와 같은 함수 f를 위상공간에서의 분산함수라고 한다.\n",
    "\n",
    "이때 위상공간이란 좌표와 운동량으로 구성되는 공간이다.\n",
    "\n",
    "분산함수는 열평형상태에서는 시간 t에 의존하지 않지만 일반적으로는 시간과 함께 변한다.\n",
    "\n",
    "이때 시간변화의 원인은 다음과 같다.\n",
    "\n",
    "1. 분자가 운동법칙에 따라 위상공간을 유동하므로 시간에 의존하기 때문\n",
    "\n",
    "2. 분자간의 충돌로 분자수가 달라진다.\n",
    "\n",
    "이러한 유동항(1)과 충돌항(2)의 양쪽을 고려해서 도출된 f에 대한 방정식이 볼츠만 방정식이다."
   ]
  },
  {
   "cell_type": "markdown",
   "metadata": {},
   "source": [
    "## 플라즈마와 볼츠만 방정식"
   ]
  },
  {
   "cell_type": "markdown",
   "metadata": {},
   "source": [
    "플라즈마는 electron e, ions i, neutrals n이 각기 다른 r(위치, positions)와 외부 힘(전기장, 중력장) 및 collision process(ionization, Coulomb, charge exchange etc)의 영향을 받는 v(속도, velocities)로 이뤄진다.\n",
    "\n",
    "이때 average macroscopic plasma parameter(electron density, pressure, ion temperature)는 입자의 속도, 위치 분포의 marcosocopic 평균으로부터 얻을 수 있다.\n",
    "\n",
    "따라서 플라즈마에서 볼츠만 방정식은 modeling에 입자의 속도, 위치 분포의 marcosocopic 평균을 계산하기 위해 사용된다."
   ]
  },
  {
   "cell_type": "markdown",
   "metadata": {},
   "source": [
    "# 2. Computational Modeling for DBD"
   ]
  },
  {
   "cell_type": "markdown",
   "metadata": {},
   "source": [
    "물리적으로 의미있는 해를 얻기 위해, 볼츠만 방정식을 통해 DBD 계를 지배하는 fluid equation들을 유도해야한다. 이 방정식은 다양한 상태, 형상의 수치적 모델링이 가능해야하고 실제 모델의 물리적 성질과 너무 많은 차이가 나면 안된다.  \n",
    "  \n",
    "  따라서, 계 내의 전자와 양이온의 이동과 위치를 추적하기위해 macroscopic fluid type equation이 사용되고, 각각의 잘린 공간에서 국부적인 평균 전자 에너지 밀도가 사용된다."
   ]
  },
  {
   "cell_type": "markdown",
   "metadata": {},
   "source": [
    "## Moments of the Boltzmann Equation"
   ]
  },
  {
   "cell_type": "markdown",
   "metadata": {},
   "source": [
    "![alt](./fig/boltzmann.PNG)"
   ]
  },
  {
   "cell_type": "markdown",
   "metadata": {},
   "source": [
    "이 방정식은 분산함수 f, (혹은 특정 속도($\\vec{\\nu}$)와 위치에서의 플라즈마 종을 찾을 확률)의 시간적 변화를 나타낸다.  \n",
    "\n",
    "- 첫 번째 항\n",
    " \n",
    " 시간에 따른 분산 함수의 편화를 의미한다. 이 항이 궁극적으로 주어진 초기조건으로 모든 시간에 대해 풀게될 항이다.  \n",
    "\n",
    "\n",
    "- 두 번째 항\n",
    " \n",
    " 입자가 특정 속도와 방향으로 계를 통해 움직이는 동안의 공간, 혹은 배치 좌표상에서의 변화를 나타낸다.  \n",
    "\n",
    "\n",
    "- 세 번째 항\n",
    " \n",
    " charge 된 입자가 외력으로 인해 가속될 때 플라즈마 종의 분산이 어떻게 변하는지를 보여준다.\n",
    "\n",
    "\n",
    "- 마지막 우측 항\n",
    " \n",
    " 시간에 따라서 플라즈마 종들 사이의 상호 충돌을 나타낸다. 이온화, 재결합과 같은 것이 있고, 어떻게 이들이 전체 분산에 영향을 미치는지 보여준다.  "
   ]
  },
  {
   "cell_type": "markdown",
   "metadata": {},
   "source": [
    "![alt](./fig/moment.PNG)"
   ]
  },
  {
   "cell_type": "markdown",
   "metadata": {},
   "source": [
    "![alt](./fig/moment2.PNG)"
   ]
  },
  {
   "cell_type": "markdown",
   "metadata": {},
   "source": [
    "적분은 속도 좌표에 대해 모든 공간에서 수행된다. 1차 모멘트의 솔루션과 함께 이 두 모멘트는 모멘텀 방정식으로도 불린다. 입자 종의 연속방정식과 에너지 방정식을 얻기 위해 풀어야 하는 식이다(입자 질량 $m$에 대해).\n",
    "\n",
    "\n",
    "이 식에서의 종($s$)들은 전자와 1가 양이온으로만 한정된다."
   ]
  },
  {
   "cell_type": "markdown",
   "metadata": {},
   "source": [
    "위에서 정의한 볼츠만 방정식의 0차 모멘트의 각 항을 간단히 함으로써, 연속 방정식이 아래와 같이 전개되는 것을 볼 수 있다."
   ]
  },
  {
   "cell_type": "markdown",
   "metadata": {},
   "source": [
    "![alt](./fig/2-1.png)"
   ]
  },
  {
   "cell_type": "markdown",
   "metadata": {},
   "source": [
    "* Term 1 <br>\n",
    "n은 종의 개수 밀도, $n=\\int f d\\vec{v}$로 아래와 같이 축소된다."
   ]
  },
  {
   "cell_type": "markdown",
   "metadata": {},
   "source": [
    "![alt](./fig/2-2.png)"
   ]
  },
  {
   "cell_type": "markdown",
   "metadata": {},
   "source": [
    "* Term 2<br>\n",
    "개수 밀도와 속도의 곱은 어떤 특정 부피 요소에 들어가거나 나가는 종 플럭스($\\Gamma$)로 정의된다."
   ]
  },
  {
   "cell_type": "markdown",
   "metadata": {},
   "source": [
    "![alt](./fig/2-3.png)"
   ]
  },
  {
   "cell_type": "markdown",
   "metadata": {},
   "source": [
    "* Term 3<br>\n",
    "발산정리와 표면이 무한대로 접근함에 따라 분산이 0으로 된다는 것을 이용하면 생략할 수 있다"
   ]
  },
  {
   "cell_type": "markdown",
   "metadata": {},
   "source": [
    "by using the divergence theorem, and recognizing that any distribution goes to zero as the\n",
    "surface used in the integral approaches infinity. "
   ]
  },
  {
   "cell_type": "markdown",
   "metadata": {},
   "source": [
    "![alt](./fig/2-4.png)"
   ]
  },
  {
   "cell_type": "markdown",
   "metadata": {},
   "source": [
    "* Term 4<br>\n",
    "source와 loss항의 결과는 시스템 내 입자의 충돌 상호작용에 의해 결정된다."
   ]
  },
  {
   "cell_type": "markdown",
   "metadata": {},
   "source": [
    "![alt](./fig/2-5.png)"
   ]
  },
  {
   "cell_type": "markdown",
   "metadata": {},
   "source": [
    "위에서 전개된 연속 방정식을 다시 정리해보면 아래와 같이 된다."
   ]
  },
  {
   "cell_type": "markdown",
   "metadata": {},
   "source": [
    "![alt](./fig/2-6.png)"
   ]
  },
  {
   "cell_type": "markdown",
   "metadata": {},
   "source": [
    "만약 양이온과 전자들의 이온화와 재결합이 유일하게 고려되는 source와 loss 항이라면, 위의 $S-L$ 항은 다음과 같이 쓸 수 있다."
   ]
  },
  {
   "cell_type": "markdown",
   "metadata": {},
   "source": [
    "![alt](./fig/2-7.png)"
   ]
  },
  {
   "cell_type": "markdown",
   "metadata": {},
   "source": [
    "$v$는 중성 가스에의 전자 충격 이온화 빈도를 나타내며, $\\beta$는 재결합 계수를 나타낸다."
   ]
  },
  {
   "cell_type": "markdown",
   "metadata": {},
   "source": [
    "## Computational Modeling"
   ]
  },
  {
   "cell_type": "markdown",
   "metadata": {},
   "source": [
    "지금까지 정리한 Moments of the Boltzmann Equation을 이용하여, Boltzmann Equation을 풀어야 한다. \n",
    "<br>(solution over all time to a system given some set of initial conditions.)\n",
    "<br>\n",
    "<br>$$(방정식의\\ 1번째\\ Term을\\ 구하여,\\ 시간에\\ 따른\\ 분자의\\ 위치와\\ 속도를\\ 구하는\\ 것이\\ 목적)$$\n",
    "<br>이를 컴퓨터로 모델링하여 풀기 위해서는, **유한한 구간**의 형태로 나타내어야만 한다. "
   ]
  },
  {
   "cell_type": "markdown",
   "metadata": {},
   "source": [
    "![alt](./fig/2-6.png)"
   ]
  },
  {
   "cell_type": "markdown",
   "metadata": {},
   "source": [
    "먼저, 앞서 정리한 좌항의 두 가지 term을 유한한 형태로 바꾸자."
   ]
  },
  {
   "cell_type": "markdown",
   "metadata": {},
   "source": [
    "<br>\n",
    "** Number density, Divergence of the flux의 시간에 따른 변화를 다음의 유한한 미분 형태로 나타낼 수 있다.**\n",
    "<br>(조건 : In the local temporal change, X-axis)"
   ]
  },
  {
   "cell_type": "markdown",
   "metadata": {},
   "source": [
    "<br>\n",
    "[1 Term]"
   ]
  },
  {
   "cell_type": "markdown",
   "metadata": {},
   "source": [
    "![alt](./fig/d-2.png)"
   ]
  },
  {
   "cell_type": "markdown",
   "metadata": {},
   "source": [
    "[2 Term]"
   ]
  },
  {
   "cell_type": "markdown",
   "metadata": {},
   "source": [
    "![alt](./fig/d-3.png)"
   ]
  },
  {
   "cell_type": "markdown",
   "metadata": {},
   "source": [
    "- The superscript t refers to a specific point in time. \n",
    "- The divergence term reduction above is commonly referred to as a three-point formula\n",
    "- fluxes는 1차원 분리 방식을 따랐기 때문에, 방향에 따라 + 혹은 -가 가능하다.\n",
    "\n",
    "이러한 1차원적인 분리 방식(right,left)은, 입자들의 fluxes가 local영역을 특정 축만 따라서 들어오거나 나가는 경우로 가정해야 적절하다."
   ]
  },
  {
   "cell_type": "markdown",
   "metadata": {},
   "source": [
    "<br>\n",
    "** 우항인 충돌 항에 대해, 시간 변수를 적용한다. **"
   ]
  },
  {
   "cell_type": "markdown",
   "metadata": {},
   "source": [
    "![alt](./fig/d-4.png)"
   ]
  },
  {
   "cell_type": "markdown",
   "metadata": {},
   "source": [
    "**최종적인 1차원 연속방정식의 형태는 다음과 같다.**"
   ]
  },
  {
   "cell_type": "markdown",
   "metadata": {},
   "source": [
    "![alt](./fig/d-5.png)"
   ]
  },
  {
   "cell_type": "markdown",
   "metadata": {},
   "source": [
    "위와 비슷한 형식으로 에너지 방정식을 정리하면 다음과 같다."
   ]
  },
  {
   "cell_type": "markdown",
   "metadata": {},
   "source": [
    "![alt](./fig/d-6.png)"
   ]
  },
  {
   "cell_type": "markdown",
   "metadata": {},
   "source": [
    "- $n^eu^e$ : electron energy density\n",
    "- The first term on the right hand side : source due to Joule heating (q as unsigned charge on an electron) \n",
    "- The second term on the right hand side : collisional power loss (electron-neutral collisions에 연관)"
   ]
  },
  {
   "cell_type": "markdown",
   "metadata": {},
   "source": [
    "$N$(Neutral number density)은 실험 압력에 의해 결정된다. 이는 다음의 공식을 통해 구한다. "
   ]
  },
  {
   "cell_type": "markdown",
   "metadata": {},
   "source": [
    "![alt](./fig/d-7.png)"
   ]
  },
  {
   "cell_type": "markdown",
   "metadata": {},
   "source": [
    "## Computational Set-up"
   ]
  },
  {
   "cell_type": "markdown",
   "metadata": {},
   "source": [
    "![alt](./fig/1d.png)"
   ]
  },
  {
   "cell_type": "markdown",
   "metadata": {},
   "source": [
    "![alt](./fig/알고리즘.png)"
   ]
  },
  {
   "cell_type": "markdown",
   "metadata": {},
   "source": [
    "![alt](./fig/Potential1.png)"
   ]
  },
  {
   "cell_type": "markdown",
   "metadata": {},
   "source": [
    "![alt](./fig/Potential2.png)"
   ]
  },
  {
   "cell_type": "markdown",
   "metadata": {},
   "source": [
    "![alt](./fig/Potential3.png)"
   ]
  },
  {
   "cell_type": "markdown",
   "metadata": {},
   "source": [
    "![alt](./fig/Potential4.png)"
   ]
  },
  {
   "cell_type": "code",
   "execution_count": null,
   "metadata": {},
   "outputs": [],
   "source": []
  }
 ],
 "metadata": {
  "kernelspec": {
   "display_name": "Python 3",
   "language": "python",
   "name": "python3"
  },
  "language_info": {
   "codemirror_mode": {
    "name": "ipython",
    "version": 3
   },
   "file_extension": ".py",
   "mimetype": "text/x-python",
   "name": "python",
   "nbconvert_exporter": "python",
   "pygments_lexer": "ipython3",
   "version": "3.6.5"
  }
 },
 "nbformat": 4,
 "nbformat_minor": 2
}
