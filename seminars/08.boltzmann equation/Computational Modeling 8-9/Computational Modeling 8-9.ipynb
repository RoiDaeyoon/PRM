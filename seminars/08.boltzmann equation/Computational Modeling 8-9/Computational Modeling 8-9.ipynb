{
 "cells": [
  {
   "cell_type": "markdown",
   "metadata": {},
   "source": [
    "간단한 연속 방정식의 전개를 살펴보고, 에너지 방정식은 결과만을 제시한다.<br>\n",
    "전체 유도는 어떤 플라즈마 물리학 입문 글에서든 거의 찾을 수 있다."
   ]
  },
  {
   "cell_type": "markdown",
   "metadata": {},
   "source": [
    "위에서 정의한 볼츠만 방정식의 0차 모멘트의 각 항을 간단히 함으로써, 연속 방정식이 아래와 같이 전개되는 것을 볼 수 있다."
   ]
  },
  {
   "cell_type": "markdown",
   "metadata": {},
   "source": [
    "<img src=\".\\2-1.png\" \"width=600\" />"
   ]
  },
  {
   "cell_type": "markdown",
   "metadata": {},
   "source": [
    "* Term 1 <br>\n",
    "n은 종의 개수밀도, $n=\\int f d\\vec{v}$로 아래와 같이 축소된다."
   ]
  },
  {
   "cell_type": "markdown",
   "metadata": {},
   "source": [
    "<img src=\".\\2-2.png\" \"width=200\" />"
   ]
  },
  {
   "cell_type": "markdown",
   "metadata": {},
   "source": [
    "* Term 2<br>\n",
    "개수 밀도와 속도의 곱은 어떤 특정 부피 요소에 들어가거나 나가는 종 플럭스($\\Gamma$)로 정의된다."
   ]
  },
  {
   "cell_type": "markdown",
   "metadata": {},
   "source": [
    "<img src=\".\\2-3.png\" \"width=400\" />"
   ]
  },
  {
   "cell_type": "markdown",
   "metadata": {},
   "source": [
    "* Term 3<br>\n",
    "발산정리를 이용하고, 어떤 분포도 일체형 표면에 무한대로 접근함에 따라 0이 됨을 이용하여 다음과 같이 축소된다."
   ]
  },
  {
   "cell_type": "markdown",
   "metadata": {},
   "source": [
    "<img src=\".\\2-4.png\" \"width=400\" />"
   ]
  },
  {
   "cell_type": "markdown",
   "metadata": {},
   "source": [
    "* Term 4<br>\n",
    "source와 loss항의 결과는 시스템 내 입자의 충돌 상호작용에 의해 결정된다."
   ]
  },
  {
   "cell_type": "markdown",
   "metadata": {},
   "source": [
    "<img src=\".\\2-5.png\" \"width=400\" />"
   ]
  },
  {
   "cell_type": "markdown",
   "metadata": {},
   "source": [
    "위에서 전개된 연속 방정식을 다시 정리해보면 아래와 같이 된다."
   ]
  },
  {
   "cell_type": "markdown",
   "metadata": {},
   "source": [
    "<img src=\".\\2-6.png\" \"width=150\" />"
   ]
  },
  {
   "cell_type": "markdown",
   "metadata": {},
   "source": [
    "만약 양이온과 전자들의 이온화와 재결합이 이 프로젝트에서 유일하게 고려되는 source와 loss 항이라면, 위의 $S-L$ 항은 다음과 같이 쓸 수 있다."
   ]
  },
  {
   "cell_type": "markdown",
   "metadata": {},
   "source": [
    "<img src=\".\\2-7.png\" \"width=200\" />"
   ]
  },
  {
   "cell_type": "markdown",
   "metadata": {},
   "source": [
    "$v$는 중성 가스에의 전자 충격 이온화 빈도를 나타내며, $\\beta$는 재결합 계수를 나타낸다."
   ]
  },
  {
   "cell_type": "code",
   "execution_count": null,
   "metadata": {
    "collapsed": true
   },
   "outputs": [],
   "source": []
  }
 ],
 "metadata": {
  "kernelspec": {
   "display_name": "Python 3",
   "language": "python",
   "name": "python3"
  },
  "language_info": {
   "codemirror_mode": {
    "name": "ipython",
    "version": 3
   },
   "file_extension": ".py",
   "mimetype": "text/x-python",
   "name": "python",
   "nbconvert_exporter": "python",
   "pygments_lexer": "ipython3",
   "version": "3.6.1"
  }
 },
 "nbformat": 4,
 "nbformat_minor": 2
}
