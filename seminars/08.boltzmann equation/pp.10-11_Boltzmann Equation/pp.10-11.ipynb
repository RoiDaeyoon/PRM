{
 "cells": [
  {
   "cell_type": "markdown",
   "metadata": {},
   "source": [
    "### Computational modeling을 위한 작업"
   ]
  },
  {
   "cell_type": "markdown",
   "metadata": {},
   "source": [
    "지금까지 정리한 Moments of the Boltzmann Equation을 이용하여, Boltzmann Equation을 풀어야 한다. \n",
    "<br>(solution over all time to a system given some set of initial conditions.)\n",
    "<br>\n",
    "<br>$$(방정식의\\ 1번째\\ Term을\\ 구하여,\\ 시간에\\ 따른\\ 분자의\\ 위치와\\ 속도를\\ 구하는\\ 것이\\ 목적)$$\n",
    "<br>이를 컴퓨터로 모델링하여 풀기 위해서는, **유한한 구간**의 형태로 나타내어야만 한다. "
   ]
  },
  {
   "cell_type": "markdown",
   "metadata": {},
   "source": [
    "<br>\n",
    "### 유한한 구간으로..."
   ]
  },
  {
   "cell_type": "markdown",
   "metadata": {},
   "source": [
    "최종 정리된 Moments of the Boltzmann Equation은 다음과 같다."
   ]
  },
  {
   "cell_type": "markdown",
   "metadata": {},
   "source": [
    "<img src=\"./fig/d-1.png\" style=\"height:80px\">"
   ]
  },
  {
   "cell_type": "markdown",
   "metadata": {},
   "source": [
    "먼저, 앞서 정리한 좌항의 두 가지 term을 유한한 형태로 바꾸자."
   ]
  },
  {
   "cell_type": "markdown",
   "metadata": {},
   "source": [
    "<br>\n",
    "** Number density, Divergence of the flux의 시간에 따른 변화를 다음의 유한한 미분 형태로 나타낼 수 있다.**\n",
    "<br>(조건 : In the local temporal change, X-axis)\n",
    "\n",
    "The local temporal change of the number density and the divergence of the flux in 1D, along the X-axis in this case can be recast in a finite difference form as:"
   ]
  },
  {
   "cell_type": "markdown",
   "metadata": {},
   "source": [
    "<br>\n",
    "[1 Term]"
   ]
  },
  {
   "cell_type": "markdown",
   "metadata": {},
   "source": [
    "<img src=\"./fig/d-2.png\" style=\"height:100px\">"
   ]
  },
  {
   "cell_type": "markdown",
   "metadata": {},
   "source": [
    "[2 Term]"
   ]
  },
  {
   "cell_type": "markdown",
   "metadata": {},
   "source": [
    "<img src=\"./fig/d-3.png\" style=\"height:100px\">"
   ]
  },
  {
   "cell_type": "markdown",
   "metadata": {},
   "source": [
    "- The superscript t refers to a specific point in time. \n",
    "- The divergence term reduction above is commonly referred to as a three-point formula\n",
    "- fluxes는 1차원 분리 방식을 따랐기 때문에, 방향에 따라 + 혹은 -가 가능하다.\n",
    "\n",
    "이러한 1차원적인 분리 방식(right,left)은, 입자들의 fluxes가 local영역을 특정 축만 따라서 들어오거나 나가는 경우로 가정해야 적절하다.\n",
    "<br>This 1D discretization is appropriate for the project that particle fluxes into or out of a local volume will only be considered along one specific axis at a time."
   ]
  },
  {
   "cell_type": "markdown",
   "metadata": {},
   "source": [
    "<br>\n",
    "** 우항인 충돌 항에 대해, 시간 변수를 적용한다. **"
   ]
  },
  {
   "cell_type": "markdown",
   "metadata": {},
   "source": [
    "<img src=\"./fig/d-4.png\" style=\"height:40px\">"
   ]
  },
  {
   "cell_type": "markdown",
   "metadata": {},
   "source": [
    "**최종적인 1차원 연속방정식의 형태는 다음과 같다.**"
   ]
  },
  {
   "cell_type": "markdown",
   "metadata": {},
   "source": [
    "<img src=\"./fig/d-5.png\" style=\"height:70px\">"
   ]
  },
  {
   "cell_type": "markdown",
   "metadata": {},
   "source": [
    "### The electron energy equation"
   ]
  },
  {
   "cell_type": "markdown",
   "metadata": {},
   "source": [
    "전자 에너지 방정식(electron energy equation)도 위와 유사한 형태로 나타낼 수 있다."
   ]
  },
  {
   "cell_type": "markdown",
   "metadata": {},
   "source": [
    "[The electron energy equation]"
   ]
  },
  {
   "cell_type": "markdown",
   "metadata": {},
   "source": [
    "<img src=\"./fig/d-6.png\" style=\"height:90px\">"
   ]
  },
  {
   "cell_type": "markdown",
   "metadata": {},
   "source": [
    "- $n^eu^e$ : electron energy density\n",
    "- The first term on the right hand side : source due to Joule heating (q as unsigned charge on an electron) \n",
    "- The second term on the right hand side : collisional power loss (electron-neutral collisions에 연관)"
   ]
  },
  {
   "cell_type": "markdown",
   "metadata": {},
   "source": [
    "$N$(Neutral number density)은 실험 압력에 의해 결정된다. 이는 다음의 공식을 통해 구한다. "
   ]
  },
  {
   "cell_type": "markdown",
   "metadata": {},
   "source": [
    "<img src=\"./fig/d-7.png\" style=\"height:80px\">"
   ]
  },
  {
   "cell_type": "markdown",
   "metadata": {},
   "source": [
    "### 기대 사항"
   ]
  },
  {
   "cell_type": "markdown",
   "metadata": {},
   "source": [
    "볼츠만 방정식의 풀이는 입자의 연속적인 분포 변화를 나타내므로, 전자를 포함한 입자들의 시간에 따른 움직임을 모델링 할 수 있다. 이는 전자와 이온 중성자로 이루어진 반응기의 반응을 예측하는데 필요할 것으로 예상된다. 따라서 이를 컴퓨터로 풀이하고 simulation 하기 위해, 볼츠만 방정식의 computational modeling 과정이 필요하다.\n",
    "<br>\n",
    "\n",
    "\n",
    "결론적으로 기대하는 사항은 다음과 같다. \n",
    "<br>\n",
    "\n",
    "이 논문에서 확인한 볼츠만 방정식의 computational modeling을 참고하여, 볼츠만 방정식 computational modeling의 방향성을 잡는데 도움이 될 것으로 기대한다. 혹은, 이를 직접적으로 활용하여 목적한 packed DBD plasma의 modeling의 가능성을 기대한다."
   ]
  }
 ],
 "metadata": {
  "kernelspec": {
   "display_name": "Python 3",
   "language": "python",
   "name": "python3"
  },
  "language_info": {
   "codemirror_mode": {
    "name": "ipython",
    "version": 3
   },
   "file_extension": ".py",
   "mimetype": "text/x-python",
   "name": "python",
   "nbconvert_exporter": "python",
   "pygments_lexer": "ipython3",
   "version": "3.6.5"
  }
 },
 "nbformat": 4,
 "nbformat_minor": 2
}
