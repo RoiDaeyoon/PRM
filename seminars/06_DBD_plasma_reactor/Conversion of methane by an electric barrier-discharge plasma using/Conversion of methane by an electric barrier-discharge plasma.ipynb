{
 "cells": [
  {
   "cell_type": "markdown",
   "metadata": {},
   "source": [
    "## Conversion of methane by an electric barrier-discharge plasma using an inner electrode with discharge disks set at 5mm intervals"
   ]
  },
  {
   "cell_type": "markdown",
   "metadata": {},
   "source": [
    "<br>\n",
    "**요약**\n",
    "\n",
    "\n",
    "DBD 플라즈마를 이용하여 내부 전극 구조가 메테인 전환율(X_CH4)과 선택도에 미치는 영향을 알아봄.<br>\n",
    "Type A 내부전극: 5mm간격 discharge disks set<br>\n",
    "Type B 내부전극: 0mm간격 discharge disks set\n",
    "\n",
    "\n",
    "전력이 증가하면 메테인 전환율이 Type A, B 모두에서 증가하나 전력에 관계 없이 A에서가 B보다 낮음. 0mm 간격 discharge disks set의 전체 두께가 Type A와 같을 때, 전환률은 Type A나 TypeB에서의 값보다 낮았다. 이 결과는 discharge disk 간격의 존재가 전환률의 증가를 가져올 수 있음을 보여준다. 전극의 간격이 있을 때, 없을 때 모두 주된 생성물은 에테인이다.\n",
    "Type A에서 전력이 증가될 때, 프로페인과 C4이상 탄화수소의 생성물 탄소 선택도(PCS)가 증가하였고, 에틸렌의 PCS는 감소하였다. Type B에서 전력의 증가에 따라 아세틸렌의 PCS또한 증가하였다. 이러한 결과는 Type A 반응기가 homologation(지방족의 탄소수를 증가시키는 반응)을 촉진하고, Type B 반응기가 탈수를 촉진함을 보여준다.<br>\n",
    "3W 또는 32W에서, 유속이 증가함에 따라 전환률을 감소하며 PCS에 급격한 영향은 미치지 않는다."
   ]
  },
  {
   "cell_type": "markdown",
   "metadata": {},
   "source": [
    "**1. Introduction**\n",
    "![fig1](./fig/fig1.png)\n",
    "\n",
    "DBD 반응기를 사용하여 메테인을 전환시킬 때, 기존의 DBD 반응기를 사용한 연구 보다 더 높은 에테인 선택도를 얻었다. 이 차이는 고전압 전극의 구조의 차이로 인해 발생된 것으로 보여진다.<br>\n",
    "이 실험에서 내부 전극 구조가 메테인 전환율과 생성물 선택도에 미치는 영향을 살펴본다."
   ]
  },
  {
   "cell_type": "markdown",
   "metadata": {},
   "source": [
    "**2. Experimental**\n",
    "![Fig2](./fig/fig_2.png)\n",
    "$$ 실험 설정 개략도$$\n",
    "![Fig3](./fig/fig_3.png)\n",
    "\n",
    "\n",
    "* 유전체 장벽: 25mm 내경과 300mm 길이의 Pyrex 튜브\n",
    "* 외부 전극: 알루미늄\n",
    "* 내부 전극: 내경 6mm, 길이 200mm 스테인리스 스틸 원통"
   ]
  },
  {
   "cell_type": "markdown",
   "metadata": {},
   "source": [
    "방전은 discharge disks의 가장자리와 튜브의 내벽 사이의 틈에서 일어남. 플라즈마 반응기에서 내부와 외부 전극은 위쪽과 아래쪽으로 나눠짐.<br>\n",
    "Type A에서 아래쪽 전극에 40장의 discharge disk가 0mm의 간격으로 존재. 총 두께는 24mm.<br>\n",
    "Type B에서 아래 위 전극 모두 각각 20장의 discharge disk가 5mm 간격으로 존재 총 두께는 A와 마찬가지로 24mm."
   ]
  },
  {
   "cell_type": "markdown",
   "metadata": {},
   "source": [
    "실험 조건\n",
    "* primary와 secondary 전압을 0에서 100V, 9.0kV로 각각 달리함.<br>\n",
    "* 매우 낮은 전력 (3-32W)\n",
    "* 대기압 하에서 진행\n",
    "* 반응 가스로 높은 순도의 $CH_4$ (99.9999%) 사용. 유속 6.25-50ml/min\n",
    "\n",
    "플라즈마 상태에서 240초의 방전 후 방출 가스를 gas chromatography로 분석하여 메테인 전환율, 생성물 선택도 계산."
   ]
  },
  {
   "cell_type": "markdown",
   "metadata": {},
   "source": [
    "** 3. Results and discussion **\n",
    "\n",
    "3.1 전력의 영향\n",
    "![Fig4](./fig/fig_4.png)\n",
    "$$전력과 메테인 전환율의 관계$$\n",
    "- 10W 이하에서는 A와 B 거의 같음.\n",
    "- 25W 이상에서는 B에서가 A에서보다 큼. 30W에서 전환율 B 6.9%, A 3.6%\n",
    "\n",
    "A, B 모두에서 discharge disck는 40개, 총 두께 24mm로 위의 결과는 20W 이상의 전력에서 discharge disks 사이 간격의 존재가 메테인 전환율을 증가시킴을 보여줌"
   ]
  },
  {
   "cell_type": "markdown",
   "metadata": {},
   "source": [
    "![Fig5](./fig/fig_5.png)\n",
    "$$ 전력과 PCS 사이의 관계$$\n",
    "\n",
    "3-32W 전력 범위에서 에테인이 주로 생성된다.<br>\n",
    "\n",
    "A에서 전력이 증가함에 따라 에틸렌의 PCS가 감소하고, 아세틸렌의 PCS, C4 탄화수소 및 다른 탄화수소가 증가한다.<br>\n",
    "B에서 9W의 전력일 때 아세틸렌의 PCS는 낮고, 9W 이상으로 올라갈 때 약간씩 감소한다. 에틸렌의 PCS도 전력의 증가에 따라 감소한다. 32W일 때와 비교하여 에테인의 PCS는 거의 같은 값을 가진다.\n",
    "\n",
    "프로페인과 C4및 더 높은 탄화수소의 PCS값은 Type B에서가 Type A에서보다 높다. 아세틸렌의 PCS값은 B에서가 더 낮다.<br>\n",
    "이러한 결과는 Type B 반응기가 homologation을, Type A가 탈수를 촉진했음을 보여준다. 전체 discharge-disk-array 두께는 24mm로 동일하므로 이것은 40개 disk 사이의 간격이 PCS에 영향을 미침을 시사한다. Type A에서 메테인은 유전체 장벽과 discharge disks 사이의 틈을 통한 방전으로 분해되었고, 이것이 성공적인 탈수를 촉진하였다. 그러나 Type B에서 방전은 오직 discharge disks와 유전체 장벽 사이의 틈에서만 발생되었고 나머지 구역에서는 방전이 발생되지 않았다. 따라서 방전이 발생되지 않은 구역이 프로페인, C4 탄화수소 및 다른 탄화수소의 homologation을 촉진하였다."
   ]
  },
  {
   "cell_type": "markdown",
   "metadata": {},
   "source": [
    "3.2 가스 공급 유속의 영향\n",
    "![Fig6](./fig/fig_6.png)\n",
    "\n",
    "$$32W에서 가스 공급 유속에 따른 Type A, B에서의 전환율 비교$$\n",
    "\n",
    "유속 증가할 때 두 반응기 모두 전환율 감소. 유속에 관계없이 B의 전환율이 A보다 높음."
   ]
  },
  {
   "cell_type": "markdown",
   "metadata": {},
   "source": [
    "![Fig7](./fig/fig_7.png)\n",
    "$$ 32W에서 유속과 PCS의 관계$$\n",
    "\n",
    "$F0$ 25ml/min 이하에서 PCS는 $F0$의 변화에 영향 받지 않음<br>\n",
    "Type A 반응기에서 $F0$ 50ml/min일 때 에테인의 PCS는 약간 증가, C2및 다른 높은 탄화수소의 PCS는 감소<br>\n",
    "Type B 반응기에서 $F0$ 50ml/min일 때 에테인의 PCS는 약간 증가, 아세틸렌, 프로페인 및 C4 탄화수소의 PCS는 감소\n",
    "\n",
    "50ml/min에서 A에서의 아세틸렌의 PCS가 더 높음.\n",
    "\n",
    "discharge disk 사이 간격의 존재가 생성물의 분해와 $C_{2}H_{5}$, $C_{2}H_{3}$, $C_{2}H$의 결합을 향상시킨다고 생각할 수 있고, 따라서 유속이 증가하고 discharge disk 사이의 간격이 없을 때인 A에서 CH와 다른 탄화수소가 유전체와 discharge disck 사이의 틈에서 반응할 가능성이 없어 $C_{2}H_{2}$의 PCS의 증가가 나타난다."
   ]
  },
  {
   "cell_type": "markdown",
   "metadata": {},
   "source": [
    "![Fig8](./fig/fig_8.png)\n",
    "\n",
    "$$3W에서 가스 공급 유속에 따른 Type A, B에서의 전환율 비교$$\n",
    "\n",
    "$F0$의 증가에 따라 전환률은 감소하였고 32W에서와 경향성은 비슷하다. 그러나 모든 $F0$범위에서 Type A의 전환률이 B보다 높았다. 전력이 낮을 때 B의 틈에서 방전이 더 어렵게 얻어진다고 추정하였다."
   ]
  },
  {
   "cell_type": "markdown",
   "metadata": {},
   "source": [
    "![Fig9](./fig/fig_9.png)\n",
    "\n",
    "$$ 3W에서 유속과 PCS의 관계$$\n",
    "\n",
    "Type A 반응기에서 $F0$ 50ml/min일 때 에틸렌의 PCS가 증가하였고, 에테인, 에틸렌, 프로페인은 50ml/min에서만 얻어졌다."
   ]
  },
  {
   "cell_type": "markdown",
   "metadata": {},
   "source": [
    "** 4. Conclusion**\n",
    "\n",
    "discharge disk 사이 간격의 존재가 메테인의 전환율을 높이고 homologation 반응을 돕는다."
   ]
  }
 ],
 "metadata": {
  "kernelspec": {
   "display_name": "Python 3",
   "language": "python",
   "name": "python3"
  },
  "language_info": {
   "codemirror_mode": {
    "name": "ipython",
    "version": 3
   },
   "file_extension": ".py",
   "mimetype": "text/x-python",
   "name": "python",
   "nbconvert_exporter": "python",
   "pygments_lexer": "ipython3",
   "version": "3.6.1"
  }
 },
 "nbformat": 4,
 "nbformat_minor": 2
}
