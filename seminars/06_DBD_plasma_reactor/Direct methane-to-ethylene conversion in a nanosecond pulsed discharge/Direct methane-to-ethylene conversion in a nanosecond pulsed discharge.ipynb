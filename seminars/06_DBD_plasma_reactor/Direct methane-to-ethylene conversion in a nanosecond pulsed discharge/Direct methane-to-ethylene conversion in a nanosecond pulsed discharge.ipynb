{
 "cells": [
  {
   "cell_type": "markdown",
   "metadata": {},
   "source": [
    "## Direct methane-to-ethylene conversion in a nanosecond pulsed discharge"
   ]
  },
  {
   "cell_type": "markdown",
   "metadata": {},
   "source": [
    "<br>\n",
    "**요약**\n",
    "\n",
    "\n",
    "가스상 플라즈마가 보조하는 비산소성 메테인 결합은 한 단계당 20%의 수율로 주생성물 에틸렌을 형성할 수 있다. 이는 신속한 생성물 급랭 속도를 특징으로 하는 나노초 펄스 방출 반응기(NPD)에서, CH4:H2=1:1 의 비율을 갖는 수소 공급비(재활용 가능한), NPD가 점화되는 5bar의 높은 압력에서 얻어진다."
   ]
  },
  {
   "cell_type": "markdown",
   "metadata": {},
   "source": [
    "**1. Introduction**\n",
    "<br>\n",
    "\n",
    "메테인을 에틸렌으로 변환하는 간단하고 확장가능하며 효율적인 과정이 요구된다.\n",
    "\n",
    "<br>\n",
    "메테인 결합에 관해서 플라즈마는 에틸렌에 선택적이지 않다. 높은 에너지 밀도 방전에서 아세틸렌과 탄소가 주된 생성물인 반면에, dielectric barrier discharges (DBD) 또는 다른 낮은 에너지 밀도 방전에서는 에테인이 주로 형성된다.\n",
    "<br>\n",
    "DBD 및 낮은 에너지 밀도 방전에서 전자 충격 반응은 방전시 CH3 라디칼의 형성을 유발하며 낮은 온도에서 CH3 라디칼의 재결합으로 에테인과 프로페인이 유도된다. 감소됐던 전기장을 증가시킴으로써, 분열 패턴은 CH3에서 CH2로, CH 및 C 라디칼로 이동된다. 이러한 전자 충격 반응의 임계값은 비교 가능하여 CH2라디칼(에틸렌 전구체)의 주목할만한 농축은 달성되지 않으며, 따라서 에틸렌 형성은 제한적이다.\n",
    "<br>\n",
    "methane 결합과 탈수소 반응은 단계적으로 진행.<br>\n",
    "(methane→ ethane→ethylene→acetylene→carbon) <br>\n",
    "에틸렌 형성은 $10^{-6} - 10^{-5}s$ 필요, 아세틸렌은 $10^{-5} - 10^{-4} s$ 필요\n",
    "<br>"
   ]
  },
  {
   "cell_type": "markdown",
   "metadata": {},
   "source": [
    "Nanosecond Pulsed Discharge (NPD) 기술은 높은 급랭 속도로 에틸렌에서 아세틸렌으로의 탈수소 반응을 억제할 수 있다. NPD는 전압상승속도가 $kVns^{−1}$ 이상이고 펄스 지속 시간이 수십 $ns$ 범위인 나노 단위 펄스 공급 장치를 사용하여 생성된다. 이러한 조건에서는 아크가 방지되고 평형적이지 않은 플라즈마가 유지된다. 메테인 결합의 경우 전극 사이에 활성 채널의 스파크가 발생한다. 방출 중 활성 채널의 온도는 수십 $ns$에서 빠르게 증가하고 수천 $K$에 이르며, 열 구동 반응도 활성화한다. 이러한 빠른 가열 속도는 메테인 결합에 필요한 요건은 아니지만 고온에 도달하는 능력은 화학반응에 영향을 미친다. 메테인은 $1000K$에서 수소 라디칼에 의해 탈수될 수 있고, 에테인의 에틸렌으로의 탈수 후 아세틸렌이 되는 반응이 $1300K$에서 수소 라디칼에 의해 활성화 될 수 있다. 종합적으로, 메테인 전환과 불포화 탄화수소 선택성이 모두 증가한다. 높은 온도는 상당한 양의 탄소를 유도하기 때문에 피해야 한다."
   ]
  },
  {
   "cell_type": "markdown",
   "metadata": {},
   "source": [
    "**2. Meterials and methods**"
   ]
  },
  {
   "cell_type": "markdown",
   "metadata": {},
   "source": [
    "![Fig1](./fig/Fig1.jpg)"
   ]
  },
  {
   "cell_type": "markdown",
   "metadata": {
    "collapsed": true
   },
   "source": [
    "**3. Results and discussion**\n",
    "\n",
    "메테인 결합에서 NPD의 장점이 미치는 영향 조사. 스트리머에서 스파크로의 방전은 원자로 내의 나노초 펄스 전원 공급에 의해 발생하며, 방출 주변의 중공-원곡선 형태의 부피의 3% 정도만 커버하며, 이는 스트리머 직경과 플라스마 원자로 단면적에 의해 정의된다. 이러한 제한된 화학적 활성 구역의 존재가 급격한 생성물 급랭과 생성물 선택도를 유발한다.\n",
    "\n",
    "**플라즈마 반응기 압력의 영향**<br>\n",
    "압력의 증가는 높은 분자 밀도로 인해 감소한 전자 평균 자유 이동 경로에 의해 항복전압의 증가를 야기한다. 따라서 방전을 발생시키고 유지시키기 위해 더 센 전기장이 요구된다. 또한 압력증가에 따른 낮은 전류값에 의해 플라즈마 활성 면적도 작아진다. 압력은 전자와 분자의 충돌 빈도와 전자 평균 에너지를 결정한다.<br>\n",
    "압력의 증가는 a) 열적 평형에 계를 도달시키는 더 빈번한 충돌과 b) 낮은 평균 전자 에너지에 따른 약한 충돌을 야기한다."
   ]
  },
  {
   "cell_type": "markdown",
   "metadata": {},
   "source": [
    "![Fig3](./fig/fig3.png)\n",
    "\n",
    "Methane 전환률\n",
    "* 1bar->3.3bar : 21%->32%로 증가. – 높은 빈도와 전자 분자의 충돌로 인해.\n",
    "* 5ba에서는 3.3bar와 비슷. – 낮은 discharge 에너지로 인해.<br>\n",
    "압력 증가 하나만으로는 에틸렌 형성을 촉진시키지 않음. (덜 활동적인 전자-분자 충돌로 인해)"
   ]
  },
  {
   "cell_type": "markdown",
   "metadata": {},
   "source": [
    "**공급물 수소 함량과 압력증가의 합동 영향**\n",
    "![Fig4](./fig/fig4.png)\n",
    "5bar, CH4:H2=1:1에서 에틸렌 수율 19.5%로 최대. 이 조건에서 아세틸렌 수율은 1%이나 탄소 부족은 최대 17%의 값을 갖는다. 이는 높은 양의 탄소와 무거운 물질들이 생성됨을 의미한다. 이러한 조건의 정상상태에서 시스템이 작동될 때 플라즈마 구역에서 메테인이 쪼개질 때 수소가 발생되므로 추가적인 산소 공급원이 요구되지 않는다."
   ]
  },
  {
   "cell_type": "markdown",
   "metadata": {},
   "source": [
    "**4. Conclusion**<br>\n",
    "NPD는 메테인의 에틸렌으로의 직접적인 결합에 있어서 효과적이다.<br>\n",
    "5bar의 압력과 $CH_4:H_2 = 1:1$의 공급물 수소 함량에서 약 20%의 에틸렌 수율을 얻는다. 플라즈마 반응을 통해 종래의 열 촉매 방법을 이용한 수율과 비슷한 값을 얻지만 촉매가 필요하지 않고 출구 벌크 가스의 온도가 650K에서 750K으로 상대적으로 낮다는 장점이 있다."
   ]
  }
 ],
 "metadata": {
  "kernelspec": {
   "display_name": "Python 3",
   "language": "python",
   "name": "python3"
  },
  "language_info": {
   "codemirror_mode": {
    "name": "ipython",
    "version": 3
   },
   "file_extension": ".py",
   "mimetype": "text/x-python",
   "name": "python",
   "nbconvert_exporter": "python",
   "pygments_lexer": "ipython3",
   "version": "3.6.1"
  }
 },
 "nbformat": 4,
 "nbformat_minor": 2
}
