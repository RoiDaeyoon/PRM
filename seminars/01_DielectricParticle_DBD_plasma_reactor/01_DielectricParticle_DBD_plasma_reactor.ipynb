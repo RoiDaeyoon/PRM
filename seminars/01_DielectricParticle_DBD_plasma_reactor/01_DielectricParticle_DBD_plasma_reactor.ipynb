{
 "cells": [
  {
   "cell_type": "markdown",
   "metadata": {},
   "source": [
    "## Effects of dielectric particles on non-oxidative coupling of methane in a dielectric barrier discharge plasma reactor"
   ]
  },
  {
   "cell_type": "markdown",
   "metadata": {},
   "source": [
    "<br>\n",
    "**메탄의 비산화 커플링반응**에 있어서, 유전장벽방출(DBD) 플라즈마 반응기 내에 존재하는 **유전 입자의 영향력**"
   ]
  },
  {
   "cell_type": "markdown",
   "metadata": {},
   "source": [
    "<br>\n",
    "**[ 요약 ]**\n",
    "<br>\n",
    "\n",
    "**M size 입자가 최대 Conversion을 지니는 원리**\n",
    "\n",
    "1. 유전 입자의 크기 : M ( = 유전 입자 간의 gap : M )\n",
    "2. 입자 간 문턱전압의 차이 : 최소\n",
    "3. Microdischarge 횟수 : 최다 \n",
    "4. Microdischarge 세기 : 중강도 ( 크기 비례 )\n",
    "5. 전하 전달 능력 : 최대\n",
    "6. Conversion level : 최대\n",
    "<br>\n",
    "\n",
    "**S size 입자가 최고 Selectivity를 가지는 원리**\n",
    "\n",
    "1. 라디칼 개시 : 보통 ( S 입자가 가지는 Conversion level은 M 보다 낮은 수준 )\n",
    "2. 반응 공간 : 감소 ( 반응물 간의 충돌 가능성 증가)\n",
    "2. 탄화수소 결합 : 최대 ( 커플링 반응 ) "
   ]
  },
  {
   "cell_type": "markdown",
   "metadata": {},
   "source": [
    "<br>\n",
    "\n",
    "### 1. 초록"
   ]
  },
  {
   "cell_type": "markdown",
   "metadata": {},
   "source": [
    "<img src=\".\\01_Fig\\1.png\" \"width=700\" />"
   ]
  },
  {
   "cell_type": "markdown",
   "metadata": {},
   "source": [
    "**1) 반응기 장점**\n",
    "<br>\n",
    "- 상온, 대기압 조건에서 반응한다.\n",
    "- 라디칼 활성화 과정이 단조롭다. \n",
    "  - 촉매, 열 에너지, 산화물이 필요 없음.\n",
    "\n",
    "<br>\n",
    "**2) 실험 특징 **\n",
    "<br>\n",
    "\n",
    "- 유전 입자 간의 gap distance \n",
    "  - conversion, selectivity (to unsaturated C2)에 중대한 영향을 미친다.\n",
    "  - gap distance는 유전 입자의 크기가 결정한다. (실험적 결과 추정)\n",
    "<br>\n",
    "\n",
    "\n",
    "- Newly developed concept of micro-electrodes\n",
    "  - 특정 gap distance(입자크기:M)에서의 최대 conversion 현상을 설명할 수 있다.\n",
    "    - threshold electric potential difference(문턱전압 차이)의 계산 필요 : 유전 입자 간의 문턱전압 차이가 minimum일 때 conversion이 maximum이 된다.\n",
    "<br>\n",
    "\n",
    "\n",
    "- material species, porosity and particle size.\n",
    "  - selectivity에 영향을 미친다."
   ]
  },
  {
   "cell_type": "markdown",
   "metadata": {},
   "source": [
    "<br>\n",
    "\n",
    "$$※ Micro-electrodes\\ 개념의\\ 적용 ※$$\n"
   ]
  },
  {
   "cell_type": "markdown",
   "metadata": {},
   "source": [
    "<img src=\".\\01_Fig\\2.png\" \"width=130\" />"
   ]
  },
  {
   "cell_type": "markdown",
   "metadata": {},
   "source": [
    "- 외부 전압에 의해 유전체 표면에 전하가 발생한다. 이 때, 양 끝의 입자 표면을 electrode(전극)이라고 볼 수 있다.\n",
    " - 붉은색 : 음극\n",
    " - 파란색 : 양극"
   ]
  },
  {
   "cell_type": "markdown",
   "metadata": {},
   "source": [
    "###  2. 실험"
   ]
  },
  {
   "cell_type": "markdown",
   "metadata": {},
   "source": [
    "**1) 실험 조건**\n",
    "<br>\n",
    "\n",
    "- 총 메탄 혼합물의 체적 유량(CH4:N2=1:1) : 40 표준 입방 센티미터(sccm)\n",
    "- 총 반응 시간 : 1000분\n",
    "- 플라즈마 베드의 유전 장벽(알루미나 튜브) : 내경 6mm, 두께 2mm\n",
    "- Powered electrode(동력 전극) : 3mm 직경의 스테인리스 스틸 로드\n",
    "- Ground electrode(접지 전극) : 강철 와이어, 방출 구역을 모두 덮고 있음\n",
    "- 방출 간격 : 1.5mm (알루미나 튜브의 내부 표면과 고압 전극 사이의 간격)\n",
    "- 방출 길이(가로) : 150mm\n",
    "- 방출 영역 체적 : 3.181cm3\n",
    "- 공간 속도(SV, volume 기반) : 754.5h-1\n",
    "- 유전 입자 fully packed\n",
    "- 사인파 AC 전원(0–220V, 60–1000Hz)을 변압기(0–20kV, 1000Hz)에 연결 (고전압 유발)\n",
    "- 플라즈마 베드에 인가된 전압, 주파수 : 15 kV, 1 kHz\n"
   ]
  },
  {
   "cell_type": "markdown",
   "metadata": {},
   "source": [
    "<img src=\".\\01_Fig\\3.png\" \"width=600\" />"
   ]
  },
  {
   "cell_type": "markdown",
   "metadata": {},
   "source": [
    "<img src=\".\\01_Fig\\4.png\" \"width=350\" />"
   ]
  },
  {
   "cell_type": "markdown",
   "metadata": {},
   "source": [
    "**2) 전기적 요소 측정 방법**\n",
    "- 플라즈마 베드에 인가되는 전압 : 고전압 프로브(HV probe)를 사용하여 측정\n",
    "- 캐패시터(1μF 정전용량)의 전압 : 각 측면에 연결된 전압 프로브를 사용하여 측정\n",
    "- DBD 플라즈마 베드의 전류 프로파일 : 접지 전극에 전류 프로브를 연결하여 측정\n",
    "<br>※ 모든 프로브는 디지털 오실로스코프에 연결\n",
    "<br>\n",
    "\n",
    "\n",
    "플라즈마 베드의 누적 전하는 콘덴서의 전압과 캐패시터의 정전 용량(1μF)을 곱하여 계산되었다.\n",
    "<br>또한, 방전 전력은 측정된 전압(V)과 충전(Q) Lissajous 플롯을 사용하여 표 2에서 계산하였다. (Lissajous method)"
   ]
  },
  {
   "cell_type": "markdown",
   "metadata": {},
   "source": [
    "**3) 유전 입자**\n",
    "\n",
    "- α-Al2O3, sea sand, and KIT-6 사용\n",
    "- All materials were separated to three groups (S, M, and L; 0 < S < 53 < M < 100 < L < 150 μm)"
   ]
  },
  {
   "cell_type": "markdown",
   "metadata": {},
   "source": [
    "### 3. 결과"
   ]
  },
  {
   "cell_type": "markdown",
   "metadata": {},
   "source": [
    "** 1) 유전 입자**"
   ]
  },
  {
   "cell_type": "markdown",
   "metadata": {},
   "source": [
    "- SEM 분석에 의한 그림이 제시되었다.\n",
    "- 분리해 놓은 입자 별로, gap distance의 분포에 대해 확인할 수 있다.\n",
    "<br> (입자 사이 간격은 입자의 크기와 매우 관련이 높은 것으로 확인되었다.)"
   ]
  },
  {
   "cell_type": "markdown",
   "metadata": {},
   "source": [
    "<img src=\".\\01_Fig\\5.png\" \"width=600\" />"
   ]
  },
  {
   "cell_type": "markdown",
   "metadata": {},
   "source": [
    "<img src=\".\\01_Fig\\6.png\" \"width=600\" />"
   ]
  },
  {
   "cell_type": "markdown",
   "metadata": {},
   "source": [
    "<br>\n",
    "\n",
    "**2) Plasma streamer 발생 메커니즘**\n",
    "\n",
    "1. streamer가 유전 입자를 덮는다.\n",
    "2. intensity of local electric field is enhanced : due to photoionization (광이온화)\n",
    "3. electrons are seeded from the bottom surface of the particles\n",
    "4. launch new streamers\n",
    "5. nitrogen and the methane molecules가 전자와 충돌하여 이온화 된다.\n",
    "6. the generated positive ions are accelerated to cathode-like surface and collide with the surface.\n",
    "7. produces secondary electrons : sustain the streamers"
   ]
  },
  {
   "cell_type": "markdown",
   "metadata": {},
   "source": [
    "<img src=\".\\01_Fig\\7.png\" \"width=400\" />"
   ]
  },
  {
   "cell_type": "markdown",
   "metadata": {},
   "source": [
    "<br>\n",
    "\n",
    "**2) Activity tests in the DBD plasma bed **"
   ]
  },
  {
   "cell_type": "markdown",
   "metadata": {},
   "source": [
    "    ※ 용어 참고 ※\n",
    "\n",
    "    1. 항복 전압 (Breakdown voltage)\n",
    "    항복 현상을 일으키는 전압 (본 논문에서는 Avalanche 항복 현상을 의미)\n",
    "    \n",
    "        (Avalanche 항복 현상)\n",
    "        기체의 절연파괴현상이 발생하기 직전에 전자가 다른 기체원자 혹은 이온들과 충돌을 일으키면서 \n",
    "        또 다른 전자들을 생성시키는데 이 때 생성된 전자들의 수가 지수 함수적으로 증가하는 현상\n",
    "    \n",
    "    2. 문턱 전압 (Threshold voltage, Threshold electric potential)\n",
    "    전류의 흐름이 변하도록(발생하도록)하는 전압의 임계점.(전위 장벽에 해당하는 전압)\n",
    "    \n",
    "<br>\n"
   ]
  },
  {
   "cell_type": "markdown",
   "metadata": {},
   "source": [
    "<img src=\".\\01_Fig\\8.png\" \"width=500\" />"
   ]
  },
  {
   "cell_type": "markdown",
   "metadata": {},
   "source": [
    "<br>\n",
    "- 전자 가속의 증가로 인해 공유결합 파괴, 전자의 양이 증가하고 activate 되는 현상이 플라즈마 방전과 유사하다.\n",
    "- 본문에서는 'micro-electrode concept'을 활용, 입자 간의 '문턱 전압 차이'를 '항복 전압'과 유사하다고 간주하였다.\n"
   ]
  },
  {
   "cell_type": "markdown",
   "metadata": {},
   "source": [
    "<br>\n",
    "**a. Packed-bed DBD plasma의 특징**\n",
    "- 높은 Conversion level을 가짐\n",
    " - Dielectric particles로 인한 전기장 세기 증가 등 다양한 원인\n",
    "- 높은 Selectivities of C2 chemicals를 가짐\n",
    "- Streamers ( + Microdischarges )의 발생\n",
    " - High voltage와 dielectric barrier로 인해 발생한다.\n",
    "<br>\n",
    "<br>\n",
    "\n",
    "**b. Conversion**\n",
    "- Middle-sized particles에서 Maximum\n",
    " - Material에 무관하게 같은 결과를 나타낸다. : Size가 주된 요인\n",
    "- 기존 reports[34,48,49]에 따르면, 낮은 'Breakdown voltage'는 더 높은 conversion을 야기했다.\n",
    " - Microelectrodes 개념에 의하면, '입자 간 문턱전압의 차이'는 'Breakdown voltage'로 간주할 수 있다.\n",
    "<br>\n",
    "<br>\n",
    "\n",
    "\n",
    "    Maximum conversion은 \n",
    "    Threshold electric potential difference 값이 최소일 때 나타나므로, \n",
    "    이 값을 계산할 수 있어야 한다. \n",
    "    \n",
    "    따라서, 이 값을 계산하기 위해 변형된 파스켄 방정식을 제안했다.\n",
    "\n",
    "<br>\n",
    "<br>\n",
    "\n",
    "\n",
    "**c. Paschen’s equation (modified)**\n",
    "- Electrode 간의 'Breakdown voltage(항복전압)'을 계산하는 '기존의 파스켄 방정식'을 변형시킨 것이다.\n",
    " - 유전 입자의 '유도 표면 전하'를 'Electrode'로 가정\n",
    "<br>\n",
    "<br>\n",
    "\n",
    "**d. 유전 입자 간의 문턱전압 차이 계산. (The threshold electric potential difference)**\n",
    "- γ값(secondary electron emission coefficient)을 통해 구할 수 있다.\n",
    " - γ값 구하는 방법 : Maximum conversion에서의 'gap distance'와 '변형된 파스켄 방정식'을 활용하여 구한다.\n",
    "<br>(The γ is generally known as very difficult to estimate exact value because it is affected by numerous factors)"
   ]
  },
  {
   "cell_type": "markdown",
   "metadata": {},
   "source": [
    "<br>\n",
    "\n",
    "\n",
    "**3) Effects of microdischarge**"
   ]
  },
  {
   "cell_type": "markdown",
   "metadata": {},
   "source": [
    "실험 도중 전류의 pulse 흐름이 다수 관찰된다. 이는 plasma bed에서 microdischarge의 발생을 의미한다."
   ]
  },
  {
   "cell_type": "markdown",
   "metadata": {},
   "source": [
    "<br>\n",
    "**Microdischarge**\n",
    "<br>\n",
    "- Packed-bed\n",
    "  - Packed-bed에서 더 강하고 많은 microdischarge가 관찰된다. \n",
    "  - 유전입자가 microdischarge의 세기와 횟수 증가를 유발\n",
    "<br>\n",
    "\n",
    "\n",
    "- Capability of charge transfer (전하 전달 능력)\n",
    " - Methane의 활성화 능력과 같다. : conversion level과 직결됨\n",
    " - Microdischarge 횟수와 세기에 의해 결정된다.\n",
    "<br> \n",
    "\n",
    "\n",
    "- Microdischarge 횟수\n",
    "  - Microdischarge 횟수는 항복 전압에 반비례한다.\n",
    "  - 유전입자의 크기에 따라 Microdischarge 횟수가 변한다.\n",
    "   - 요인 1 : 특정 표면적(specific surface)의 첨가(additive) 효과\n",
    "   - 요인 2 : 유전 입자의 전기용량(capacitance)\n",
    "<br>     ( = 유전 입자의 전기적 특성 )\n",
    "<br>\n",
    "\n",
    "\n",
    "- Microdischarge 세기\n",
    "  - 유전 입자 크기가 증가할 경우, 각 Microdischarge의 세기도 증가한다.\n",
    "  \n",
    "\n",
    "<br>\n",
    "따라서, **유전 입자의 크기가 M** 일때 **전하 전달 능력은 최대**이다. **중강도**의 **Microdischarge 횟수**가 가장 많기 때문이다.\n",
    "\n"
   ]
  },
  {
   "cell_type": "markdown",
   "metadata": {},
   "source": [
    "<br>\n",
    "\n",
    "**※ 항복 전압 (문턱 전압 차이) vs Microdischarge vs 전하 전달 능력 ※ **\n",
    "\n",
    " - **항복 전압**이 **감소**할 때, **Microdischarge**의 **횟수**가 **증가**한다.\n",
    " - **전하 전달 능력**을 판단하려면, **Microdischarge**의 **횟수**와 **세기**가 모두 고려돼야 한다.\n",
    " - **전하 전달 능력**이 커질수록 **메탄의 활성화**가 증가하고, 이는 **Conversion level**에 직접적인 영향을 미친다.\n"
   ]
  },
  {
   "cell_type": "markdown",
   "metadata": {},
   "source": [
    "<br>\n",
    "\n",
    "\n",
    "[결론]\n",
    "<br> \n",
    "\n",
    "유전 입자의 크기가 M인 경우 Conversion level이 Maximum이다.\n",
    "<br> \n",
    "\n",
    "이 경우 특징은 다음과 같다.\n",
    "1. 전하 전달 능력 최대\n",
    "2. 최소 항복 전압\n",
    "3. 최대 Microdischarge 횟수\n",
    "4. 중강도의 Microdischarge 세기"
   ]
  },
  {
   "cell_type": "markdown",
   "metadata": {},
   "source": [
    "<br>\n",
    "\n",
    "\n",
    "**4) Reaction pathway **"
   ]
  },
  {
   "cell_type": "markdown",
   "metadata": {},
   "source": [
    "Methane의 활성화 이후, 탈수소화, 커플링반응, 체인반응 등이 발생한다. 반응에 대한 여러가지 경로는 논문에 소개되어 있다."
   ]
  },
  {
   "cell_type": "markdown",
   "metadata": {},
   "source": [
    "<br>\n",
    "\n",
    "**Selectivity**\n",
    "\n",
    "- 탄화수소 선택성 : 입자 크기가 작아질수록 선택성은 증가한다. (unsaturated C2, total hydrocarbons selectivity (selectivity for C2 - C4))\n",
    " - 원인 : 빈공간의 감소 ( 반응 공간 감소 ) \n",
    "\n",
    "<br>\n",
    "\n",
    "        ( 빈공간의 감소가 미치는 영향 )\n",
    "        \n",
    "        라디칼 활성의 유지 시간이 매우 짧기 때문에, 이에 대한 영향이 크다.\n",
    "        \n",
    "        작은 크기 입자의 경우 빈공간이 감소했기 때문에,\n",
    "        탈수소화 된 종(CH2, CH 등)의 충돌 가능성이 높아졌다.  \n",
    "        결국, 불포화 C2 화학물질로 더 많이 결합하였다. \n",
    "       \n",
    "\n",
    "<br>  \n",
    "- 2가지 커플링 반응 route : Unsaturated C2 생성 ( CHx 종의 탈수소화 이후의 경로, mechanism by Liu )\n",
    "   - 경로 1 : CH3 라디칼 + CH3 라디칼 -> C2H6 (ethane) or C2H5 species -> 탈수소화 진행\n",
    "   - 경로 2 : CH3 라디칼 -> 탈수소화 -> CH2 or CH -> directly coupled into C2H4 and C2H2\n",
    "   "
   ]
  },
  {
   "cell_type": "markdown",
   "metadata": {},
   "source": [
    "<br>\n",
    "\n",
    "[최종 결론]\n",
    "\n",
    "M size의 입자일 때 : Maximum Conversion\n",
    "<br>S size의 입자일 때 : Highest Selectivity\n",
    "\n",
    "<br>**입자 크기의 조절을 통해 'Conversion level'과 '충돌 공간 크기'(Selectivity를 좌우하는 요소)를 결정할 수 있다.**\n",
    "<br>**이들의 관계를 토대로 탄화수소 수율을 최적화 할 수 있다.**"
   ]
  }
 ],
 "metadata": {
  "kernelspec": {
   "display_name": "Python 3",
   "language": "python",
   "name": "python3"
  },
  "language_info": {
   "codemirror_mode": {
    "name": "ipython",
    "version": 3
   },
   "file_extension": ".py",
   "mimetype": "text/x-python",
   "name": "python",
   "nbconvert_exporter": "python",
   "pygments_lexer": "ipython3",
   "version": "3.6.5"
  }
 },
 "nbformat": 4,
 "nbformat_minor": 2
}
