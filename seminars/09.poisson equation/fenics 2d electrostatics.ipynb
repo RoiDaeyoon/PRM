{
 "cells": [
  {
   "cell_type": "code",
   "execution_count": 1,
   "metadata": {},
   "outputs": [],
   "source": [
    "# 해당 jupyter notebook은 docker를 통한 fenics를 설치한 후 실행해야합니다.\n",
    "import fenics as fn\n",
    "\n",
    "mesh = fn.Mesh('geo.xml')\n",
    "markers = fn.MeshFunction(\"size_t\", mesh, 'geo_physical_region.xml')\n",
    "boundaries = fn.MeshFunction('size_t', mesh, 'geo_facet_region.xml')\n",
    "dx = fn.Measure('dx', domain=mesh, subdomain_data=markers)\n",
    "V = fn.FunctionSpace(mesh, 'Lagrange', 1)\n",
    "\n",
    "inner_boundary = fn.DirichletBC(V, fn.Constant(5.0), boundaries, 2)\n",
    "outer_boundary = fn.DirichletBC(V, fn.Constant(0), boundaries, 3)\n",
    "bcs =[inner_boundary, outer_boundary]\n",
    "\n",
    "u = fn.TrialFunction(V)\n",
    "v = fn.TestFunction(V)\n",
    "a = fn.dot(fn.grad(u), fn.grad(v)) * fn.dx\n",
    "L = fn.Constant('0') * v * fn.dx\n",
    "u = fn.Function(V)\n",
    "fn.solve(a == L, u, bcs)\n",
    "\n",
    "electric_field = -fn.grad(u)\n",
    "\n",
    "potentialFile = fn.File('output/potential.pvd')\n",
    "potentialFile << u\n",
    "\n",
    "vtkfile = fn.File('output/e_field.pvd')\n",
    "vtkfile << fn.project(electric_field)\n"
   ]
  },
  {
   "cell_type": "code",
   "execution_count": null,
   "metadata": {},
   "outputs": [],
   "source": []
  }
 ],
 "metadata": {
  "kernelspec": {
   "display_name": "Python 3",
   "language": "python",
   "name": "python3"
  },
  "language_info": {
   "codemirror_mode": {
    "name": "ipython",
    "version": 3
   },
   "file_extension": ".py",
   "mimetype": "text/x-python",
   "name": "python",
   "nbconvert_exporter": "python",
   "pygments_lexer": "ipython3",
   "version": "3.6.7"
  }
 },
 "nbformat": 4,
 "nbformat_minor": 2
}
