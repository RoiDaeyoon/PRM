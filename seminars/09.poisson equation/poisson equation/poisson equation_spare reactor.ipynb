{
 "cells": [
  {
   "cell_type": "code",
   "execution_count": 1,
   "metadata": {},
   "outputs": [],
   "source": [
    "from fenics import *\n",
    "from dolfin import *\n",
    "from mshr import *"
   ]
  },
  {
   "cell_type": "code",
   "execution_count": 17,
   "metadata": {},
   "outputs": [],
   "source": [
    "# create Mesh\n",
    "domain1 = Circle(Point(0, 0), 1.5)\n",
    "domain2 = Circle(Point(0, 0), 3)\n",
    "domain = domain2 - domain1\n",
    "mesh = generate_mesh(domain, 50)\n",
    "epsilon_0 = 1\n",
    "epsilon_e = 1\n",
    "X = FunctionSpace(mesh, 'P', 1)"
   ]
  },
  {
   "cell_type": "code",
   "execution_count": 18,
   "metadata": {},
   "outputs": [],
   "source": [
    "# Define boundry condition\n",
    "#V_D = Expression('0.5 + x[0]',degree=1)\n",
    "#r = Expression(\"sqrt(x[0]*x[0]+x[1]*x[1])\", degree=1)\n",
    "#theta = Expression(\"atan2(x[1],x[0])\", degree=1)\n",
    "#V_O = Expression(\"1/r\",r=r,t=theta, degree=2)\n",
    "#V_I = Expression(\"15\",r=1.5,t=theta, degree=2)\n",
    "#def boundry(r, on_boundry):\n",
    "#    return on_boundry\n",
    "\n",
    "#bc1 = DirichletBC(X, V_O, boundry)\n",
    "#bc2 = DirichletBC(X, V_I, boundry)\n",
    "#bc = [bc2,bc1]"
   ]
  },
  {
   "cell_type": "code",
   "execution_count": 19,
   "metadata": {},
   "outputs": [],
   "source": [
    "r = Expression(\"sqrt(x[0]*x[0]+x[1]*x[1])\", degree=1)\n",
    "theta = Expression(\"atan2(x[1],x[0])\", degree=1)\n",
    "tol = 1E-3\n",
    "def outer_boundary(x, on_boundary):\n",
    "    return on_boundary and sqrt(x[0]*x[0]+x[1]*x[1]) > 3-tol\n",
    "\n",
    "def inner_boundary(x, on_boundary):\n",
    "    return on_boundary and (sqrt(x[0]*x[0]+x[1]*x[1])<1.5 + tol)\n",
    "\n",
    "bc = [DirichletBC(X, Expression(\"0\",r=r,t=theta, degree=2), outer_boundary),\n",
    "       DirichletBC(X, Expression(\"15\",r=r,t=theta, degree=2), inner_boundary)]"
   ]
  },
  {
   "cell_type": "code",
   "execution_count": 20,
   "metadata": {},
   "outputs": [],
   "source": [
    "# Define variational proble\n",
    "V = TrialFunction(X)\n",
    "v = TestFunction(X)\n",
    "rho = Constant(0.5)\n",
    "a = dot(grad(epsilon_0*epsilon_e*V), grad(v))*dx\n",
    "L = rho*v*dx"
   ]
  },
  {
   "cell_type": "code",
   "execution_count": 21,
   "metadata": {},
   "outputs": [],
   "source": [
    "# Compute solution\n",
    "V = Function(X)\n",
    "solve(a == L, V, bc)"
   ]
  },
  {
   "cell_type": "code",
   "execution_count": 22,
   "metadata": {},
   "outputs": [
    {
     "data": {
      "text/plain": [
       "<matplotlib.tri.tricontour.TriContourSet at 0x7f316305c550>"
      ]
     },
     "execution_count": 22,
     "metadata": {},
     "output_type": "execute_result"
    },
    {
     "data": {
      "image/png": "[encoded data removed]",
      "text/plain": [
       "<Figure size 432x288 with 1 Axes>"
      ]
     },
     "metadata": {
      "needs_background": "light"
     },
     "output_type": "display_data"
    }
   ],
   "source": [
    "plot(V)"
   ]
  },
  {
   "cell_type": "code",
   "execution_count": 23,
   "metadata": {},
   "outputs": [],
   "source": [
    "vtkfile_V = File('poisson/voltage.pvd')\n",
    "vtkfile_V << V"
   ]
  }
 ],
 "metadata": {
  "kernelspec": {
   "display_name": "Python 3",
   "language": "python",
   "name": "python3"
  },
  "language_info": {
   "codemirror_mode": {
    "name": "ipython",
    "version": 3
   },
   "file_extension": ".py",
   "mimetype": "text/x-python",
   "name": "python",
   "nbconvert_exporter": "python",
   "pygments_lexer": "ipython3",
   "version": "3.6.7"
  }
 },
 "nbformat": 4,
 "nbformat_minor": 2
}
