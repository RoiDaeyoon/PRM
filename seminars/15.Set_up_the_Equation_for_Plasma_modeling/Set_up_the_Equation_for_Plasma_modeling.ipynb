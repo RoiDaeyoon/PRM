{
 "cells": [
  {
   "cell_type": "markdown",
   "metadata": {},
   "source": [
    "# Set up the Equation for Plasma modeling"
   ]
  },
  {
   "cell_type": "markdown",
   "metadata": {},
   "source": [
    "참고문헌 :  MODELING OF MICRODISCHARGES FOR DISPLAY TECHNOLOGY"
   ]
  },
  {
   "cell_type": "markdown",
   "metadata": {},
   "source": [
    "### 1. Main Equation"
   ]
  },
  {
   "cell_type": "markdown",
   "metadata": {},
   "source": [
    "- Self-consistent를 통해, 다음 두 가지의 Eq'n을 풀이하는 것이 최종 목적이다."
   ]
  },
  {
   "cell_type": "markdown",
   "metadata": {},
   "source": [
    "### $\\ \\ \\ $ Boltzmann Continuity Eq'n\n",
    "### $\\ \\ \\ \\ \\ \\ $(1) $\\frac{\\partial n_p}{\\partial t}+\\nabla \\cdot \\mathbf{\\Gamma_p} = S_p$ \n",
    "### $\\ \\ \\ \\ \\ \\ \\ \\ \\ a.\\ \\mathbf{\\Gamma}_p =sgn(q_p)\\mu_p \\mathbf{E} n_p-D_p\\nabla n_p $ \n",
    "### $\\ \\ \\ \\ \\ \\ \\ \\ \\ b.\\ S_p = \\sum_{r} c_{p,r}R_r$, \n",
    "### $\\ \\ \\ \\ \\ \\ \\ \\ \\ \\ \\ \\ \\  (R_r=kn)$\n",
    "\n",
    "<br>$n_p$ : density, $\\mathbf{\\Gamma_p}$: flux, $S_p$: source term"
   ]
  },
  {
   "cell_type": "markdown",
   "metadata": {},
   "source": [
    "### $\\ \\ \\ $ Poisson's Eq'n\n",
    "### $\\ \\ \\ \\ \\ \\ $(2) $\\nabla\\cdot(\\varepsilon \\mathbf{E})=-\\nabla\\cdot( \\varepsilon \\nabla V)=\\rho$\n",
    "### $\\ \\ \\ \\ \\ \\ \\ \\ \\ \\ \\ \\ (\\rho=\\sum_p q_p n_p)$\n",
    "<br>$V$ : electric potential, $\\rho$ : charge density\n",
    "\n",
    "<br>"
   ]
  },
  {
   "cell_type": "markdown",
   "metadata": {},
   "source": [
    "### 2. Parameters"
   ]
  },
  {
   "cell_type": "markdown",
   "metadata": {},
   "source": [
    "- 결정해야 하는 Parameters 이다.\n",
    "\n",
    "### $\\ \\ \\ $1) 핵심 Parameters"
   ]
  },
  {
   "cell_type": "markdown",
   "metadata": {},
   "source": [
    "- 전자를 제외한 입자 : $\\mu=\\mu(E)$, $D=D(E)$, $k=k(E)$\n",
    "- 전자 : $\\mu_e=\\mu_e(\\bar{\\varepsilon}), D_e=D_e(\\bar{\\varepsilon}), k=k(\\bar{\\varepsilon})$\n",
    "\n",
    "    ($\\mu$ : mobility, $D$ : Diffusivity, $k$ : 반응속도상수)"
   ]
  },
  {
   "cell_type": "markdown",
   "metadata": {},
   "source": [
    "### $\\ \\ \\ $ 2) To find\n",
    "\n",
    "- Simulation에 사용되는 모든 입자에 대해, 다음의 특성 값 (혹은 적합한 관계식)들을 찾아야한다. \n",
    "    <br>\n",
    "    \n",
    "    $\\mu$ : mobility\n",
    "    <br>$k$ : 반응속도상수\n",
    "    <br>$c_{p,r}$ : the net number of particles of species p created in one reaction of type r\n",
    "    <br>$q_p$ : particle 전하 \n",
    "    <br>$m$ : ionized particle mass \n",
    "    <br>$m_g$ : gas particle mass (전자 제외)\n",
    "    <br>$T_g$ : gas Temperature (전자 제외)\n",
    "    <br>$\\varepsilon$ : 유전율\n",
    "\n",
    "<br>"
   ]
  },
  {
   "cell_type": "markdown",
   "metadata": {},
   "source": [
    "### 3. Einstein Relation"
   ]
  },
  {
   "cell_type": "markdown",
   "metadata": {},
   "source": [
    "**Einstein relation을 사용하여 $D$와 $\\mu$의 관계식을 세울 수 있다.**\n",
    "\n",
    "### $\\ \\ \\ \\ \\ \\ $ $D=\\frac{k_{B}T\\mu}{e}$\n",
    "\n",
    "- $D$ 또는 $\\mu$ 둘 중 하나를 알아내야 한다.\n",
    "- T 값을 알아야 한다.\n",
    "\n",
    "<br>\n",
    "**T를 결정하기 위해 다음 식을 활용한다.**\n",
    "\n",
    "### $\\ \\ \\ \\ \\ \\ $ (1) 이온 : $k_BT=k_BT_g+\\frac{m+m_g}{5m+3m_g}m_g(\\mu E)^2$\n",
    "### $\\ \\ \\ \\ \\ \\ $ (2) 전자 : $k_B T_e=\\frac{2}{3}\\bar\\varepsilon$\n",
    "\n",
    "<br>"
   ]
  },
  {
   "cell_type": "markdown",
   "metadata": {},
   "source": [
    "### 4. 전자 에너지 연속방정식"
   ]
  },
  {
   "cell_type": "markdown",
   "metadata": {},
   "source": [
    "- $\\mu_e(\\varepsilon), D_e(\\varepsilon), k(\\varepsilon)$를 구하기 위해 풀어야하는 식이다.\n",
    "- Solution으로 Electron mean energy $\\bar\\varepsilon$을 얻을 수 있다.\n",
    "- 앞의 전자 온도 관련 식으로부터, $\\mu_e(T_e), D_e(T_e), k(T_e)$ 으로 나타낼 수 있다."
   ]
  },
  {
   "cell_type": "markdown",
   "metadata": {},
   "source": [
    "### $\\ \\ \\ \\ \\ \\ $(1) $\\frac{\\partial n_\\varepsilon}{\\partial t} + \\nabla \\cdot \\mathbf{\\Gamma}_\\varepsilon=S_\\varepsilon$\n",
    "### $\\ \\ \\ \\ \\ \\ \\ \\ \\ $ $(n_\\varepsilon = n_e \\bar\\varepsilon)$\n",
    "(Electron energy Continuity eq'n, 2.11)\n",
    "\n",
    "### $\\ \\ \\ \\ \\ \\ $(2) $\\mathbf{\\Gamma}_e = -\\frac{5}{3} \\mu_e \\mathbf{E}n_\\varepsilon - \\frac{5}{3}D_e \\nabla n_\\varepsilon$ \n",
    "(Electron energy Flux, 2.15)\n",
    "\n",
    "### $\\ \\ \\ \\ \\ \\ $(3) $S_\\varepsilon = -e\\mathbf{\\Gamma}_e\\cdot \\mathbf{E}-n_e\\sum_{r} \\bar{\\varepsilon}_rk_rn_r$\n",
    "(Electron energy Source term, 2.16)\n",
    "\n",
    "<br>"
   ]
  },
  {
   "cell_type": "markdown",
   "metadata": {},
   "source": [
    "### 5. Boundary Condition"
   ]
  },
  {
   "cell_type": "markdown",
   "metadata": {},
   "source": [
    "### $\\ \\ \\ $1) Boltzmann Continuity Eq'n B.C"
   ]
  },
  {
   "cell_type": "markdown",
   "metadata": {},
   "source": [
    "### $\\ \\ \\ \\ \\ \\ $ (1) 전자를 제외한 입자 :  $\\mathbf{\\Gamma}_p \\cdot \\mathbf{n} = (2a_p-1)sgn(q_p)\\mu_p \\mathbf{E}\\cdot \\mathbf{n}n_p+\\frac{1}{2}v_{th,p}n_p$\n",
    "### $\\ \\ \\ \\ \\ \\ $ (2) 전자 : $\\mathbf{\\Gamma}_e \\cdot \\mathbf{n} = -(2a_e-1)\\mu_e \\mathbf{E}\\cdot \\mathbf{n}n_e+\\frac{1}{2}v_{th,e}n_e-\\frac{1}{2}v_{th,e}n_{\\gamma}-2(1-a_e)\\sum_p\\gamma_p\\mathbf{\\Gamma}_p \\cdot \\mathbf{n}$  \n",
    "### $\\ \\ \\ \\ \\ \\ $ (3) 전자 : $n_\\gamma=(1-a_e)\\frac{1}{\\mu_e}\\sum_p\\gamma_p \\left [ (2a_p-1)sgn(q_p)+\\frac{1}{2}\\sqrt{\\frac{8(m_p+m_g)m_g}{\\pi (5m_p+3m_g)m_p}} \\right ] \\mu_pn_p$ \n",
    "(식 2.35 ~ 2.37)"
   ]
  },
  {
   "cell_type": "markdown",
   "metadata": {},
   "source": [
    "### $\\ \\ \\ $2) Electron energy transport Eq'n B.C"
   ]
  },
  {
   "cell_type": "markdown",
   "metadata": {},
   "source": [
    "### $\\ \\ \\ \\ \\ \\ $(1) $\\mathbf{\\Gamma_{\\varepsilon}}\\cdot \\mathbf{n} = -(2a_e-1)\\frac{5}{3}\\mu_e \\mathbf{E}\\cdot \\mathbf{n} n_{\\varepsilon}+\\frac{2}{3}v_{th,e}n_{\\varepsilon}-\\frac{2}{3}v_{th,e}n_{\\varepsilon,\\gamma}-2(1-a_e)\\sum_p \\gamma_p \\bar{\\varepsilon}_p\\mathbf{\\Gamma_p}\\cdot \\mathbf{n}$\n",
    "### $\\ \\ \\ \\ \\ \\ $(2) $n_{\\varepsilon, \\gamma}=(1-a_{e})\\frac{1}{\\mu_{e}}\\sum_{p}\\gamma_{p}\\bar{\\varepsilon_{p}} \\left [(2a_{p}-1)sgn(q_{p})+ \\frac{1}{2}\\sqrt{\\frac{8(m_{p}+m_{g})m_{g}}{\\pi(5m_{p}+3m_{g})m_{p}}} \\right ] \\mu_{p}n_{p}$\n",
    "\n",
    "<br>(식 2.38 ~ 2.39)"
   ]
  },
  {
   "cell_type": "markdown",
   "metadata": {},
   "source": [
    "### $\\ \\ \\ $3) Poisson's Eq'n B.C"
   ]
  },
  {
   "cell_type": "markdown",
   "metadata": {},
   "source": [
    "### $\\ \\ \\ \\ \\ \\ $(1) 전극의 전위 값\n",
    "- 우리는 외부에서 15kv의 일정한 직류 전압을 가한다고 가정하고 있다. \n",
    "- 이러한 전극 전위 값은 B.C가 될 것이다.\n",
    "\n",
    "### $\\ \\ \\ \\ \\ \\ $(2) 가우스 법칙 : 표면전하 고려\n",
    "- Dielectric barrier, Dielectric particle의 surface에는 전하 입자가 침전된다.\n",
    "- 전하 침전에 의해 경계면에서 표면전하가 발생하면, 이는 전기장에 영향을 미친다.\n",
    "- 가우스법칙을 활용하여 이를 수식으로 나타낼 수 있고, 이는 경계면에서의 B.C가 된다.\n",
    "- 결론적으로, 표면전하가 고려된 전기장 변화가 계산된다.\n",
    "\n",
    "### $\\ \\ \\ \\ \\ \\ \\varepsilon_{wall}\\mathbf{E}_{wall}\\cdot \\mathbf{n} - \\varepsilon_{0}\\mathbf{E}_{gas}\\cdot \\mathbf{n} = \\sigma$\n",
    "### $\\ \\ \\ \\ \\ \\ \\sigma = \\int \\mathbf{j}\\cdot \\mathbf{n}dt$\n",
    "### $\\ \\ \\ \\ \\ \\ \\mathbf{j} = \\sum_{p}q_{p}\\mathbf{\\Gamma}_{p}$\n",
    "\n",
    "\n",
    "전극을 통해 흐르는 실질적인 전류는 다음과 같은 수식으로 나타낼 수 있다.\n",
    "\n",
    "### $\\ \\ \\ \\ \\ \\ I = \\int\\int_{electrode surface}\\left ( \\mathbf{j}\\cdot \\mathbf{n} - \\varepsilon_{0}\\frac{\\partial}{\\partial t} \\mathbf{E}\\cdot \\mathbf{n} \\right ) d^{2}S$ \n",
    "\n",
    "(순 전류) = (방전 되어 흐르는 플라즈마 입자 전류) - (경계면에 침전되어 전기장 변화를 야기한 입자 전류)\n",
    "\n",
    "<br>"
   ]
  },
  {
   "cell_type": "markdown",
   "metadata": {},
   "source": [
    "### 6. Parameters : B.C\n",
    "### $\\ \\ \\ $ 1) To find\n",
    "\n",
    "- Simulation에 사용되는 모든 입자에 대해, 다음의 특성 값들을 찾아야한다.\n",
    "    <br>\n",
    "    \n",
    "    $v_{th}=\\sqrt{\\frac{8k_BT}{\\pi m}}$ : 열 속도 \n",
    "    <br>$\\gamma$ : 이차방출계수 (입사이온 당 방출 전자의 평균 개수)\n",
    "    <br>$\\bar \\varepsilon$ : 종 p의 발생에 의해 방출되는 전자의 평균 초기 에너지\n",
    "    \n",
    "<br>"
   ]
  },
  {
   "cell_type": "markdown",
   "metadata": {},
   "source": [
    "### [향후 계획]\n",
    "\n",
    "1. Parameters searching\n",
    "2. Solving algorithm, strategy 제안\n",
    "3. 기존 모델링 프로그램 사용 및 분석"
   ]
  }
 ],
 "metadata": {
  "kernelspec": {
   "display_name": "Python 3",
   "language": "python",
   "name": "python3"
  },
  "language_info": {
   "codemirror_mode": {
    "name": "ipython",
    "version": 3
   },
   "file_extension": ".py",
   "mimetype": "text/x-python",
   "name": "python",
   "nbconvert_exporter": "python",
   "pygments_lexer": "ipython3",
   "version": "3.6.5"
  }
 },
 "nbformat": 4,
 "nbformat_minor": 2
}
