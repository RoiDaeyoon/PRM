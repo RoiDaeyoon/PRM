{
 "cells": [
  {
   "cell_type": "markdown",
   "metadata": {},
   "source": [
    "# 부분 이온화 가스에서의 확산\n",
    "\n",
    "- 자기장(magnetic field)이 없는 상태에서의 확산과 이동도\n",
    "\n",
    "확산의 가장 간단한 케이스는 자기장을 무시한 상태에서 임의의 종에 대해 다음 방정식으로 나타난다.\n",
    "\n",
    "$mn\\frac{dv}{dt}=qnE - \\bigtriangledown \\cdot p - mnv(v-v_{0})$\n",
    "\n",
    "m은 종의 mass, 붕괴상수는 상수. v>>v0 라고할 때, 플라즈마는 isothermal이고 분산은 정상상태이고 대류가 무시될 수 있을 정도로 충분하게 높은 속도로 일어난다. 위 식은 아래로 바뀔 수 있다.\n",
    "\n",
    "$v = \\frac{q}{mv}E - \\frac{kt}{mv}\\frac{\\bigtriangledown n}{n}$\n",
    "\n",
    "전기장과 밀도 그래디언트 항 앞에 있는 부분을 이동도, 확산도라고 부른다.\n",
    "\n",
    "$\\mu = \\frac{|q|}{mv} [m^{2}/Vs]$  \n",
    "\n",
    "$D = \\frac{kT}{mv} [m^{2}/s]$ \n",
    "\n",
    "이 두 항은 아인슈타인 관계로 연결되어 있다.\n",
    "\n",
    "$\\mu = \\frac{|q|D}{kT}$\n",
    "\n",
    "\n",
    "https://descanso.jpl.nasa.gov/SciTechBook/series1/Goebel_03_Chap3_plasphys.pdf\n",
    "\n",
    "이소서멀하니까 플라즈마 내의 전체 분위기, 룸템퍼러쳐를 의미하는것 같음."
   ]
  },
  {
   "cell_type": "markdown",
   "metadata": {},
   "source": [
    "# 자유 전자 확산 (다른곳에서 찾음, 불확실)\n",
    "\n",
    "$\\nu_{c}$ = effective constant collision frequency\n",
    "\n",
    "자유 전자확산 계수  \n",
    "$D_{e} = \\frac{kT_{e}}{m_{e}\\nu_{c}}$\n",
    "\n",
    "http://physics.muni.cz/~dorian/Soucek_Difuze.pdf"
   ]
  },
  {
   "cell_type": "markdown",
   "metadata": {},
   "source": [
    "# 전자 이동도와 플라즈마 컨덕티비티 (약한 이온 플라즈마인 경우)\n",
    "\n",
    "전기장의 세기 $j = \\sigma E$. $v_{en}(\\nu)$가 일정할 때 전자 밀도와 플라즈마 컨덕티비티 사이 간단한 식으로 나타남\n",
    "\n",
    "## $\\sigma = \\frac{n_{e}e^{2}}{mv_{en}}$  \n",
    "전자 밀도와 전자-중성입자 충돌 주파수에 영향을 받는다. \n",
    "\n",
    "$\\nu_{en}$은 가스의 수밀도(다른말로 압력)에 비례한다.\n",
    "\n",
    "이 두 값은 전자 이동도 $\\mu_{e}$를 결정하는데도 사용된다. 전자 drift 속도 $v_{d}$와 전기장 세기에 비례한다.\n",
    "\n",
    "## $v_{d}=\\mu E$, $\\mu_{e}=\\frac{\\sigma_{e}}{en_{e}}=\\frac{e}{m\\nu_{en}}$"
   ]
  },
  {
   "cell_type": "markdown",
   "metadata": {},
   "source": [
    "# D, 뮤, 평균에너지간의 아인슈타인 관계\n",
    "\n",
    "평균에너지와 이동도, 확산계수간의 관계는 다음과 같다.\n",
    "\n",
    "## $\\frac{D_{e}}{\\mu_{e}}=\\frac{2/3<\\epsilon_{e}>}{e}$\n",
    "\n",
    "평균 에너지는 3/2T 이므로 다음과 같이 쓰인다.( 볼츠만 상수 생략한 듯)\n",
    "\n",
    "$D/\\mu = Tk_{b}/e$\n",
    "\n",
    "(이동도의 실험적 측정을 통해, 충전입자들의 D를 결정할 수 있다.\n",
    "\n",
    "https://books.google.co.kr/books?id=9wqtYiy_gloC&pg=PA199&lpg=PA199&dq=electron+mobility+and+diffusivity+in+plasma&source=bl&ots=hf9IW3sYCL&sig=ACfU3U2TjjxhpsSX1lveZ6OfmHah8Bfmlw&hl=ko&sa=X&ved=2ahUKEwiaq7-ox5DiAhVByYsBHV87Dns4ChDoATAEegQICRAB#v=onepage&q=electron%20mobility%20and%20diffusivity%20in%20plasma&f=false"
   ]
  },
  {
   "cell_type": "markdown",
   "metadata": {},
   "source": [
    "# 교수님이 주신 논문에서\n",
    "\n",
    "$k_{B}T_{e} = 2/3 \\bar{\\epsilon}= 2/3\\frac{n_{\\epsilon}}{n_{e}}$  \n",
    "전자에너지와 전자 밀도를 통해 전자온도를 구할 수 있따."
   ]
  },
  {
   "cell_type": "code",
   "execution_count": null,
   "metadata": {},
   "outputs": [],
   "source": []
  }
 ],
 "metadata": {
  "kernelspec": {
   "display_name": "Python 3",
   "language": "python",
   "name": "python3"
  },
  "language_info": {
   "codemirror_mode": {
    "name": "ipython",
    "version": 3
   },
   "file_extension": ".py",
   "mimetype": "text/x-python",
   "name": "python",
   "nbconvert_exporter": "python",
   "pygments_lexer": "ipython3",
   "version": "3.7.1"
  }
 },
 "nbformat": 4,
 "nbformat_minor": 2
}
