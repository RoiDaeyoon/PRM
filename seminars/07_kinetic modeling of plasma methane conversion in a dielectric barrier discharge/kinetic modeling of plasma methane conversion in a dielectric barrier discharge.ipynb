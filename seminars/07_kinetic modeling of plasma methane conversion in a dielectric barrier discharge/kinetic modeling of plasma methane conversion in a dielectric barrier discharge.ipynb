{
 "cells": [
  {
   "cell_type": "markdown",
   "metadata": {},
   "source": [
    "# kinetic modeling of plasma methane conversion in a dielectric barrier discharge"
   ]
  },
  {
   "cell_type": "markdown",
   "metadata": {},
   "source": [
    "## 1. Introduction"
   ]
  },
  {
   "cell_type": "markdown",
   "metadata": {},
   "source": [
    "kinetic model를 설립함으로서 kinetic rate constant(k)를 얻을 수 있었고 또한 이를 바탕으로 반응의 global pathway를 그릴 수 있었다. 이러한 결과는 실험적 데이터와 상당히 유사함을 보인다"
   ]
  },
  {
   "cell_type": "markdown",
   "metadata": {},
   "source": [
    "## 2. Experimental setup and algorithm"
   ]
  },
  {
   "cell_type": "markdown",
   "metadata": {},
   "source": [
    "![alt](./kinetic modeling of plasma methane conversion in a dielectric barrier discharge/1.jpg)"
   ]
  },
  {
   "cell_type": "markdown",
   "metadata": {},
   "source": [
    "### 2.1) Plasma reactor and power system"
   ]
  },
  {
   "cell_type": "markdown",
   "metadata": {},
   "source": [
    "- a cylindrical pyrex tube (ID of 7.5 mm) with 2 parallel-straight wires (0.2 mm diameter,stainless steel) as the inner metal electrode and silver film coated at the outer side of tube as the outer electrode\n",
    "- The effective volume and length of the reactor were 8.8 ml and 200 mm, respectively\n",
    "- A high frequency alternating current (AC) power supply with a maximum voltage of 20 kV\n",
    "- The supplied power to the reactor was maintained constant at 60 W\n",
    "- electrodes gap distance, the reactor capacitancewas checked by an RCL meter (Fluke model PM6304) before and after experiments. The reactor capacitance was in the range of 9.0–10.0 pF at ambient air condition."
   ]
  },
  {
   "cell_type": "markdown",
   "metadata": {},
   "source": [
    "### 2.2) Input gas and measurement system"
   ]
  },
  {
   "cell_type": "markdown",
   "metadata": {},
   "source": [
    "실험에 사용되는 탄화수소의 종류는 다음과 같다\n",
    "- CH4(99.97% purity)\n",
    "- C2H2(99.9%)\n",
    "- C2H4(99.9%)\n",
    "- C2H6(99.9%)\n",
    "- C3H6(99.9%)\n",
    "- C3H8(99.9%)\n",
    "- i-C4H10(99.9%)\n",
    "- n-C4H10(99.9%)"
   ]
  },
  {
   "cell_type": "markdown",
   "metadata": {},
   "source": [
    "![alt](./kinetic modeling of plasma methane conversion in a dielectric barrier discharge/2.jpg)"
   ]
  },
  {
   "cell_type": "markdown",
   "metadata": {},
   "source": [
    "### 2.3) model algorithm"
   ]
  },
  {
   "cell_type": "markdown",
   "metadata": {},
   "source": [
    "단일 탄화수소의 반응 속도는 순수 화합물을 반응로에 투입함으로서 측정되었다. 그 다음 생산물의 분포는 다른 분자로 변환되는 속도를 통해서 계산하였다."
   ]
  },
  {
   "cell_type": "markdown",
   "metadata": {},
   "source": [
    "![alt](./kinetic modeling of plasma methane conversion in a dielectric barrier discharge/3.jpg)"
   ]
  },
  {
   "cell_type": "markdown",
   "metadata": {},
   "source": [
    "n은 k-set에서 i와j의 최대값을 의미하므로 8이 되고 k<sub>ij</sub>는 특정 j분자로 변환되는 i 분자의 속도 상수를 나타낸다.\n",
    "단 k<sub>ij</sub>는 i=j일 경우 0이 된다"
   ]
  },
  {
   "cell_type": "markdown",
   "metadata": {},
   "source": [
    "![alt](./kinetic modeling of plasma methane conversion in a dielectric barrier discharge/4.jpg)"
   ]
  },
  {
   "cell_type": "markdown",
   "metadata": {},
   "source": [
    "![alt](./kinetic modeling of plasma methane conversion in a dielectric barrier discharge/5.jpg)"
   ]
  },
  {
   "cell_type": "markdown",
   "metadata": {},
   "source": [
    "k 값은 모델 데이터와 실험 데이터 사이의 오류를 최소화함으로서 얻을 수 있다. 이때 최소화 하는 계산은  Matlab sub-routine module ‘fminsearch’ after simultaneous integration of Eq. (4) using ‘ode23s’.를 사용하여 진행되었다."
   ]
  },
  {
   "cell_type": "markdown",
   "metadata": {},
   "source": [
    "![alt](./kinetic modeling of plasma methane conversion in a dielectric barrier discharge/6.jpg)"
   ]
  },
  {
   "cell_type": "markdown",
   "metadata": {},
   "source": [
    "결과의 uniqueness는 8개의 서로 다른 가스에서 얻은 각각의 k<sub>ij</sub>의 평균 제곱 오류를 계산하여 측정하였다"
   ]
  },
  {
   "cell_type": "markdown",
   "metadata": {},
   "source": [
    "## 3. Results and discussion"
   ]
  },
  {
   "cell_type": "markdown",
   "metadata": {},
   "source": [
    "Plasma reactor\n",
    "\n",
    "\n",
    "pressure = atmospheric pressure(~1atm)\n",
    "\n",
    "temperature = room temperature(~25<sup>o</sup>C)\n",
    "\n",
    "\n",
    "Flow rate = 30ml/min\n",
    "\n",
    "\n",
    "supplied power = 60W"
   ]
  },
  {
   "cell_type": "markdown",
   "metadata": {},
   "source": [
    "![alt](./kinetic modeling of plasma methane conversion in a dielectric barrier discharge/7.jpg)"
   ]
  },
  {
   "cell_type": "markdown",
   "metadata": {},
   "source": [
    "위 테이블을 보면 run2와 run5를 제외한 나머지는, 전체 C와 H의 반응물과 생성물 사이의 균형이 거의 100%에 일치하는 것을 확인할 수 있다."
   ]
  },
  {
   "cell_type": "markdown",
   "metadata": {},
   "source": [
    "일부 적은 양의 carbon deposition가 벽과 안쪽 electrode에서 발견되나 그 수치를 보면 상대적으로 매우 작기 때문에 이는 계산에서 무시할 수 있다.\n",
    "\n",
    "이러한 결과는 올바른 kinetics 계산을 얻기 위해서 C와 H 사이에 균형이 균일해야 한데 이에 걸맞는 결과이다."
   ]
  },
  {
   "cell_type": "markdown",
   "metadata": {},
   "source": [
    "run2와 run5의 경우는 C<sub>2</sub>H<sub>2</sub>와,C<sub>3</sub>H<sub>6</sub>가 반응을 하면서 많은 양의 고체 탄화수소 및 soot를 생성한 것으로 보인다. 이에 대해서 C<sub>2</sub>H<sub>2</sub>와,C<sub>3</sub>H<sub>6</sub>가 polymerization을 한것인지 응집을 한 것인지 확실할 수는 없으니 C<sub>2</sub>H<sub>2</sub>와,C<sub>3</sub>H<sub>6</sub>는 pyrolysis 혹은 combustion process에서 soot precursor로 알려져 있기에 플라즈마 process에서도 비슷한 반응을 보인 것으로 보인다"
   ]
  },
  {
   "cell_type": "markdown",
   "metadata": {},
   "source": [
    "테이블 1을 보면 methane이 반응물일때, 생산물의 대부분은 C<sub>2</sub>H<sub>6</sub>가 되며 이때 선택률은 37.5%가된다. propane의 경우 25.6%가 되며 butane(normal and iso)의 경우 25.4%가 된다. 이러한 결과는 Thanyachotpaiboon의 결과와 상당한 유사점을 가지며 propane과 butane의 선택률이 조금더 높은 것으로 나타나게된다. 이러한 결과는 선택률을 계산한 방법이 다르기 때문에 나타나게 된 것이다."
   ]
  },
  {
   "cell_type": "markdown",
   "metadata": {},
   "source": [
    "## 4. Kinetic model"
   ]
  },
  {
   "cell_type": "markdown",
   "metadata": {},
   "source": [
    "Kinetic model을 세우기 위해서 다음과 같이 가정하였다\n",
    "\n",
    "- 모든 반응은 일차 반응이다\n",
    "- coke 혹은 hydrogen의 형성은 무시한다\n",
    "- 모든 계산은 Matlab의 ode23s를 사용하여 (4)공식을 계산함으로서 진행되고 속도 상수 k는 fminsearch 모듈을 사용하여 얻은 실험 결과와 계산된 값을 least-square calculation함으로서 얻는다"
   ]
  },
  {
   "cell_type": "markdown",
   "metadata": {},
   "source": [
    "![alt](./kinetic modeling of plasma methane conversion in a dielectric barrier discharge/8.jpg)"
   ]
  },
  {
   "cell_type": "markdown",
   "metadata": {},
   "source": [
    "테이블 2에서 k값이 높을 것은 생산물로 전환하는 것이 더 쉽다는 것을 의미한다."
   ]
  },
  {
   "cell_type": "markdown",
   "metadata": {},
   "source": [
    "![alt](./kinetic modeling of plasma methane conversion in a dielectric barrier discharge/10.jpg)"
   ]
  },
  {
   "cell_type": "markdown",
   "metadata": {},
   "source": [
    "Kinetic model을 통해 얻은 결과를 분석하면 기존이 논문에서 나타났던 것들과 동일한 경향을 보인다.(자세한 사항은 논문 참조) 또한 이를 통해서 global pathway를 그려서 C<sub>2</sub>H<sub>4</sub>가 반응에서 중요한 역할을 한다는 것을 알아낼 수 있었다"
   ]
  },
  {
   "cell_type": "markdown",
   "metadata": {},
   "source": [
    "![alt](./kinetic modeling of plasma methane conversion in a dielectric barrier discharge/9.jpg)"
   ]
  },
  {
   "cell_type": "markdown",
   "metadata": {},
   "source": [
    "모델을 확인하기 위해서 methane와 acetylene의 혼합물을 반응기(flow rate = 30ml/min, supplied power = 60W)에 주입하여 실험을 한 결과 실험과 모델링의 결과가 유사함을 확인할 수 있었다."
   ]
  }
 ],
 "metadata": {
  "kernelspec": {
   "display_name": "Python 3",
   "language": "python",
   "name": "python3"
  },
  "language_info": {
   "codemirror_mode": {
    "name": "ipython",
    "version": 3
   },
   "file_extension": ".py",
   "mimetype": "text/x-python",
   "name": "python",
   "nbconvert_exporter": "python",
   "pygments_lexer": "ipython3",
   "version": "3.6.5"
  }
 },
 "nbformat": 4,
 "nbformat_minor": 2
}
