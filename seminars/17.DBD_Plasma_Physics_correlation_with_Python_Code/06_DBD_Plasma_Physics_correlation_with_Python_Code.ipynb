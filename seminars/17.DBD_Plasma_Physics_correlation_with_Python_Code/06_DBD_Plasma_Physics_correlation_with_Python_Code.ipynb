{
 "cells": [
  {
   "cell_type": "markdown",
   "metadata": {},
   "source": [
    "## DBD Plasma Physics correlation with Python Code"
   ]
  },
  {
   "cell_type": "markdown",
   "metadata": {},
   "source": [
    "### [용어 정리]"
   ]
  },
  {
   "cell_type": "markdown",
   "metadata": {},
   "source": [
    "### Mobility"
   ]
  },
  {
   "cell_type": "markdown",
   "metadata": {},
   "source": [
    "Electrical mobility is **the ability of charged particles (such as electrons or protons) to move** through a medium in **response to an electric field** that is pulling them.\n",
    "<br>- 모빌리티는 물질 고유의 특성값이고 에너지(온도)와의 상관관계가 존재한다. "
   ]
  },
  {
   "cell_type": "markdown",
   "metadata": {},
   "source": [
    "<img src=\".\\06_fig\\10.gif\" \"width=300\" />"
   ]
  },
  {
   "cell_type": "markdown",
   "metadata": {},
   "source": [
    "#### A. Mobility 관계식"
   ]
  },
  {
   "cell_type": "markdown",
   "metadata": {},
   "source": [
    "- Ion Mobility : function of E/N\n",
    "- Electron Mobility : function of $\\bar \\varepsilon$"
   ]
  },
  {
   "cell_type": "markdown",
   "metadata": {},
   "source": [
    "#### B. Why?"
   ]
  },
  {
   "cell_type": "markdown",
   "metadata": {},
   "source": [
    "Ion Mobility\n",
    "\n",
    "- energy distribution을 electric field 값으로 근사할 수 있다. (local field approximation)\n",
    "- E/N으로 나타내는 것이 일반적이다. (E/N : ratio of the electric field strength to the gas particle number density)\n",
    "    - where the ratio of E/N is small and thus the thermal energy of the ions is much greater than the energy gained from the electric field between collisions.\n",
    "- https://fr.lxcat.net 에서 E/N 대비 Mobility Data를 구할 수 있다.\n",
    "\n",
    "Electron Mobility\n",
    "\n",
    "- local field approximation을 활용할 수 없다. (에너지와의 상관관계를 직접 활용)\n",
    "- BOLSIG+ 를 활용하여 $\\bar \\varepsilon$ 대비 Mobility Data을 찾아낼 수 있다."
   ]
  },
  {
   "cell_type": "markdown",
   "metadata": {},
   "source": [
    "#### C. Data 예시"
   ]
  },
  {
   "cell_type": "markdown",
   "metadata": {},
   "source": [
    "Ion Mobility\n",
    "<img src=\".\\06_fig\\00_ion_mobility.png\" \"width=400\" />"
   ]
  },
  {
   "cell_type": "markdown",
   "metadata": {},
   "source": [
    "Electron Mobility\n",
    "<img src=\".\\06_fig\\01_BOLSIG.png\" \"width=400\" />"
   ]
  },
  {
   "cell_type": "markdown",
   "metadata": {},
   "source": [
    "#### D. 결론\n",
    "\n",
    "이온 이동도\n",
    "1. E/N의 함수이다.\n",
    "2. https://fr.lxcat.net 에서 Mobility Data를 구할 수 있다.\n",
    "\n",
    "전자 이동도\n",
    "1. $\\bar \\varepsilon$의 함수이다.\n",
    "2. BOLSIG+를 활용하여 Mobility Data를 구할 수 있다."
   ]
  },
  {
   "cell_type": "markdown",
   "metadata": {},
   "source": [
    "<br>\n",
    "## 1. Physics"
   ]
  },
  {
   "cell_type": "markdown",
   "metadata": {},
   "source": [
    "### (1) 모식도"
   ]
  },
  {
   "cell_type": "markdown",
   "metadata": {},
   "source": [
    "<img src=\".\\06_fig\\02.png\" \"width=300\" />"
   ]
  },
  {
   "cell_type": "markdown",
   "metadata": {},
   "source": [
    "<img src=\".\\06_fig\\03.png\" \"width=300\" />"
   ]
  },
  {
   "cell_type": "markdown",
   "metadata": {},
   "source": [
    "<img src=\".\\06_fig\\04.png\" \"width=300\" />"
   ]
  },
  {
   "cell_type": "markdown",
   "metadata": {},
   "source": [
    "<img src=\".\\06_fig\\05.png\" \"width=300\" />"
   ]
  },
  {
   "cell_type": "markdown",
   "metadata": {},
   "source": [
    "<img src=\".\\06_fig\\06.png\" \"width=300\" />"
   ]
  },
  {
   "cell_type": "markdown",
   "metadata": {},
   "source": [
    "<img src=\".\\06_fig\\07.png\" \"width=260\" />"
   ]
  },
  {
   "cell_type": "markdown",
   "metadata": {},
   "source": [
    "### (2) 핵심 현상"
   ]
  },
  {
   "cell_type": "markdown",
   "metadata": {},
   "source": [
    "다음의 세 가지 현상을 모델링 하는 것이 핵심이다."
   ]
  },
  {
   "cell_type": "markdown",
   "metadata": {},
   "source": [
    "<img src=\".\\06_fig\\07-1.png\" \"width=900\" />"
   ]
  },
  {
   "cell_type": "markdown",
   "metadata": {},
   "source": [
    "1. Continuity Equation\n",
    "    - 입자 이동 및 이온화 계산 : 밀도 분포 변화\n",
    "2. Poisson's Equation\n",
    "    - 전기장 세기 계산\n",
    "      - E/N : Ion Mobility 값\n",
    "      - 연속방정식에서의 convective flux에 영향\n",
    "3. Energy Equation\n",
    "    - 전자 에너지 계산\n",
    "      - $\\bar\\varepsilon$ : Electron Mobility 값\n",
    "4. Equation of charge accumulation on surface of dielectric\n",
    "    - 표면에 축적되는 양이온 입자 밀도 계산"
   ]
  },
  {
   "cell_type": "markdown",
   "metadata": {},
   "source": [
    "### (3) 유의사항"
   ]
  },
  {
   "cell_type": "markdown",
   "metadata": {},
   "source": [
    "1. 교류 전압\n",
    "    - 교류 전압이므로, 시간의 흐름에 따라 전위 경계조건을 바꿔주어야 한다.\n",
    "2. 이온 밀도\n",
    "    - 양이온이 표면에 축적되므로, 시간의 흐름에 따라 연속방정식 경계조건을 바꿔주어야 한다."
   ]
  },
  {
   "cell_type": "markdown",
   "metadata": {},
   "source": [
    "<br>\n",
    "## 2. Modeling : 1D"
   ]
  },
  {
   "cell_type": "markdown",
   "metadata": {},
   "source": [
    "<img src=\".\\06_fig\\08_Modeling.png\" \"width=500\" />"
   ]
  },
  {
   "cell_type": "markdown",
   "metadata": {},
   "source": [
    "### (1) 핵심 파라미터 : $\\mu, D, k$\n",
    "-  $\\mu, D, k$는 위치의 함수\n",
    "  - 위치에 따라 $E/N$ 값이 다르다.\n",
    "  - 위치에 따라 $\\bar\\varepsilon$ 값이 다르다.\n",
    "\n",
    "\n",
    "- 시간 흐름에 따른 재설정\n",
    "  - 시간에 따라 $E/N, \\bar\\varepsilon$ 값이 변한다.\n",
    "  - Loop System 도입"
   ]
  },
  {
   "cell_type": "markdown",
   "metadata": {},
   "source": [
    "### (2) 알고리즘"
   ]
  },
  {
   "cell_type": "markdown",
   "metadata": {},
   "source": [
    "<img src=\".\\06_fig\\09.png\" \"width=800\" />"
   ]
  },
  {
   "cell_type": "markdown",
   "metadata": {},
   "source": [
    "<br>\n",
    "## 3. Python Code"
   ]
  },
  {
   "cell_type": "markdown",
   "metadata": {},
   "source": [
    "이 자료에서는 크게 유의해야 할 내용 위주로 점검한다. 세부적인 내용은 추후 다룰 예정."
   ]
  },
  {
   "cell_type": "markdown",
   "metadata": {},
   "source": [
    "### (1) Initialization"
   ]
  },
  {
   "cell_type": "markdown",
   "metadata": {},
   "source": [
    "- Grid(위치) 별로 계산함을 확인할 수 있다."
   ]
  },
  {
   "cell_type": "code",
   "execution_count": 2,
   "metadata": {},
   "outputs": [],
   "source": [
    "import numpy as np\n",
    "import sys\n",
    "import matplotlib.pyplot as plt\n",
    "import scipy.sparse.linalg as la\n",
    "import scipy.sparse as sparse\n",
    "import time as tm\n",
    "\n",
    "#-----------------parameters for the plasma reactor---------------------------\n",
    "\n",
    "ee=1.6*10**(-19)              #electronic charge\n",
    "width=2.0                     #space between two dielectric in mm\n",
    "ngrid0=3                      #Number of grid points (between two dielectric)\n",
    "wd1=1.5                       #width of first dielectric in mm\n",
    "wd2=1.5                       #width of second dielectric in mm\n",
    "dx=width*10**(-3)/(ngrid0+1.0)#Grid size in meter\n",
    "nwd1=int(wd1*10**(-3)/dx)     #number of grid points in first dielectric\n",
    "nwd2=int(wd2*10**(-3)/dx)     #Number of grid points in second dielectric\n",
    "wd1=nwd1*dx                   #Making wd1 as exact multiple of dx\n",
    "wd2=nwd2*dx                   #making wd2 as exact multiple of dx\n",
    "inelec=width*10**(-3)+wd1+wd2 #total interelectrode separation\n",
    "ngrid=int(ngrid0+2+nwd1+nwd2) #total number of grid points(2 dielectrics +gas medium + all edge points)\n",
    "\n",
    "#*** Initialization\n",
    "#-----------------------------------------------------------------------------------------------------\n",
    "\n",
    "ns=4                                    #total number of species\n",
    "nr=5                                    #total number of chemical reactions\n",
    "ndensity=np.zeros((ns,ngrid0+2),float)  #number density of each species\n",
    "ncharge=np.array([-1,0,0,1])            #corresponding charge of the each species\n",
    "gMat=np.array([0,0,0,1])                #gamma matrix (boolean what produces secondary electrons)\n",
    "dMat=np.array([1,0,0,0])                #boolean, which species undergoes desportion from surface\n",
    "netcharge=np.zeros(ngrid,float)         #net charge at each grid points\n",
    "potentl=np.zeros(ngrid,float)           #potential at each grid points\n",
    "efield=np.zeros(ngrid0+2,float)         #electric field at each grid points\n",
    "efieldP=np.zeros(ngrid0+2,float)        #electric field at each grid points\n",
    "\n",
    "mobilityG=np.zeros((ns,ngrid0+2),float) #mobility at each grid points\n",
    "diffusionG=np.zeros((ns,ngrid0+2),float)#diffusion coefficient at grid points\n",
    "sourceG=np.zeros((nr,ngrid0+2),float)   #source at each grid points\n",
    "fluxLR=np.zeros((ns,2),float)           #particle flux towards left and right boundries\n",
    "react=np.zeros((4,ngrid0+2),float)      #reaction \n",
    "sigmaLR=np.zeros((ns,2),float)          #surface charge density\n",
    "tempSigma=np.zeros((ns,2),float)        #temporary surface charge density\n",
    "eEjection=np.zeros((2),float)           #electrons leaving the boundary"
   ]
  },
  {
   "cell_type": "markdown",
   "metadata": {},
   "source": [
    "<br>\n",
    "<img src=\".\\06_fig\\08_Modeling.png\" \"width=500\" />"
   ]
  },
  {
   "cell_type": "code",
   "execution_count": 3,
   "metadata": {},
   "outputs": [
    {
     "data": {
      "text/plain": [
       "((4, 5), (4, 5), (4, 5))"
      ]
     },
     "execution_count": 3,
     "metadata": {},
     "output_type": "execute_result"
    }
   ],
   "source": [
    "ndensity.shape, mobilityG.shape, diffusionG.shape"
   ]
  },
  {
   "cell_type": "markdown",
   "metadata": {},
   "source": [
    "위의 세 가지 Data는 입자의 움직임과 연관되어 있다. 따라서 유전체 사이 Grid 영역만 고려한다.\n",
    "- 4행 : 입자 species (전자, 중성, exciting, ionization)\n",
    "- 5열 : 유전체 사이 Grid (5개)"
   ]
  },
  {
   "cell_type": "markdown",
   "metadata": {},
   "source": [
    "<br>\n",
    "### (2) Posson's Eq'n"
   ]
  },
  {
   "cell_type": "markdown",
   "metadata": {},
   "source": [
    "$$\\nabla\\cdot(\\varepsilon \\mathbf{E})=-\\nabla\\cdot( \\varepsilon \\nabla V)=\\rho$$\n",
    "$$ \\rho : \\rho(x) $$"
   ]
  },
  {
   "cell_type": "markdown",
   "metadata": {},
   "source": [
    "- Poisson's Eq'n의 우항인 Netcharge는 Grid 영역에 따라 다름을 고려한다."
   ]
  },
  {
   "cell_type": "code",
   "execution_count": 4,
   "metadata": {},
   "outputs": [],
   "source": [
    "#--------------------------initial netcharge-----------------------------------\n",
    "ndensity=1000*np.random.rand(ns,ngrid0+2)\n",
    "ncharge=np.array([-1,1,0,0])     # 전자, ion, exciting, 중성\n",
    "\n",
    "netcharge=np.zeros(ngrid,float)\n",
    "netcharge[nwd1:nwd1+2+ngrid0]=ee*np.dot(ncharge,ndensity)   "
   ]
  },
  {
   "cell_type": "markdown",
   "metadata": {},
   "source": [
    "<br>\n",
    "<img src=\".\\06_fig\\08_Modeling.png\" \"width=500\" />"
   ]
  },
  {
   "cell_type": "code",
   "execution_count": 5,
   "metadata": {},
   "outputs": [
    {
     "data": {
      "text/plain": [
       "array([ 0.00000000e+00,  0.00000000e+00,  0.00000000e+00,  9.51393281e-17,\n",
       "        5.05872383e-17, -1.18356160e-16,  6.10845358e-18,  1.14572621e-16,\n",
       "        0.00000000e+00,  0.00000000e+00,  0.00000000e+00])"
      ]
     },
     "execution_count": 5,
     "metadata": {},
     "output_type": "execute_result"
    }
   ],
   "source": [
    "netcharge"
   ]
  },
  {
   "cell_type": "markdown",
   "metadata": {},
   "source": [
    "<br>\n",
    "### (3) Parameters"
   ]
  },
  {
   "cell_type": "markdown",
   "metadata": {},
   "source": [
    "- $\\mu, D, k$ 값의 변화를 고려한다."
   ]
  },
  {
   "cell_type": "code",
   "execution_count": 6,
   "metadata": {},
   "outputs": [],
   "source": [
    "####POISSON MATRIX USED TO SOLVE THE POISSON'S EQUATION IMPLICTLY====\n",
    "def SparseLaplacianOperator(nx,k1=-1,k2=0,k3=1):\n",
    "    d1=np.zeros((nx),float)\n",
    "    d2=np.ones((nx),float)\n",
    "    d3=np.zeros((nx),float)\n",
    "    d1[:-2]=1\n",
    "    d2[1:-1]=-2\n",
    "    d3[2:]=1\n",
    "    return (sparse.dia_matrix(([d1,d2,d3],[k1,k2,k3]),shape=(nx,nx)).tocsc() )\n",
    "\n",
    "####IMPORTING THE TRANSPORT AND REACTION COEFFICIENTS FROM TEXT FILE======================================\n",
    "def readBoltzmannParameters1(npoints,oupfile='table.txt',ns=4,nR=5):\n",
    "    mobility=np.zeros((ns,npoints),float)\n",
    "    diffusion=np.zeros((ns,npoints),float)\n",
    "    source=np.zeros((nR,npoints),float)\n",
    "    file=open(oupfile)\n",
    "    line=file.readline()\n",
    "    for data in np.arange(npoints):\n",
    "       line=file.readline()\n",
    "       lineSplit=line.split()\n",
    "       mobility[0,data]=float(lineSplit[0]);mobility[1,data]=float(lineSplit[1]);mobility[2,data]=float(lineSplit[2])\n",
    "       diffusion[0,data]=float(lineSplit[3]);diffusion[1,data]=float(lineSplit[4]);diffusion[2,data]=float(lineSplit[5])\n",
    "       diffusion[3,data]=float(lineSplit[6])\n",
    "       source[0,data]=float(lineSplit[7]);source[1,data]=float(lineSplit[8]);source[2,data]=float(lineSplit[9])\n",
    "       source[3,data]=float(lineSplit[10]);source[4,data]=float(lineSplit[11])\n",
    "    return(mobility,diffusion,source)\n",
    "\n",
    "#SPARSE TRIDIAGONAL MATRIX USED TO SOLVE THE DIFFUSION EQUATION IMPLICTLY====================================\n",
    "def SparseDiffusionOperator(numberdensity,dif,dx,dt,k1=-1,k2=0,k3=1):\n",
    "    nx=dif.size\n",
    "    d1=np.zeros((nx),float)\n",
    "    d2=np.ones((nx),float)\n",
    "    d3=np.zeros((nx),float)\n",
    "    d1[:-2]=(dt/(4*dx*dx))*(dif[2:]-dif[:-2]-4*dif[1:-1])\n",
    "    d2[1:-1]=(1+2*dt*dif[1:-1]/(dx**2))\n",
    "    d3[2:]=(dt/(4*dx*dx))*(-dif[2:]+dif[:-2]-4*dif[1:-1])\n",
    "    return (la.spsolve((sparse.dia_matrix(([d1,d2,d3],[k1,k2,k3]),shape=(nx,nx)).tocsc()),numberdensity))\n",
    "\n",
    "#INTERPOLATION FORMULA ======================================================================================\n",
    "def Interpolation(efield,inputdata):\n",
    "    indlocate=abs(efield[:]).astype(int)\n",
    "    return(inputdata[:,indlocate]+(inputdata[:,indlocate+1]-inputdata[:,indlocate])*(abs(efield)-indlocate))\n",
    "\n",
    "#ADVECTION SOLVING MATRIX====================================================================================\n",
    "def AdvectionAlgorithm(dx,dt,velocity,density):\n",
    "    flux=(0.5*(velocity[1:]*density[1:]+velocity[:-1]*density[:-1])-0.5*0.5*abs(velocity[1:]+velocity[:-1])*(density[1:]-density[:-1]))*dt\n",
    "    density[1:-1]+= -(flux[1:]-flux[:-1])/dx\n",
    "    return density[1:-1]\n",
    "\n",
    "start = tm.time()\n",
    "\n",
    "parameterSize=996 #NUMBER OF ROWS IN THE INPUT TEXT FILE\n",
    "(mobilityInput,diffusionInput,sourceInput) = readBoltzmannParameters1(parameterSize,'table.txt')# reading from the input file\n",
    "mobilityInput[1]=mobilityInput[1]/0.12*1.6   #correction\n",
    "diffusionInput[1]=diffusionInput[1]/0.12*1.6 #correction\n",
    "mobilityInput[2]=mobilityInput[2]/0.12*1.6   #correction\n",
    "diffusionInput[2]=diffusionInput[2]/0.12*1.6 #correction"
   ]
  },
  {
   "cell_type": "code",
   "execution_count": 7,
   "metadata": {},
   "outputs": [],
   "source": [
    "poissonSparseMatrix=SparseLaplacianOperator(ngrid)  #poisson equation solving matrix\n",
    "numberOfSteps = 1000                                 #total number of time steps\n",
    "stepping=2                                          #time steps to skip before saving the data\n",
    "\n",
    "storedensity=np.zeros((int(numberOfSteps/stepping),ns,ngrid0+2),float)          #number density    \n",
    "storenetcharge=np.zeros((int(numberOfSteps/stepping),ngrid0+2+nwd1+nwd2),float) #net charge\n",
    "storeefield=np.zeros((int(numberOfSteps/stepping),ngrid0+2),float)              #elecritc field\n",
    "storepotentl=np.zeros((int(numberOfSteps/stepping),ngrid0+2+nwd1+nwd2),float)   #potential\n",
    "#storeReact=np.zeros((int(numberOfSteps/stepping),ns,ngrid0+2),float)           #production rate\n",
    "#storeR=np.zeros((int(numberOfSteps/stepping),nr,ngrid0+2),float)               #reaction rate\n",
    "storeCurrent=np.zeros((int(numberOfSteps/stepping)),float)                      #current\n",
    "ndensity=1000*np.random.rand(ns,ngrid0+2) #initializing the number densities with random value "
   ]
  },
  {
   "cell_type": "code",
   "execution_count": 8,
   "metadata": {},
   "outputs": [],
   "source": [
    "volt=5000.0                   #Interelectrode voltage (peak not RMS)\n",
    "gasdens=2.504e25              #number density of gas at NTP (unit: m^-3)\n",
    "dt=1.0e-10                    #small time interval\n",
    "frequencySource =  41000       #in Hz\n",
    "ee=1.6*10**(-19)              #electronic charge\n",
    "e0=8.54187817*10**(-12)       #epsilon\n",
    "townsendunit=1.0/((gasdens)*(10)**(-21))#townsend factor\n",
    "Kboltz=1.380*10e-23           #Boltzmann constant\n",
    "desorption=1*10.                #desorption coefficient\n",
    "recombination=1e-10           #surface recombination coefficient\n",
    "gamma=0.01                    #secondary electron emission coefficient\n",
    "#======================================================================================================\n",
    "time=0.0\n",
    "#=======================time Loop======================================================================\n",
    "for tymeStep in range(1,numberOfSteps):\n",
    "    time=time+dt\n",
    "\n",
    "    \n",
    "    #                           *** POISSON'S EQUATION ***\n",
    "    #-------------------------------------------------------------------------------------------\n",
    "    netcharge[nwd1:nwd1+2+ngrid0]=ee*np.dot(ncharge,ndensity)   #calculating net charge\n",
    "    netcharge[nwd1+1:nwd1+1+ngrid0]=0.                          #quasi neutrality condition\n",
    "    leftPot=1.0*volt*np.sin(2*np.pi*time*frequencySource)       #applied voltage (left)\n",
    "    rightpot=0.0*volt*np.sin(2*np.pi*time*frequencySource)      #applied voltage (right)\n",
    "    chrgg=-(netcharge/e0)*dx*dx                                 #RHS matrix. <Read documentation>\n",
    "    chrgg[0]=leftPot                                            #left boundary condition\n",
    "    chrgg[-1]=rightpot                                          #right boundary condition\n",
    "    potentl=la.spsolve(poissonSparseMatrix,chrgg)               #solving system of Matrix equations\n",
    "    \n",
    "    #**calculate electric field as negative gradient of potential (Expressed in Townsend Unit)\n",
    "    efield[:]=-townsendunit*(potentl[nwd1+1:nwd1+3+ngrid0]-potentl[nwd1-1:nwd1+1+ngrid0])/(2.0*dx)\n",
    "    efield[0]=-townsendunit*(-(11.0/6)*potentl[nwd1]+3.0*potentl[nwd1+1]-(3.0/2)*potentl[nwd1+2]+(1.0/3)*potentl[nwd1+3])/dx\n",
    "    efield[-1]=-townsendunit*(potentl[nwd1+1+ngrid0]-potentl[nwd1+ngrid0])/dx\n",
    "    \n",
    "    if any(abs(efield[:])>995):#Stop the program if E>995 Townsends.\n",
    "         sys.exit()\n",
    "    \n",
    "    \n",
    "    #                      *** TRANSPORT AND REACTION COEFFICIENTS ***\n",
    "    #----------------------------------------------------------------------------------------------\n",
    "    mobilityG=np.transpose(ncharge*np.transpose(Interpolation(efield,mobilityInput))) #mobility\n",
    "    diffusionG=Interpolation(efield,diffusionInput)                                   #diffusion\n",
    "    sourceG=Interpolation(efield,sourceInput)                                         #reaction rate\n",
    "    efield[:]=efield[:]/townsendunit #converting Efield back to SI(V/m) unit from Townsend's unit\n",
    "\n",
    "    \n",
    "    #                               *** SOURCE TERM ***\n",
    "    #-----------------------------------------------------------------------------------------------\n",
    "    R1=sourceG[0]*(ndensity[0]+1*10000)*gasdens*dt        #source of reaction-1 <read documentation>\n",
    "    R2=1*sourceG[1]*(ndensity[0]+1*10000)*ndensity[3]*dt  #source of reaction-2 <read documentation>\n",
    "    R3=1*gasdens*gasdens*sourceG[2]*ndensity[1]*dt        #source of reaction-3 <read documentation>\n",
    "    R4=1*sourceG[3]*(ndensity[0]+1*10000)*ndensity[2]*dt  #source of reaction-4 <read documentation>\n",
    "    R5=1*(ndensity[0]+1*10000)*gasdens*sourceG[4]*dt      #source of reaction-5 <read documentation>\n",
    "    \n",
    "    react[0]=(R1+R2-R4)                 #production of particle [0]\n",
    "    react[1]=(R1+R2-R3)                 #production of particle [1]\n",
    "    react[2]=(R3-R4)                    #production of particle [2]\n",
    "    react[3]=(-R2+R5)                   #production of particle [3]\n",
    "    ndensity[:,1:-1]+= react[:,1:-1]    #adding newly produced particles to the gas\n",
    "    \n",
    "    \n",
    "    #                            *** CURRENT CALCULATION ***\n",
    "    #------------------------------------------------------------------------------------------------\n",
    "    current=ee*np.sum((efield[2:-2]*mobilityG[1,2:-2]*ndensity[1,2:-2]\n",
    "                                                                  +  1*efield[2:-2]*mobilityG[2,2:-2]*ndensity[2,2:-2]+   \n",
    "                                                                  efield[2:-2]*mobilityG[0,2:-2]*ndensity[0,2:-2]-  \n",
    "                                                                  diffusionG[2,2:-2]*(ndensity[2,3:-1]  -ndensity[2,1:-3])/(2*dx)\n",
    "                                                                  -diffusionG[1,2:-2]*(ndensity[1,3:-1]-ndensity[1,1:-3])/(2*dx)\n",
    "                                                                  +diffusionG[0,2:-2]*(ndensity[0,3:-1]-ndensity[0,1:-3])/(2*dx))*dx)\n",
    "\n",
    "    \n",
    "    #                                    *** DIFFUSION ***\n",
    "    #-------------------------------------------------------------------------------------------------------\n",
    "    temporaryCopy=ndensity.copy()                                                 #making a copy of nDensity \n",
    "    temporaryCopy[:,0]=temporaryCopy[:,1].copy()                                  #mirror boundary (left)\n",
    "    temporaryCopy[:,-1]=temporaryCopy[:,-2].copy()                                #mirror boundary (right)\n",
    "    temporaryCopy[0]=SparseDiffusionOperator(temporaryCopy[0],diffusionG[0],dx,dt)#solving Implictly for[0]\n",
    "    temporaryCopy[1]=SparseDiffusionOperator(temporaryCopy[1],diffusionG[1],dx,dt)#solving Implictly for[1]\n",
    "    temporaryCopy[2]=SparseDiffusionOperator(temporaryCopy[2],diffusionG[2],dx,dt)#solving Implictly for[2]\n",
    "    temporaryCopy[3]=SparseDiffusionOperator(temporaryCopy[3],diffusionG[3],dx,dt)#solving Implictly for[3]\n",
    "    \n",
    "    \n",
    "    #                                   *** ADVECTION ***\n",
    "    #-------------------------------------------------------------------------------------------------------\n",
    "    temporaryCopy[:-1,0]=fluxLR[:-1,0]*dt/dx              #left boundary condition\n",
    "    temporaryCopy[:-1,-1]=fluxLR[:-1,1]*dt/dx             #right boundary condition\n",
    "        \n",
    "    temporaryCopy[0,1:-1]=AdvectionAlgorithm(dx,dt,mobilityG[0]*efield,temporaryCopy[0]) #solving for [0]\n",
    "    temporaryCopy[1,1:-1]=AdvectionAlgorithm(dx,dt,mobilityG[1]*efield,temporaryCopy[1]) #solving for [1]\n",
    "    temporaryCopy[2,1:-1]=AdvectionAlgorithm(dx,dt,mobilityG[2]*efield,temporaryCopy[2]) #solving for [2]\n",
    "    ndensity[:,1:-1]=temporaryCopy[:,1:-1].copy()#copying back\n",
    "    \n",
    "    \n",
    "    #                           ***BOUNDARY *** (charge accumulation at surface of dielectric)\n",
    "    #--------------------------------------------------------------------------------------------------------\n",
    "    recoMat=recombination*np.array([[  sigmaLR[0,0]*sigmaLR[1,0]+sigmaLR[0,0]*sigmaLR[2,0],sigmaLR[0,0]*sigmaLR[1,0],sigmaLR[0,0]*sigmaLR[2,0],0.],\n",
    "                      [sigmaLR[0,1]*sigmaLR[1,1]+sigmaLR[0,1]*sigmaLR[2,1],sigmaLR[0,1]*sigmaLR[1,1],sigmaLR[0,1]*sigmaLR[2,1],0.]])\n",
    "                      #recoMat is the MATRIX used for calculating electron-ion recombination on dielectric surfaces\n",
    "    velocity=mobilityG*efield                                                             #velocity of particles\n",
    "    fluxLR[:,0]=-(ndensity[:,1]*velocity[:,1]+gamma*gMat*ndensity[:,1]*velocity[:,1])     #flux at left dielectric\n",
    "    fluxLR[:,1]=(ndensity[:,-2]*velocity[:,-2]+gamma*gMat*ndensity[:,-2]*velocity[:,-2])  #flux at right dielectric\n",
    "    fluxLR[fluxLR<0]=0.                                                                   #non negative condition \n",
    "    sigmaLR[:,0]+=dt*(fluxLR[:,0]-desorption*dMat*sigmaLR[:,0]-recoMat[0])                #surface charge density (left dielectric)\n",
    "    sigmaLR[:,1]+=dt*(fluxLR[:,1]-desorption*dMat*sigmaLR[:,1]-recoMat[1])                #surface charge density(right dielectric)\n",
    "    #------\n",
    "    secondary1=-gamma*(ndensity[1,1]*velocity[1,1]+ndensity[2,1]*velocity[2,1])           #secondary electron emission on left dielectric\n",
    "    secondary2=gamma*(ndensity[1,-2]*velocity[1,-2]+ndensity[2,-2]*velocity[2,-2])        #secondary electron emission on right dielectric\n",
    "    if secondary1<0:secondary1=0                                                          #non-negative condition\n",
    "    if secondary2<0:secondary2=0                                                          #non-negative condition\n",
    "    ndensity[0,1:5]=(dt*(desorption*sigmaLR[0,0]/4+secondary1/4)+ndensity[0,1:5]*dx)/dx   #electron added near left boundary (desorption+secondary emission)\n",
    "    ndensity[0,-6:-2]=(dt*(desorption*sigmaLR[0,1]/4+secondary2/4)+ndensity[0,-6:-2]*dx)/dx#electron added near right boundary (desorption+secondary emission)\n",
    "    #------             \n",
    "    ndensity[:-1,0]=sigmaLR[:-1,0]/dx    #volume charge density approximation due to charge accumulation on left dielectric            \n",
    "    ndensity[:-1,-1]=sigmaLR[:-1,1]/dx   #volume charge density approximation due to charge accumulation on left dielectric\n",
    "    ndensity[:,ndensity[0]<0]=0.         #non-negative number of particles\n",
    "    \n",
    "    \n",
    "    #                   *** DATA STORAGE ***\n",
    "    #---------------------------------------------------------\n",
    "    if (tymeStep%stepping==0):\n",
    "        #print(mobilityG[0,10],mobilityG[1,10],mobilityG[2,10])\n",
    "        storedensity[int(tymeStep/stepping),:,:]=ndensity[:,:]\n",
    "        storenetcharge[int(tymeStep/stepping)]=netcharge\n",
    "        storeefield[int(tymeStep/stepping)]=efield\n",
    "        storepotentl[int(tymeStep/stepping)]=potentl\n",
    "        storeCurrent[int(tymeStep/stepping)]=current"
   ]
  },
  {
   "cell_type": "code",
   "execution_count": 9,
   "metadata": {},
   "outputs": [
    {
     "data": {
      "text/plain": [
       "array([[-0.11885699, -0.11885699, -0.11885699, -0.11885699, -0.11885699],\n",
       "       [ 0.01624682,  0.01624682,  0.01624682,  0.01624682,  0.01624682],\n",
       "       [ 0.        ,  0.        ,  0.        ,  0.        ,  0.        ],\n",
       "       [ 0.        ,  0.        ,  0.        ,  0.        ,  0.        ]])"
      ]
     },
     "execution_count": 9,
     "metadata": {},
     "output_type": "execute_result"
    }
   ],
   "source": [
    "mobilityG"
   ]
  },
  {
   "cell_type": "code",
   "execution_count": 10,
   "metadata": {},
   "outputs": [],
   "source": [
    "numberOfSteps = 10\n",
    "\n",
    "time=0.0\n",
    "#=======================time Loop======================================================================\n",
    "for tymeStep in range(1,numberOfSteps):\n",
    "    time=time+dt\n",
    "\n",
    "    \n",
    "    #                           *** POISSON'S EQUATION ***\n",
    "    #-------------------------------------------------------------------------------------------\n",
    "    netcharge[nwd1:nwd1+2+ngrid0]=ee*np.dot(ncharge,ndensity)   #calculating net charge\n",
    "    netcharge[nwd1+1:nwd1+1+ngrid0]=0.                          #quasi neutrality condition\n",
    "    leftPot=1.0*volt*np.sin(2*np.pi*time*frequencySource)       #applied voltage (left)\n",
    "    rightpot=0.0*volt*np.sin(2*np.pi*time*frequencySource)      #applied voltage (right)\n",
    "    chrgg=-(netcharge/e0)*dx*dx                                 #RHS matrix. <Read documentation>\n",
    "    chrgg[0]=leftPot                                            #left boundary condition\n",
    "    chrgg[-1]=rightpot                                          #right boundary condition\n",
    "    potentl=la.spsolve(poissonSparseMatrix,chrgg)               #solving system of Matrix equations\n",
    "    \n",
    "    #**calculate electric field as negative gradient of potential (Expressed in Townsend Unit)\n",
    "    efield[:]=-townsendunit*(potentl[nwd1+1:nwd1+3+ngrid0]-potentl[nwd1-1:nwd1+1+ngrid0])/(2.0*dx)\n",
    "    efield[0]=-townsendunit*(-(11.0/6)*potentl[nwd1]+3.0*potentl[nwd1+1]-(3.0/2)*potentl[nwd1+2]+(1.0/3)*potentl[nwd1+3])/dx\n",
    "    efield[-1]=-townsendunit*(potentl[nwd1+1+ngrid0]-potentl[nwd1+ngrid0])/dx\n",
    "    \n",
    "    if any(abs(efield[:])>995):#Stop the program if E>995 Townsends.\n",
    "         sys.exit()\n",
    "    \n",
    "    \n",
    "    #                      *** TRANSPORT AND REACTION COEFFICIENTS ***\n",
    "    #----------------------------------------------------------------------------------------------\n",
    "    mobilityG=np.transpose(ncharge*np.transpose(Interpolation(efield,mobilityInput))) #mobility\n",
    "    diffusionG=Interpolation(efield,diffusionInput)                                   #diffusion\n",
    "    sourceG=Interpolation(efield,sourceInput)                                         #reaction rate\n",
    "    efield[:]=efield[:]/townsendunit #converting Efield back to SI(V/m) unit from Townsend's unit\n",
    "\n",
    "    \n",
    "    #                               *** SOURCE TERM ***\n",
    "    #-----------------------------------------------------------------------------------------------\n",
    "    R1=sourceG[0]*(ndensity[0]+1*10000)*gasdens*dt        #source of reaction-1 <read documentation>\n",
    "    R2=1*sourceG[1]*(ndensity[0]+1*10000)*ndensity[3]*dt  #source of reaction-2 <read documentation>\n",
    "    R3=1*gasdens*gasdens*sourceG[2]*ndensity[1]*dt        #source of reaction-3 <read documentation>\n",
    "    R4=1*sourceG[3]*(ndensity[0]+1*10000)*ndensity[2]*dt  #source of reaction-4 <read documentation>\n",
    "    R5=1*(ndensity[0]+1*10000)*gasdens*sourceG[4]*dt      #source of reaction-5 <read documentation>\n",
    "    \n",
    "    react[0]=(R1+R2-R4)                 #production of particle [0]\n",
    "    react[1]=(R1+R2-R3)                 #production of particle [1]\n",
    "    react[2]=(R3-R4)                    #production of particle [2]\n",
    "    react[3]=(-R2+R5)                   #production of particle [3]\n",
    "    ndensity[:,1:-1]+= react[:,1:-1]    #adding newly produced particles to the gas\n",
    "    \n",
    "    \n",
    "    #                            *** CURRENT CALCULATION ***\n",
    "    #------------------------------------------------------------------------------------------------\n",
    "    current=ee*np.sum((efield[2:-2]*mobilityG[1,2:-2]*ndensity[1,2:-2]\n",
    "                                                                  +  1*efield[2:-2]*mobilityG[2,2:-2]*ndensity[2,2:-2]+   \n",
    "                                                                  efield[2:-2]*mobilityG[0,2:-2]*ndensity[0,2:-2]-  \n",
    "                                                                  diffusionG[2,2:-2]*(ndensity[2,3:-1]  -ndensity[2,1:-3])/(2*dx)\n",
    "                                                                  -diffusionG[1,2:-2]*(ndensity[1,3:-1]-ndensity[1,1:-3])/(2*dx)\n",
    "                                                                  +diffusionG[0,2:-2]*(ndensity[0,3:-1]-ndensity[0,1:-3])/(2*dx))*dx)\n",
    "\n",
    "    \n",
    "    #                                    *** DIFFUSION ***\n",
    "    #-------------------------------------------------------------------------------------------------------\n",
    "    temporaryCopy=ndensity.copy()                                                 #making a copy of nDensity \n",
    "    temporaryCopy[:,0]=temporaryCopy[:,1].copy()                                  #mirror boundary (left)\n",
    "    temporaryCopy[:,-1]=temporaryCopy[:,-2].copy()                                #mirror boundary (right)\n",
    "    temporaryCopy[0]=SparseDiffusionOperator(temporaryCopy[0],diffusionG[0],dx,dt)#solving Implictly for[0]\n",
    "    temporaryCopy[1]=SparseDiffusionOperator(temporaryCopy[1],diffusionG[1],dx,dt)#solving Implictly for[1]\n",
    "    temporaryCopy[2]=SparseDiffusionOperator(temporaryCopy[2],diffusionG[2],dx,dt)#solving Implictly for[2]\n",
    "    temporaryCopy[3]=SparseDiffusionOperator(temporaryCopy[3],diffusionG[3],dx,dt)#solving Implictly for[3]\n",
    "    \n",
    "    \n",
    "    #                                   *** ADVECTION ***\n",
    "    #-------------------------------------------------------------------------------------------------------\n",
    "    temporaryCopy[:-1,0]=fluxLR[:-1,0]*dt/dx              #left boundary condition\n",
    "    temporaryCopy[:-1,-1]=fluxLR[:-1,1]*dt/dx             #right boundary condition\n",
    "        \n",
    "    temporaryCopy[0,1:-1]=AdvectionAlgorithm(dx,dt,mobilityG[0]*efield,temporaryCopy[0]) #solving for [0]\n",
    "    temporaryCopy[1,1:-1]=AdvectionAlgorithm(dx,dt,mobilityG[1]*efield,temporaryCopy[1]) #solving for [1]\n",
    "    temporaryCopy[2,1:-1]=AdvectionAlgorithm(dx,dt,mobilityG[2]*efield,temporaryCopy[2]) #solving for [2]\n",
    "    ndensity[:,1:-1]=temporaryCopy[:,1:-1].copy()#copying back\n",
    "    \n",
    "    \n",
    "    #                           ***BOUNDARY *** (charge accumulation at surface of dielectric)\n",
    "    #--------------------------------------------------------------------------------------------------------\n",
    "    recoMat=recombination*np.array([[  sigmaLR[0,0]*sigmaLR[1,0]+sigmaLR[0,0]*sigmaLR[2,0],sigmaLR[0,0]*sigmaLR[1,0],sigmaLR[0,0]*sigmaLR[2,0],0.],\n",
    "                      [sigmaLR[0,1]*sigmaLR[1,1]+sigmaLR[0,1]*sigmaLR[2,1],sigmaLR[0,1]*sigmaLR[1,1],sigmaLR[0,1]*sigmaLR[2,1],0.]])\n",
    "                      #recoMat is the MATRIX used for calculating electron-ion recombination on dielectric surfaces\n",
    "    velocity=mobilityG*efield                                                             #velocity of particles\n",
    "    fluxLR[:,0]=-(ndensity[:,1]*velocity[:,1]+gamma*gMat*ndensity[:,1]*velocity[:,1])     #flux at left dielectric\n",
    "    fluxLR[:,1]=(ndensity[:,-2]*velocity[:,-2]+gamma*gMat*ndensity[:,-2]*velocity[:,-2])  #flux at right dielectric\n",
    "    fluxLR[fluxLR<0]=0.                                                                   #non negative condition \n",
    "    sigmaLR[:,0]+=dt*(fluxLR[:,0]-desorption*dMat*sigmaLR[:,0]-recoMat[0])                #surface charge density (left dielectric)\n",
    "    sigmaLR[:,1]+=dt*(fluxLR[:,1]-desorption*dMat*sigmaLR[:,1]-recoMat[1])                #surface charge density(right dielectric)\n",
    "    #------\n",
    "    secondary1=-gamma*(ndensity[1,1]*velocity[1,1]+ndensity[2,1]*velocity[2,1])           #secondary electron emission on left dielectric\n",
    "    secondary2=gamma*(ndensity[1,-2]*velocity[1,-2]+ndensity[2,-2]*velocity[2,-2])        #secondary electron emission on right dielectric\n",
    "    if secondary1<0:secondary1=0                                                          #non-negative condition\n",
    "    if secondary2<0:secondary2=0                                                          #non-negative condition\n",
    "    ndensity[0,1:5]=(dt*(desorption*sigmaLR[0,0]/4+secondary1/4)+ndensity[0,1:5]*dx)/dx   #electron added near left boundary (desorption+secondary emission)\n",
    "    ndensity[0,-6:-2]=(dt*(desorption*sigmaLR[0,1]/4+secondary2/4)+ndensity[0,-6:-2]*dx)/dx#electron added near right boundary (desorption+secondary emission)\n",
    "    #------             \n",
    "    ndensity[:-1,0]=sigmaLR[:-1,0]/dx    #volume charge density approximation due to charge accumulation on left dielectric            \n",
    "    ndensity[:-1,-1]=sigmaLR[:-1,1]/dx   #volume charge density approximation due to charge accumulation on left dielectric\n",
    "    ndensity[:,ndensity[0]<0]=0.         #non-negative number of particles\n",
    "    \n",
    "    \n",
    "    #                   *** DATA STORAGE ***\n",
    "    #---------------------------------------------------------\n",
    "    if (tymeStep%stepping==0):\n",
    "        #print(mobilityG[0,10],mobilityG[1,10],mobilityG[2,10])\n",
    "        storedensity[int(tymeStep/stepping),:,:]=ndensity[:,:]\n",
    "        storenetcharge[int(tymeStep/stepping)]=netcharge\n",
    "        storeefield[int(tymeStep/stepping)]=efield\n",
    "        storepotentl[int(tymeStep/stepping)]=potentl\n",
    "        storeCurrent[int(tymeStep/stepping)]=current"
   ]
  },
  {
   "cell_type": "code",
   "execution_count": 11,
   "metadata": {
    "scrolled": true
   },
   "outputs": [
    {
     "data": {
      "text/plain": [
       "array([[-0.12020767, -0.12020767, -0.12020767, -0.12020767, -0.12020767],\n",
       "       [ 0.01651766,  0.01651766,  0.01651766,  0.01651766,  0.01651766],\n",
       "       [ 0.        ,  0.        ,  0.        ,  0.        ,  0.        ],\n",
       "       [ 0.        ,  0.        ,  0.        ,  0.        ,  0.        ]])"
      ]
     },
     "execution_count": 11,
     "metadata": {},
     "output_type": "execute_result"
    }
   ],
   "source": [
    "mobilityG"
   ]
  },
  {
   "cell_type": "markdown",
   "metadata": {},
   "source": [
    "<br>\n",
    "### (4) 표면 전하 축적"
   ]
  },
  {
   "cell_type": "code",
   "execution_count": 12,
   "metadata": {},
   "outputs": [
    {
     "data": {
      "text/plain": [
       "array([[1.85372325e+02, 5.67657797e+02, 4.40607817e+02, 3.48011102e+02,\n",
       "        0.00000000e+00],\n",
       "       [0.00000000e+00, 1.05603570e-04, 4.37891010e-05, 8.73064471e-05,\n",
       "        2.50340014e-01],\n",
       "       [0.00000000e+00, 1.28823228e+03, 6.74559967e+02, 1.49079619e+03,\n",
       "        0.00000000e+00],\n",
       "       [1.16806976e+02, 1.03281855e+04, 1.10228359e+04, 1.09015357e+04,\n",
       "        6.77389259e+02]])"
      ]
     },
     "execution_count": 12,
     "metadata": {},
     "output_type": "execute_result"
    }
   ],
   "source": [
    "ndensity"
   ]
  }
 ],
 "metadata": {
  "kernelspec": {
   "display_name": "Python 3",
   "language": "python",
   "name": "python3"
  },
  "language_info": {
   "codemirror_mode": {
    "name": "ipython",
    "version": 3
   },
   "file_extension": ".py",
   "mimetype": "text/x-python",
   "name": "python",
   "nbconvert_exporter": "python",
   "pygments_lexer": "ipython3",
   "version": "3.6.5"
  }
 },
 "nbformat": 4,
 "nbformat_minor": 2
}
