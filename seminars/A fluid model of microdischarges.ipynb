{
 "cells": [
  {
   "cell_type": "markdown",
   "metadata": {},
   "source": [
    "### 2.1 Introduction\n",
    "major physical aspects: transport of particles, transport of momentum, transport of energy, plasma chemistry, space and surface charge induced electric fields, emission of radiation\n",
    "\n",
    "2.2 basic system of equations. -> bulk의 중요한 물리적 양들간의 관계를 설명한다. discharge를 둘러싼 표면에서 일어나는 일들에 대한 설명은 X 표면에서의 process는 경계조건으로 통합된다.<br>\n",
    "2.3 boundary condition의 물리적 배경<br>\n",
    "2.4 boundary condition"
   ]
  },
  {
   "cell_type": "markdown",
   "metadata": {},
   "source": [
    "### 2.2 The system of fluid equations\n",
    "\n",
    "Boltzmann eqution의 연속방정식, 모멘텀 밸런스 방정식, 에너지 밸런스 방정식을 통해 플라즈마 입자의 행동을 설명한다. 이 운송방정식이 전기장에 대한 포아송 방정식과 결합된다.<br>\n",
    "낮은 이온화 정도에서 기체 입자의 밀도와 온도는 discharge에 영향받지 않고 일정하다고 가정한다. 모든 플라즈마 입자종 에 대해, 시간에 따른 밀도는 연속 방정식으로 설명된다."
   ]
  },
  {
   "cell_type": "markdown",
   "metadata": {},
   "source": [
    "### $\\frac{\\partial n_p}{\\partial t}+\\nabla \\cdot \\mathbf{\\Gamma_p} = S_p$ (2.1)\n",
    "\n",
    "$n_p$ : density, $\\mathbf{\\Gamma_p}$: flux, $S_p$: source term, 밑첨자 $p$ 는 전자(p=e), 이온, 또는 중성 화학종을 나타낼 수 있다."
   ]
  },
  {
   "cell_type": "markdown",
   "metadata": {},
   "source": [
    "flux는 모멘텀 밸런스 방정식으로부터 얻어지고 이것은 drift-diffusion equation(표류 확산 방정식)으로 계산된다.<br>\n",
    "### $\\mathbf{\\Gamma}_p =sgn(q_p)\\mu_p \\mathbf{E} n_p-D_p\\nabla n_p$ (2.2)<br>\n",
    "$\\mathbf{E}$은 전기장, $q_p$는 입자 전하, $\\mu$는 mobility, $D_p$는 확산 계수. 첫번째 항은 전기장(drift)으로 인한 flux, 두번째 항은 농도 gradient(diffusion)로 인한 flux를 나타낸다. 입자 관성은 무시된다."
   ]
  },
  {
   "cell_type": "markdown",
   "metadata": {},
   "source": [
    "source term $S_p$는 discharge에서 발생되는 반응에 의해 결정된다. 반응에서 종 p의 입자가 생성되면서 나오는 양의 기여와 그 입자가 상실되는 반응에서 오는 음의 기여로 구성된다.<br>\n",
    "### $S_p = \\sum_{r} c_{p,r}R_r$ (2.3)<br>\n",
    "밑첨자 r은 반응을 나타낸다. $c_{p,r}$은 r 반응에서 생성되는 종 p의 총 숫자이고 양, 음 모두 될 수 있다. 반응률 $R$은 반응하는 입자의 밀도에 비례한다. $R=kn_1n_2$, $R=kn_1n_2n_3$ 등. 비례상수는 속도 계수이다. 마찬가지로 자연 붕괴 과정의 속도는 $R=kn$, $k$는 decay frequency이다."
   ]
  },
  {
   "cell_type": "markdown",
   "metadata": {},
   "source": [
    "운송방정식 (2.1)과 (2.2)는 반응 속도 계수$k$와 운송계수 $\\mu$, $D$의 입력 값을 필요로 한다. 일반적으로 이러한 양들은 고려되는 입자의 에너지 분포에 따라 달라진다. 우리는 이러한 의존성에 관한 다음과 같은 근사치를 사용한다. 충전된 입자 전송 계수가 아인슈타인 관계를 만족시킨다고 가정한다.\n",
    "### $D=\\frac{k_{B}T\\mu}{e}$ (2.7)<br>\n",
    "$k_B$는 볼츠만 상수, $e$는 기본 전하, T는 임의 입자 운동의 에너지에 해당하는 입자 온도이다."
   ]
  },
  {
   "cell_type": "markdown",
   "metadata": {},
   "source": [
    "이온의 경우, 입자 에너지 분포와 전기장 사이의 직접적인 관계를 가정하는 국부적 필드 근사치를 사용한다. 운송 및 속도 계수는 전기장의 함수로 간주된다.<br>\n",
    "### $\\mu=\\mu(E)$, $D=D(E)$, $k=k(E)$(2.8)<br>\n",
    "특히, 이온 확산 계수는 아인슈타인 관계(2.7)에 의한 mobility로부터 확인되는데, 여기서 이온 온도는 식 2.9에 의한 전기장과 관련된다.\n",
    "### $k_BT=k_BT_g+\\frac{m+m_g}{5m+3m_g}m_g(\\mu E)^2$ (2.9)\n",
    "여기서 $T_g$는 가스 온도 $m$, $m_g$는 각각 이온 및 가스 입자 질량이다."
   ]
  },
  {
   "cell_type": "markdown",
   "metadata": {},
   "source": [
    "그러나 전자의 경우 local field 근사치는 매우 큰 질량 차이로 인해 전자 중성 충돌에서 에너지 전달이 미미하게 나타나는 경우가 많다. 따라서 (2.8)의 관계를 사용하는 대신,  전자 운송 계수와 전자 충격 반응의 속도 계수를 전자 평균 에너지의 함수라고 가정한다.<br>\n",
    "### $\\mu_e=\\mu_e(\\bar{\\varepsilon})$, $D_e=D_e(\\bar{\\varepsilon})$, $k=k(\\bar{\\varepsilon})$ (2.10)\n",
    "여기에서 첨자 e는 전자를 가리키고, 전자 평균 에너지$\\bar{\\varepsilon}$는 에너지 밸런스 방정식에서 비롯된다."
   ]
  },
  {
   "cell_type": "markdown",
   "metadata": {},
   "source": [
    "### $\\frac{\\partial n_\\varepsilon}{\\partial t} + \\nabla \\cdot \\mathbf{\\Gamma}_\\varepsilon=S_\\varepsilon$ (2.11)\n",
    "전자 에너지 연속방정식의 형태.<br>\n",
    "$n_\\varepsilon$는 전자 에너지 밀도 $n_\\varepsilon=n_e \\bar{\\varepsilon}$,<br> $\\mathbf{\\Gamma}_\\varepsilon$는 전자 에너지 flux,  $\\mathbf{\\Gamma}_\\varepsilon=\\frac{5}{3}\\bar{\\varepsilon}\\mathbf{\\Gamma}_e\\mathbf{q}$,<br>\n",
    "$\\mathbf{q}$는 heat flux로 전자 평균 에너지 gradient에 비례한다고 가정할수 있다. $\\mathbf{q}=\\frac{5}{3}n_eD_e\\nabla \\bar{\\varepsilon}$ "
   ]
  },
  {
   "cell_type": "markdown",
   "metadata": {},
   "source": [
    "전자 에너지에 관한 drift-diffusion 방정식의 형태로 대입해보면 다음과 같은 식이 된다.<br>\n",
    "### $\\mathbf{\\Gamma}_e = -\\frac{5}{3} \\mu_e \\mathbf{E}n_\\varepsilon - \\frac{5}{3}D_e \\nabla_\\varepsilon$ (2.15)"
   ]
  },
  {
   "cell_type": "markdown",
   "metadata": {},
   "source": [
    "전자 에너지의 source term은 다음과 같다.<br>\n",
    "### $S_\\varepsilon = -e\\mathbf{\\Gamma}_e\\cdot \\mathbf{E}-n_e\\sum_{r} \\bar{\\varepsilon}_rk_rn_r$(2.16)<br>\n",
    "여기서 두 항은 각각 전기장에 의한 가열과 충돌에 의한 에너지 손실을 나타낸다. 손실항의 합계는 target 입자의 밀도 $n_r$과 임계에너지 $\\bar{\\varepsilon}_r$와 함께 전자 충격 반응에 관한 것이다.<br>\n",
    "탄성 충돌에 의한 에너지 손실은 유효 속도 계수와 함께 1eV의 가상 임계 에너지를 사용함으로써 이 항에 포함된다."
   ]
  },
  {
   "cell_type": "markdown",
   "metadata": {},
   "source": [
    "함수 (2.10)은 맥스웰 전자 에너지 분포함수를 가정하고 cross section으로부터 얻어지고 이는 균일영역 Monte-Carlo 또는 볼츠만 계산에 의해 발생하는 전자 에너지 분포 함수를 이용한다. 위의 방정식에서 전자 평균 에너지는 주로 무작위 운동에서 비롯된다고 가정하여, 식 $k_BT_e=\\frac{2}{3}\\bar{\\varepsilon}$과 식 (2.7), $D=\\frac{k_{B}T\\mu}{e}$의 아인슈타인 관계를 이용하여 전자 확산 계수를 찾을 수 있다."
   ]
  },
  {
   "cell_type": "markdown",
   "metadata": {},
   "source": [
    "마지막으로, 전기장은 Poisson 방정식 $\\nabla \\cdot(\\varepsilon \\mathbf{E})=-\\nabla \\cdot(\\varepsilon \\nabla V)=\\rho$에 따라 공간 전하 밀도에 따라 달라진다.<br>\n",
    "$\\varepsilon$은 유전율, $V$는 정전기적 포텐셜, $\\rho$는 공간 전하 밀도이다. $\\rho=\\sum_{p} q_pn_p$"
   ]
  },
  {
   "cell_type": "markdown",
   "metadata": {},
   "source": [
    "### 2.3 New boundary conditions for particle transport\n",
    "위 방정식들의 경계조건은 이 문제를 설명하는데 있어서 중요한 부분이다. 입자 flux에 관한 수식을 도입하는 보다 일반적인 접근 방식을 사용하여 경계조건을 구하며, 전자에는 이차전자 방출이 포함될 수 있다. 식 (2.20)에 따라 flux가 표면으로 향한다고 가정한다.\n",
    "### $\\mathbf{\\Gamma}\\cdot \\mathbf{n} = asgn(q)\\mu\\mathbf{E}\\cdot \\mathbf{n}n + \\frac{1}{4}v_{th}n$ (2.20)<br>\n",
    "$\\mathbf{n}$는 벽을 향하는 normal 벡터이고 $v_{th}$는 열 속도 $v_{th}=\\sqrt{\\frac{8k_BT}{\\pi m}}$이다.<br>\n",
    "sgn 함수는 숫자의 부호를 나타내는 정수를 반환한다. <br>\n",
    "$sgn(x)$ = $\\left\\{\\begin{matrix}\n",
    "1 & x>0\\\\ \n",
    "0 & x=0\\\\ \n",
    "-1 & x<0\n",
    "\\end{matrix}\\right.$   $(x\\in \\mathbb{R})$<br><br>\n",
    "숫자 $a$는  drift 속도가 벽을 향해 있는경우 1, 그렇지 않은 경우 0으로 설정한다.<br>\n",
    "$a=\\left\\{\\begin{matrix}\n",
    "1 & sgn(q)\\mu\\mathbf{E}\\cdot\\mathbf{n}>0\\\\ \n",
    "0 & sgn(q)\\mu\\mathbf{E}\\cdot\\mathbf{n}\\leq 0\n",
    "\\end{matrix}\\right.$(2.22)"
   ]
  },
  {
   "cell_type": "markdown",
   "metadata": {},
   "source": [
    "전자의 경우, 이차 전자 방출에 의한 flux가 식 (2.20)에 더해진다.\n",
    "### $\\mathbf{\\Gamma}_e \\cdot \\mathbf{n} = -a_e \\mu_e \\mathbf{E}\\cdot \\mathbf{n} n_e + \\frac{1}{4} v_{th,e}n_e - \\sum_p \\mathbf{\\gamma}_p \\cdot \\mathbf{n}$ (2.23)<br>\n",
    "밑첨자 e는 전자를 나타내며, 마지막 항의 합계는 벽에 충돌하는 이온 종에 대한 것이다. 이차 방출 계수 $\\gamma$는 입사이온 당 방출 전자의 평균 개수를 나타낸다."
   ]
  },
  {
   "cell_type": "markdown",
   "metadata": {},
   "source": [
    "그러나 여기서 경계조건 (2.20)과 (2.23)이 여러가지 면에서 물리적 현실에 미치지 못한다는 것을 보여준다. 대신 사용할 수 있는 개선된 경계 조건을 제안한다.<br>\n",
    "우선, 벽을 향하는 입자 flux에 대해 논한다. 운동학적 고려사항에서 drift-diffusion 조건 하에서 벽쪽으로의 입자 flux는 다음 식 (2.24)에 의해 주어진다.\n",
    "### $\\mathbf{\\Gamma} \\cdot \\mathbf{n}=(1-r)\\left [ a sgn(q)\\mu\\mathbf{E}\\cdot \\mathbf{n}n + \\frac{1}{4}v_{th} n - \\frac{1}{2}D\\nabla n \\cdot \\mathbf{n}\\right ]$ (2.24)\n",
    "r은 표면에 반사된 입자의 분율이며, $a$는 (2.22)에 의해 주어진다. 마지막 두 항은 무작위 운동으로 인한 확산 flux를 나타낸다. 마지막 항은 무작위 운동 flux가 벽에서 특정 자유 이동 경로 내에 있는 모든 입자를 포함한다는 사실을 반영한다. 이 항의 밀도 gradient를 정확하게 구하는 데 발생할 수 있는 수치상의 어려움을 피하기 위해 (2.24)식을 다시 작성한다. "
   ]
  },
  {
   "cell_type": "markdown",
   "metadata": {},
   "source": [
    "식(2.24)을 drift-diffusion 방정식(2.2)의 경계 조건으로 하는 것은 다음의 방정식이 경계에서 유지되어야 함을 의미한다.\n",
    "### $sgn(q)\\mu \\mathbf{E}\\cdot \\mathbf{n}n-D\\nabla n \\cdot \\mathbf{n}=(1-r)\\left [ asgn(q)\\mu \\mathbf{E}\\cdot \\mathbf{n}n+\\frac{1}{4}v_{th}n-\\frac{1}{2}D\\nabla n \\cdot \\mathbf{n}) \\right ]$ (2.25)\n",
    "양변이 비슷한 항으로 이루어진 것처럼 보이나, 그 둘은 매우 다르다. 좌변은 연속적인 수식으로 공간 어디에나 적용될 수 있지만, 플라즈마 부피 내에서만 물리적 의미를 갖는다. 반면, 우변은 경계에서의 flux에 대한 kinetic 수식이다."
   ]
  },
  {
   "cell_type": "markdown",
   "metadata": {},
   "source": [
    "식(2.25)로 식(2.24)의 마지막 항을 대체할 수 있다.\n",
    "### $\\mathbf{\\Gamma}\\cdot \\mathbf{n}=\\frac{1-r}{1+r}\\left [ (2a-1)sgn(q)\\mu \\mathbf{E} \\cdot \\mathbf{n}n+\\frac{1}{2}v_{th}n \\right ]$(2.26)\n",
    "이 식은 무거운 입자 종의 경계 조건으로 적절하다. 이것은 식 (2.20)과 같은 구조를 갖지만, 더 나은 물리적 서술이다."
   ]
  },
  {
   "cell_type": "markdown",
   "metadata": {},
   "source": [
    "전자의 경우, 이차 전자 방출에 의한 유입이 반드시 고려되어야 한다. 식 (2.23)에서처럼 벽을 향한 flux에 유입을 더한 식은 다음과 같다.\n",
    "### $\\mathbf{\\Gamma}_e\\cdot \\mathbf{n}=(1-r_e)\\left [ -a\\mu_e \\mathbf{E}\\cdot \\mathbf{n}n_e +\\frac{1}{4}v_{th,e}n_e - \\frac{1}{2}D_e\\nabla n_e \\cdot \\mathbf{n} \\right ]-\\sum_{p} \\gamma_p\\mathbf{\\Gamma}_p \\cdot \\mathbf{n}$ (2.27)<br>\n",
    "전에서와 마찬가지로 drift-diffusion flux와 같게 두면 위 식은 아래와 같이 된다.\n",
    "### $\\mathbf{\\Gamma}_e\\cdot \\mathbf{n}=\\frac{1-r_e}{1+r_e}\\left [ -(2a_e-1) \\mu_e \\mathbf{E}\\cdot \\mathbf{n}n_e +\\frac{1}{2}v_{th,e}n_e \\right ]- \\frac{2}{1+r_e}\\sum_{p} \\gamma_p\\mathbf{\\Gamma}_p \\cdot \\mathbf{n}$ (2.28)"
   ]
  },
  {
   "cell_type": "markdown",
   "metadata": {},
   "source": [
    "이 경계조건은 공통 전자 조건(2.23)에 대응하는 조건이다. 이 두가지 경계 조건은 비현실적인 결과로 이어진다. 이 조건에 따르면, 이차전자에 의해 방출되는 전자를 포함한 표면 앞에 있는 모든 전자가 벽을 향하는 확산 유량에 기여한다. 이렇게 하여 식 (2.23)과 (2.28)의 확산 항은 방출된 전자의 후방산란을 과도하게 고려하게 된다. 많은 연구는 음극 표면의 앞에서와 같이 충분히 높은 전기장(> 100V $cm^{-1}$ $Torr^{-1}$)이 존재할 경우 실제로 방출된 입자가 표면으로 다시 산란되지 않는다는 것을 입증하였다."
   ]
  },
  {
   "cell_type": "markdown",
   "metadata": {},
   "source": [
    "전자에 대한 현실적인 경계 조건을 찾기 위해 벌크로부터 오는 벽에서의 전자 $\\alpha$-전자와 표면에서 방출되는 $\\gamma$-전자로 전자를 구분한다. 두 집단은 drift-diffusion 방정식에서 모두 동등하게 취급되고 구분되지 않지만 다른 경계 조건을 갖는다. <br>$\\alpha$-전자의 경계 조건으로 식(2.26)의 경계 조건을 적용한다.\n",
    "### $\\mathbf{\\Gamma}_\\alpha \\cdot \\mathbf{n}=\\frac{1-r_e}{1+r_e}\\left [ -(2a-1)\\mu_e \\mathbf{E} \\cdot \\mathbf{n}n_\\alpha+\\frac{1}{2}v_{th,e}n_\\alpha \\right ]$(2.29)<br>\n",
    "$\\mathbf{\\Gamma}_\\alpha$와 $n_\\alpha$는 각각 $\\alpha$-전자의 flux, 수밀도이다."
   ]
  },
  {
   "cell_type": "markdown",
   "metadata": {},
   "source": [
    "반면에 $\\gamma$-전자는 벽으로 다시 돌아오지 않는다.<br>\n",
    "### $\\mathbf{\\Gamma}_\\gamma \\cdot \\mathbf{n}=-(1-a_e) \\sum_p \\gamma_p\\Gamma_p \\cdot \\mathbf{n}$(2.30)<br>\n",
    "$\\mathbf{\\Gamma}_\\gamma$는 $\\gamma$-전자의 flux이고 인자 $(1-a_e)$는 전기장이 벽으로부터 멀리 향할 경우 flux를 상쇄하도록 하기 위하여 포함된다.<br>\n",
    "식 (2.29)의 $\\alpha$-전자의 밀도와 총 전자 밀도를 연관시킨다면 두 flux (2.29)와 (2.30)의 합을 전체 전자 flux의 경계 조건으로 사용할 수 있다. $n_\\gamma$는 $\\gamma$-전자의 밀도일 때 $n_\\alpha=n_e-n_\\gamma$임을 염두에 두고 다음의 접근법을 선택한다."
   ]
  },
  {
   "cell_type": "markdown",
   "metadata": {},
   "source": [
    "$\\gamma$-전자에 대한 drift-diffusion 방정식의 경계 조건으로 (2.30)을 사용하여 (2.25)와 유사하게 다음과 같이 표기한다.<br>\n",
    "### $-\\mu_e \\mathbf{E}\\cdot \\mathbf{n}n_\\gamma-D_e\\nabla n_\\gamma \\cdot \\mathbf{n}=-(1-a_e)\\sum_p \\mathbf{\\gamma}_p \\mathbf{\\Gamma}_p \\cdot \\mathbf{n}$ (2.31)"
   ]
  },
  {
   "cell_type": "markdown",
   "metadata": {},
   "source": [
    "이차 전자의 방출은 주로 강한 전기장이 벽쪽으로 향할 때 중요하다. 이 경우 $\\gamma$-전자 밀도를 제공하는 이 방정식의 좌변의 두 번째 항을 무시하는 것이 가능하다.\n",
    "### $n_\\gamma=-(1-a_e)\\frac{\\sum_p \\mathbf{\\gamma}_p \\mathbf{\\Gamma}_p \\cdot \\mathbf{n}}{\\mu_e \\mathbf{E}\\cdot \\mathbf{n}}$ (2.32)<br>\n",
    "전기장이 작을 경우 이 표현이 부정확할 수 있으나, $n_\\gamma$는 무시 가능하다. ($n_\\alpha\\approx n_e$). 이온 flux $\\mathbf{\\Gamma}_p$가 대체로 $\\mathbf{E}$에 비례한다는 것을 적용하면 다음과 같이 나타난다.\n",
    "\n",
    "### $n_\\gamma \\approx (1-a_e)\\frac{1}{\\mu_e}\\sum_p \\gamma_p \\frac{1-r_p}{1+r_p}\\left [ (2a_p-1)sgn(q_p)+\\frac{1}{2}\\sqrt{\\frac{8(m_p+m_g)m_g}{\\pi (5m_p+3m_g)m_p}} \\right ]\\mu_p n_p$ (2.33)<br>\n",
    "이 근사치에는 기체의 온도를 무시하고 전기장이 벽에 수직인 것으로 가정하는 식 (2.26), (2.21), (2.9)를 사용하였다."
   ]
  },
  {
   "cell_type": "markdown",
   "metadata": {},
   "source": [
    "마지막으로 두 전자 그룹의 flux (2.29)와 (2.30)을 더하고 $n_\\alpha=n_e-n_\\gamma$와 식(2.32)를 대입하여 전체 전자 flux의 경계 조건을 얻는다.\n",
    "### $\\mathbf{\\Gamma}_e\\cdot \\mathbf{n}=\\frac{1-r_e}{1+r_e}\\left [ -(2a_e-1)\\mu_e \\mathbf{E}\\cdot \\mathbf{n}n_e+\\frac{1}{2}v_{th,e}n_e-\\frac{1}{2}v_{th,e}n_\\gamma \\right ]-\\frac{2}{1+r_e}(1-a_e)\\sum_p \\gamma_p \\mathbf{\\Gamma}_p\\cdot \\mathbf{n}$(2.34)"
   ]
  },
  {
   "cell_type": "markdown",
   "metadata": {},
   "source": [
    "$n_{\\gamma}$는 식 (2.32)또는 수학적으로 더 간편한 (2.33)식으로 주어진다. 이 경계조건은 방출된 전자의 운동 방향을 보정하는 $n_{\\gamma}$항을 제외하면 (2.28)의 경계 조건과 비슷하다. 이 항으로 인해 경계조건은 벽쪽으로 높은 field에 대한 한계 (2.30)과 벽으로 부터 나오는 field 또는 낮은 field에 대한 한계(2.29) 사이에서 자동으로 전환된다."
   ]
  },
  {
   "cell_type": "markdown",
   "metadata": {},
   "source": [
    "### 2.4 The boundary conditions for the system of fluid equations\n",
    "입자 운송 방정식(2.1-2)의 경우 이전 절에 제시된 경계 조건을 사용한다. 여기서 우리는 데이터가 부족하므로 모든 반사 계수를 0으로 설정한다. 전자를 제외한 무거운 종의 운송을 위한 경계조건은 다음과 같다.\n",
    "### $\\mathbf{\\Gamma}_p \\cdot \\mathbf{n} = (2a_p-1)sgn(q_p)\\mu_p \\mathbf{E}\\cdot \\mathbf{n}n_p+\\frac{1}{2}v_{th,p}n_p$ (2.35)"
   ]
  },
  {
   "cell_type": "markdown",
   "metadata": {},
   "source": [
    "전자에 대해 다음의 식을 적용한다.\n",
    "### $\\mathbf{\\Gamma}_e \\cdot \\mathbf{n} = -(2a_p-1)\\mu_e \\mathbf{E}\\cdot \\mathbf{n}n_e+\\frac{1}{2}v_{th,e}n_e-\\frac{1}{2}v_{th,e}n_{\\gamma}-2(1-a_e)\\sum_p\\gamma_p\\mathbf{\\Gamma}_p \\cdot \\mathbf{n}$ (2.36)\n",
    "### $n_\\gamma=(1-a_e)\\frac{1}{\\mu_e}\\sum_p\\gamma_p \\left [ (2a_p-1)sgn(q_p)+\\frac{1}{2}\\sqrt{\\frac{8(m_p+m_g)m_g}{\\pi (5m_p+3m_g)m_p}} \\right ] \\mu_pn_p$ (2.37)"
   ]
  },
  {
   "cell_type": "markdown",
   "metadata": {},
   "source": [
    "전자 에너지 운송 방정식 (2.11)과 (2.15)에 대해 전자 운송 방정식과 같은 경계 조건을 사용한다.\n",
    "### $\\mathbf{\\Gamma_{\\varepsilon}}\\cdot \\mathbf{n} = -(2a_e-1)\\frac{5}{3}\\mu_e \\mathbf{E}\\cdot \\mathbf{n} n_{\\varepsilon}+\\frac{2}{3}v_{th,e}n_{\\varepsilon}-\\frac{2}{3}v_{th,e}n_{\\varepsilon,\\gamma}-2(1-a_e)\\sum_p \\gamma_p \\bar{\\varepsilon}_p\\mathbf{\\Gamma_p}\\cdot \\mathbf{n}$(2.38)\n",
    "### $n_{\\varepsilon, \\gamma}=(1-a_{e})\\frac{1}{\\mu_{e}}\\sum_{p}\\gamma_{p}\\bar{\\varepsilon_{p}} \\left [(2a_{p}-1)sgn(q_{p})+ \\frac{1}{2}\\sqrt{\\frac{8(m_{p}+m_{g})m_{g}}{\\pi(5m_{p}+3m_{g})m_{p}}} \\right ] \\mu_{p}n_{p}$ (2.39)<br>\n",
    "$\\bar{\\varepsilon_p}$는 종 p의 발생에 의해 방출되는 전자의 평균 초기 에너지이다."
   ]
  },
  {
   "cell_type": "markdown",
   "metadata": {},
   "source": [
    "전극 전위는 포아송 방정식의 경계 조건이다. 방전 가스를 둘러싼 유전물질은 자연적으로 전위나 전기장에 대한 경계조건을 부과하지 않기 때문에 플라즈마의 전체 유전적 환경에서 포아송 방정식을 해결할 필요가 있다. 유전체 장벽 외에 표면 전하가 미치는 영향은 가우스 법칙에 의해 설명된다.\n",
    "### $\\varepsilon_{wall}\\mathbf{E}_{wall}\\cdot \\mathbf{n} - \\varepsilon_{0}\\mathbf{E}_{gas}\\cdot \\mathbf{n} = \\sigma$ (2.40)\n",
    "$\\mathbf{E}_{wall}$과 $\\mathbf{E}_{gas}$는 표면에서의 전기장으로 각각 유전물질의 안쪽과 바깥쪽을 나타낸다. 표면 전하 밀도 $\\sigma$는 방출 전류가 벽에 부딪혀 발생한다. 우리는 이 전하가 표면을 따라 확산되지 않고 방전에 의해 침전된 바로 그 지점에 머무른다고 가정하여 다음 식을 적용한다.\n",
    "### $\\sigma = \\int \\mathbf{j}\\cdot \\mathbf{n}dt$ (2.41)<br>\n",
    "$\\mathbf{j}$는 플라즈마 전류 밀도로 다음과 같다.\n",
    "### $\\mathbf{j} = \\sum_{p}q_{p}\\mathbf{\\Gamma}_{p}$ (2.42)"
   ]
  },
  {
   "cell_type": "markdown",
   "metadata": {},
   "source": [
    "전극을 통한 전류는 다음과 같다.\n",
    "### $I = \\int\\int_{electrode surface}\\left ( \\mathbf{j}\\cdot \\mathbf{n} - \\varepsilon_{0}\\frac{\\partial}{\\partial t} \\mathbf{E}\\cdot \\mathbf{n} \\right ) d^{2}S$ (2.43)"
   ]
  },
  {
   "cell_type": "markdown",
   "metadata": {},
   "source": [
    "이 식의 두번째 항은 변위 전류로서 전극 표면에 존재하는 총 전하량 변화에 해당한다. 방전 전류에서 전극 전압으로의 back-coupling을 포함하는 외부 전기 회로는 이 모델에 포함되지 않는다. 즉, 전위가 항상 인가된다."
   ]
  }
 ],
 "metadata": {
  "kernelspec": {
   "display_name": "Python 3",
   "language": "python",
   "name": "python3"
  },
  "language_info": {
   "codemirror_mode": {
    "name": "ipython",
    "version": 3
   },
   "file_extension": ".py",
   "mimetype": "text/x-python",
   "name": "python",
   "nbconvert_exporter": "python",
   "pygments_lexer": "ipython3",
   "version": "3.6.1"
  }
 },
 "nbformat": 4,
 "nbformat_minor": 2
}
