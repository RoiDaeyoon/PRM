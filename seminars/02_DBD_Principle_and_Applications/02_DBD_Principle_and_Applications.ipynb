{
 "cells": [
  {
   "cell_type": "markdown",
   "metadata": {},
   "source": [
    "# Dielectric-Barrier Discharges. Principle and Applications"
   ]
  },
  {
   "cell_type": "markdown",
   "metadata": {},
   "source": [
    "### 참고) 한글 요약 하단의 영문 내용은 해당 논문에서 발췌한 문장입니다."
   ]
  },
  {
   "cell_type": "markdown",
   "metadata": {},
   "source": [
    "## 1. Abstract"
   ]
  },
  {
   "cell_type": "markdown",
   "metadata": {},
   "source": [
    "- **DBD 방전현상**은 **비평형 방전**이고, **넓은 범위의 온도와 압력**에서 사용가능하다.\n",
    "- 대기압에서 전기적 **항복현상(breakdown)**은 독립적인 다수의 **thin current filaments에 의해 발생**한다.\n",
    "- 이러한 단시간 **미세방전**의 특성은 다음과 같다.\n",
    "  - 고압의 **'glow 방전(저압 가스 플라즈마, 색상을 띔)'**이다.\n",
    "  - 전자에너지를 가진다. (가스 원자나 분자를 **'여기상태'**로 만들수 있는 에너지)\n",
    "- 이들은 많은 산업에 적용될 가능성이 있다."
   ]
  },
  {
   "cell_type": "markdown",
   "metadata": {},
   "source": [
    "- Dielectric-barrier discharges are non-equilibrium discharges that can be conveniently operated over a wide temperature and pressure range. \n",
    "<br>\n",
    "- At about atmospheric pressure electrical breakdown occurs in many independent thin current filaments. \n",
    "<br>\n",
    "- These short-lived microdischarges have properties of transient high pressure glow discharges \n",
    "<br>with electron energies ideally suited for exciting or dissociating background gas atoms and molecules."
   ]
  },
  {
   "cell_type": "markdown",
   "metadata": {},
   "source": [
    "## 2. 본문"
   ]
  },
  {
   "cell_type": "markdown",
   "metadata": {},
   "source": [
    "### 1. DISCHARGE STRUCTURE AND MICRODISCHARGE PROPERTIES\n",
    "### 방전 구조와 미세방전의 특성"
   ]
  },
  {
   "cell_type": "markdown",
   "metadata": {},
   "source": [
    "- DBD는 금속 **전극 사이의 전류 경로(방전 공간)**에 하나 이상의 **절연 층**이 존재하는 것이 특징이다.\n",
    "- 하나 또는 두 개의 **유전체에 의해 구획된 가스 공간**은, **금속 전극 사이와 같은 항복 전압**을 가지고 있다.\n",
    "- 평면 또는 원통형 구성이 서로 다르다"
   ]
  },
  {
   "cell_type": "markdown",
   "metadata": {},
   "source": [
    "- Dielectric-barrier discharges are characterized by the presence of one or more insulating layers \n",
    "<br>in the current path between metal electrodes in addition to the discharge space. \n",
    "<br>\n",
    "- Gas spaces bounded by one or two dielectrics have practically the same breakdown voltage as if they were between metal electrodes. \n",
    "- Different planar or cylindrical configurations are common"
   ]
  },
  {
   "cell_type": "markdown",
   "metadata": {},
   "source": [
    "<br>\n",
    "\n",
    "$$<평면형\\ DBD\\ vs\\ 원통형\\ DBD>$$"
   ]
  },
  {
   "cell_type": "markdown",
   "metadata": {},
   "source": [
    "<img src=\".\\02_Fig\\1.png\" \"width=700\" />"
   ]
  },
  {
   "cell_type": "markdown",
   "metadata": {},
   "source": [
    " "
   ]
  },
  {
   "cell_type": "markdown",
   "metadata": {},
   "source": [
    "### 1.1 Microdischarge Properties\n",
    "### 미세방전의 특성"
   ]
  },
  {
   "cell_type": "markdown",
   "metadata": {},
   "source": [
    "<br>\n",
    "**[핵심 특성]**"
   ]
  },
  {
   "cell_type": "markdown",
   "metadata": {},
   "source": [
    "- **고전압 저주파수** 조건은 **미세방전을 확산**시키는 경향이 있다.\n",
    "  <br> **저전압 고주파수** 조건은 **기존의 미세방전 채널**(영역)을 **재활성화** 시키는 경향이 있다. "
   ]
  },
  {
   "cell_type": "markdown",
   "metadata": {},
   "source": [
    "- High voltage low frequency operation tends to spread the microdischarges\n",
    "   <br>while low voltage high frequency operation tends to reignite the old microdischarge channels every half period. "
   ]
  },
  {
   "cell_type": "markdown",
   "metadata": {},
   "source": [
    "<br>\n",
    "$$(관련\\ 내용)$$\n",
    "- Due to charge build up on the dielectric, the field at the location of a microdischarge is reduced within a few ns after breakdown. thus terminating the current flow at this location.\n",
    "- As long as the external voltage is rising additional microdischarges will occur at new positions because the presence of residual charges on the dielectric has reduced the electric fields at positions where microdischarges have already occurred. \n",
    "  <br>So, high voltage low frequency operation tends to spread the microdischarges, When the voltage is reversed, the next microdischarges will form in the old microdischarge locations.\n",
    "\n",
    "  <br>\n",
    "\n",
    "   항복현상 발생 이후, 전하가 유전체에 'build up' 함으로써 미세방전 영역은 금방 줄어든다.\n",
    "  <br>\n",
    "  <br> 즉, 유전체의 **잔류 전하가 전기장을 방해한다.** (전기장 방향의 역방향으로 영향)\n",
    "  <br> 이는 기존 미세방전 영역을 감소시킨다. (전류 흐름이 사라진다)\n",
    "\n",
    "  <br>따라서, 전압을 증가시킬수록 새로운 위치에서 추가 미세방전이 발생할 것이다. 이는 미세방전의 확산을 야기한다. \n",
    "  <br>그러나 전압이 역전되면(전기장 방향 역전) 이전의 마이크로 방전 위치에 마이크로 전하가 재형성된다. (잔류 전하의 영향)"
   ]
  },
  {
   "cell_type": "markdown",
   "metadata": {},
   "source": [
    "<br>\n",
    "$$(요약)$$\n",
    "<br>$$전압 : 증가 \\rightarrow 미세방전\\ 확산$$\n",
    "<br>$$주파수 : 증가 \\rightarrow 전기장\\ 방향\\ 역전수\\ 증가 (기존\\ 방전영역\\ 재활성화)$$"
   ]
  },
  {
   "cell_type": "markdown",
   "metadata": {},
   "source": [
    "<br>\n",
    "**[유전체 장벽의 영향]**"
   ]
  },
  {
   "cell_type": "markdown",
   "metadata": {},
   "source": [
    "- 유전체 장벽은 다음의 요소들을 제한한다.\n",
    "<br>: 미세방전에서의 전하의 양과 축적된 에너지\n",
    "- 유전체 장벽은 전극 표면의 전반적인 부분에 미세방전을 분배한다."
   ]
  },
  {
   "cell_type": "markdown",
   "metadata": {},
   "source": [
    "- The dielectric barrier limits the amount of charge and energy deposited in a microdischarge \n",
    "- The dielectric barrier distributes the microdischarges over the entire electrode surface."
   ]
  },
  {
   "cell_type": "markdown",
   "metadata": {},
   "source": [
    "<br>\n",
    "**[DBD breakdown]**"
   ]
  },
  {
   "cell_type": "markdown",
   "metadata": {},
   "source": [
    "- 대기압 조건의 DBDs in gases는 많은 수의 독립적인 current filaments 또는 미세방전에서 시작된다."
   ]
  },
  {
   "cell_type": "markdown",
   "metadata": {},
   "source": [
    "- property of DBDs is that in most gases at about atmospheric pressure breakdown is initiated in a large number of independent current filaments or microdischarges."
   ]
  },
  {
   "cell_type": "markdown",
   "metadata": {},
   "source": [
    "<br>\n",
    "**[운반 전하]**"
   ]
  },
  {
   "cell_type": "markdown",
   "metadata": {},
   "source": [
    "- 운반 전하는 두 가지에 비례한다. (압력과는 무관)\n",
    "  1. 공간의 gap\n",
    "  2. 유전체의 유전율"
   ]
  },
  {
   "cell_type": "markdown",
   "metadata": {},
   "source": [
    "- The transported charge is proportional to the gap spacing and the permittivity of the dielectric but does not depend on pressure."
   ]
  },
  {
   "cell_type": "markdown",
   "metadata": {},
   "source": [
    "<br>\n",
    "### 1.2 Overall Discharge Characteristics\n",
    "### 전체적인 방전 특성"
   ]
  },
  {
   "cell_type": "markdown",
   "metadata": {},
   "source": [
    "<br>\n",
    "**[방전 매커니즘]**"
   ]
  },
  {
   "cell_type": "markdown",
   "metadata": {},
   "source": [
    "<br>\n",
    "$$<참고그림:Capacitor>$$"
   ]
  },
  {
   "cell_type": "markdown",
   "metadata": {},
   "source": [
    "<img src=\".\\02_Fig\\2.png\" \"width=400\" />"
   ]
  },
  {
   "cell_type": "markdown",
   "metadata": {},
   "source": [
    "- sin형태의 교류 전압을 적용한 경우. \n",
    "  - 전압이 증가할수록 **총 커패시턴스$(C_{tot})$**가 충전됨. (방전이 일어나지 않는 초반)\n",
    "  - 전압이 항복전압에 도달. \n",
    "  - 절연 영역인 gas 공간에서 미세방전 발생.\n",
    "    <br>발생과 동시에, **일정한 방전 전압($U_{Dis}$, 기체공간을 가로지르는 평균 전압)** 유지\n",
    "  - 미세방전이 **유전체의 커패시턴스$(C_D)$**를 충전\n",
    "- 일련의 과정으로 **전압$( \\hat U )$이 sin함수의 극대점**까지 진행.\n",
    "- 이후 후반기 파장에서 역으로 발생."
   ]
  },
  {
   "cell_type": "markdown",
   "metadata": {},
   "source": [
    "- Suppose we apply a sinusoidal voltage. Initially, without discharge, the total capacitance $C_{tot}$ is charged with rising voltage. \n",
    "  <br>When the breakdown voltage of the gas space is reached microdischarges occur that start to charge the capacitance of the dielectric $C_D$\n",
    "  <br>while the discharge voltage $U_{Dis}$, the average voltage across the gas space, remains constant\n",
    "- This stops when the maximum of the voltage $\\hat{U}$ is reached and the reverse situation occurs in the second half wave."
   ]
  },
  {
   "cell_type": "markdown",
   "metadata": {},
   "source": [
    "<br>\n",
    "$$<DBD>$$"
   ]
  },
  {
   "cell_type": "markdown",
   "metadata": {},
   "source": [
    "<img src=\".\\02_Fig\\3.png\" \"width=200\" />"
   ]
  },
  {
   "cell_type": "markdown",
   "metadata": {},
   "source": [
    "    앞선 매커니즘에서의 전기적 파라미터들은 'The voltage / charge Lissajous figure'을 활용해 구할수 있다.\n",
    "<br>"
   ]
  },
  {
   "cell_type": "markdown",
   "metadata": {},
   "source": [
    "<br>\n",
    "**[The voltage / charge Lissajous figure]**"
   ]
  },
  {
   "cell_type": "markdown",
   "metadata": {},
   "source": [
    "- 대부분의 DBD application에서, 다음 그래프 형태는 거의 이상적이라고 할 수 있다.\n",
    "- In many DBD applications the voltage/charge Lissajous figure is an almost ideal parallelogram"
   ]
  },
  {
   "cell_type": "markdown",
   "metadata": {},
   "source": [
    "<br>\n",
    "$$<voltage\\ /\\ charge\\ Lissajous\\ figure>$$"
   ]
  },
  {
   "cell_type": "markdown",
   "metadata": {},
   "source": [
    "<img src=\".\\02_Fig\\4.png\" \"width=700\" />"
   ]
  },
  {
   "cell_type": "markdown",
   "metadata": {},
   "source": [
    "(특징)\n",
    "- slopes로부터 유효 캐패시턴스 $C_{tot}$와 $C_D$를 도출할 수 있다.\n",
    "- slopes로부터 $U_{Min}$과 $\\hat U$를 즉시 결정할 수 있다.\n",
    "- The form of the voltage/charge Lissajous figure은 적용시키는 전압의 형태와는 무관하다.\n",
    "  <br> : 방전 전압이 일정한 경우에 한함."
   ]
  },
  {
   "cell_type": "markdown",
   "metadata": {},
   "source": [
    "- From the slopes the effective capacitances $C_{tot}$ and $C_D$ can be derived\n",
    "- From the slopes $U_{Min}$ and $\\hat U$ can be immediately determined. \n",
    "- The form of the voltage/charge Lissajous figure is independent of the form of the applied voltage as long as the notion of a constant discharge voltage holds."
   ]
  },
  {
   "cell_type": "markdown",
   "metadata": {},
   "source": [
    "<br>\n",
    "**[Manley's power formula]**"
   ]
  },
  {
   "cell_type": "markdown",
   "metadata": {},
   "source": [
    "- 앞선 그래프를 통해, DBD에 적용되는 전력 공식을 도출했다. (for ozonizers)\n",
    "- From voltage/charge diagrams Manley in 1943 derived the power formula for ozonizers which applies to many DBDs."
   ]
  },
  {
   "cell_type": "markdown",
   "metadata": {},
   "source": [
    "<br>\n",
    "(전력 공식 1)"
   ]
  },
  {
   "cell_type": "markdown",
   "metadata": {},
   "source": [
    "$$P=4\\ f\\ C_D\\ U_{Dis}\\{\\hat U - C_D^{-1}(C_D+C_g)U_{Dis}\\},\\ \\ \\ \\hat U \\geq C_D^{-1}(C_D+C_g)U_{Dis}$$"
   ]
  },
  {
   "cell_type": "markdown",
   "metadata": {},
   "source": [
    "- P : total power\n",
    "- f : frequency\n",
    "- $C_g$ : the capacitance of the discharge gap"
   ]
  },
  {
   "cell_type": "markdown",
   "metadata": {},
   "source": [
    "    가상의 방전 전압 U_Dis는 직접 측정할 수 없으므로, 전력 P를 측정 가능한 양으로 표현할 필요가 있다.\n",
    "    측정 가능한 변수로 표현한 식은 다음과 같다."
   ]
  },
  {
   "cell_type": "markdown",
   "metadata": {},
   "source": [
    "<br>\n",
    "(전력 공식 2)"
   ]
  },
  {
   "cell_type": "markdown",
   "metadata": {},
   "source": [
    "$$P=4\\ f\\ {C_D}^2\\ (C_D + C_g)^{-1}\\ U_{Min}\\ (\\hat U - U_{Min}),\\ \\ \\  \\hat U \\geq U_{Min}$$"
   ]
  },
  {
   "cell_type": "markdown",
   "metadata": {},
   "source": [
    "- $U_{Min}$ : discharge를 유지하는데 필요한 최소 외부 전압"
   ]
  },
  {
   "cell_type": "markdown",
   "metadata": {},
   "source": [
    "    따라서, 방전 전압은 다음과 같이 나타낼 수 있다."
   ]
  },
  {
   "cell_type": "markdown",
   "metadata": {},
   "source": [
    "<br>\n",
    "(방전 전압)"
   ]
  },
  {
   "cell_type": "markdown",
   "metadata": {},
   "source": [
    "$$ U_{Dis}=C_D\\ (C_D + C_g)^{-1} U_{Min}$$"
   ]
  },
  {
   "cell_type": "markdown",
   "metadata": {},
   "source": [
    "<br>\n",
    "**[결론]**"
   ]
  },
  {
   "cell_type": "markdown",
   "metadata": {},
   "source": [
    "전원 공급에 따른 방전 거동을 예측할 수 있다."
   ]
  },
  {
   "cell_type": "markdown",
   "metadata": {},
   "source": [
    "- 적용된 voltage/charge Lissajous figure와 해당하는 gap voltage/current의 presentations는 \n",
    "  <br>**방전 거동의 특성 판단**과 **전원 공급장치 및 회로**를 설계하는 데 매우 유용한 도구들이다.\n"
   ]
  },
  {
   "cell_type": "markdown",
   "metadata": {},
   "source": [
    "- The applied voltage/charge Lissajous figure and corresponding gap voltage/current presentations are very useful instruments \n",
    "  <br>for characterising the discharge behavior and designing power supplies and matching circuits."
   ]
  },
  {
   "cell_type": "markdown",
   "metadata": {},
   "source": [
    "<br>\n",
    "### 2. MODELLING DIELECTRIC-BARRIER DISCHARGES"
   ]
  },
  {
   "cell_type": "markdown",
   "metadata": {},
   "source": [
    "### 2.1 Modelling of the Reaction Kinetics\n",
    "### 반응 속도론적 모델링"
   ]
  },
  {
   "cell_type": "markdown",
   "metadata": {},
   "source": [
    "<br>\n",
    "**[모델링 과정]**"
   ]
  },
  {
   "cell_type": "markdown",
   "metadata": {},
   "source": [
    "1. 시간 상수의 결정을 위해, 다음 두 가지를 가정하자.\n",
    "   1. 공간 gradients 무시 (in the beginning)\n",
    "   2. Treat a homogeneous plasma (as a first step)"
   ]
  },
  {
   "cell_type": "markdown",
   "metadata": {},
   "source": [
    "2. 시뮬레이션\n",
    "   1. 짧은 고전압 펄스를 적용하거나 전자 빔을 주입한다.\n",
    "   2. 단시간 마이크로 방전을 발생시킨다.\n",
    "   3. 두 경우 모두 **볼츠만 방정식을 해결**한다. \n",
    "   4. 속도 상수 도출 : 가스 혼합물에서의 **electron impact collisions**에 관한 속도 상수"
   ]
  },
  {
   "cell_type": "markdown",
   "metadata": {},
   "source": [
    "3. DBD 계산의 경우, 일반적으로 local field 근사를 사용한다. 해당 근사에 필요한 가정은 다음과 같다.\n",
    "   <br>\n",
    "   1. 전자 에너지 분포와 전기장은 평형이다.\n",
    "   2. 모든 속도 상수를 단일 함수로서 표로 작성할 수 있다.\n",
    "     \n",
    "단일 함수 : 평균 전자 에너지 or 감소된 전기장 E/n 에 관한 함수."
   ]
  },
  {
   "cell_type": "markdown",
   "metadata": {},
   "source": [
    "<br>\n",
    "1. For a rough determination of the different time constants involved it is often convenient to disregard spatial gradients in the beginning and treat a homogeneous plasma as a first step."
   ]
  },
  {
   "cell_type": "markdown",
   "metadata": {},
   "source": [
    "2. To simulate the action of a short-lived microdischarge either a short high voltage pulse is applied [10, 12] or an electron beam is injected [27, 28].\n",
    "   <br>In both cases it is necessary to derive the rate coefficients for electron impact collisions in the gas mixture under consideration by solving the Boltzmann equation. "
   ]
  },
  {
   "cell_type": "markdown",
   "metadata": {},
   "source": [
    "3. For DBD calculations the local field approximation is normally used, assuming that the electron energy distribution is in equilibrium with the electric field and that all rate coefficients can be tabulated as a sole function of the mean electron energy or the reduced field E/n."
   ]
  },
  {
   "cell_type": "markdown",
   "metadata": {},
   "source": [
    "<br>\n",
    "**[가정의 타당성]**\n",
    "<br>\n",
    "\n",
    "**모델링 과정에서 적용 된 가정들의 물리적인 타당성**"
   ]
  },
  {
   "cell_type": "markdown",
   "metadata": {},
   "source": [
    "이러한 가정들은 다소 조잡해 보이지만, 오존 발생기의 최적화에 성공적으로 사용되어 왔다. 이 성공의 물리적인 이유는 다음과 같다."
   ]
  },
  {
   "cell_type": "markdown",
   "metadata": {},
   "source": [
    "1. 볼츠만 방정식의 활용에 대한 타당성"
   ]
  },
  {
   "cell_type": "markdown",
   "metadata": {},
   "source": [
    "- 대기압 조건의 전기장에서 가속되는 전자는, background 가스와 매우 많은 충돌을 일으킨다. \n",
    "  <br> 따라서, 약 **10 ps 이내의 평형값에 접근**한다. \n",
    "  <br> 또한, 유의미한 **전압 변화와, 이에 따른 전기장 변화는 일반적으로 ns range로 훨씬 느리다.** \n",
    "  <br> 따라서, 많은 경우 볼츠만 방정식의 고정 솔루션을 사용하는 것이 정당하다.   "
   ]
  },
  {
   "cell_type": "markdown",
   "metadata": {},
   "source": [
    "- At atmospheric pressure electrons accelerated in the electric field perform so many collisions with the background gas that they approach equilibrium values within about 10 ps. Appreciable voltage changes and corresponding electric field changes are much slower, typically in the ns range. So, in many cases it is justified to work with stationary solutions of the Boltzmann equation.\n"
   ]
  },
  {
   "cell_type": "markdown",
   "metadata": {},
   "source": [
    "2. Microdischarge filament 시뮬레이션을 통한 근사의 타당성"
   ]
  },
  {
   "cell_type": "markdown",
   "metadata": {},
   "source": [
    "- 대부분의 라디칼 반응(1 to 100 ps 소요)은 매우 빠르다. \n",
    "  <br>따라서, 확산이나 대류에 의한 관련 종들의 변화(ms time scales)가 일어나기 전에 완성될 것이다. \n",
    "  <br>결국 최종 제품이 기본적으로 자유 라디칼 반응에 의해 형성되는 경우, 좋은 근사치를 제공할 수 있다."
   ]
  },
  {
   "cell_type": "markdown",
   "metadata": {},
   "source": [
    "- Excitation and dissociation by electron collision are again extremely fast processes followed by free radical reactions that occur at an intermediate time scale, typically 1 to 100 ps at atmospheric pressure. Most free radical reactions will therefore be completed before any substantial displacement of the involved species by diffusion or convection can take place. These processes take much longer and occur at ms time scales. So, in many cases where the final product is formed essentially by free radical reactions, simulating what happens within the microdischarge filament can give already a fairly good approximation. \n",
    "  \n"
   ]
  }
 ],
 "metadata": {
  "kernelspec": {
   "display_name": "Python 3",
   "language": "python",
   "name": "python3"
  },
  "language_info": {
   "codemirror_mode": {
    "name": "ipython",
    "version": 3
   },
   "file_extension": ".py",
   "mimetype": "text/x-python",
   "name": "python",
   "nbconvert_exporter": "python",
   "pygments_lexer": "ipython3",
   "version": "3.6.5"
  }
 },
 "nbformat": 4,
 "nbformat_minor": 2
}
