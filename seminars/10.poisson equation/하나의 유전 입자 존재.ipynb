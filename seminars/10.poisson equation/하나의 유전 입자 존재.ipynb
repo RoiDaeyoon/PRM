{
 "cells": [
  {
   "cell_type": "code",
   "execution_count": 61,
   "metadata": {},
   "outputs": [],
   "source": [
    "from fenics import *\n",
    "from dolfin import *\n",
    "from mshr import *\n",
    "from math import atan2\n",
    "\n",
    "domain1 = Circle(Point(0, 0), 1.5)\n",
    "domain2 = Circle(Point(0, 0), 3)\n",
    "domain3 = Circle(Point(0, 2.25), 0.3)\n",
    "domain = domain2 - domain1 - domain3\n",
    "mesh = generate_mesh(domain, 50)\n",
    "epsilon_0 = 1\n",
    "epsilon_e = 1\n",
    "X = FunctionSpace(mesh, 'P', 1)"
   ]
  },
  {
   "cell_type": "code",
   "execution_count": 86,
   "metadata": {},
   "outputs": [],
   "source": [
    "r = Expression(\"sqrt(x[0]*x[0]+x[1]*x[1])\", degree=1)\n",
    "theta = Expression(\"atan2(x[1],x[0])\", degree=1)\n",
    "r1 = Expression(\"sqrt(x[0]*x[0]+(x[1]-2.25)*(x[1]-2.25))\", degree=1)\n",
    "theta1 = Expression(\"atan2(x[1]-2.25,x[0])\", degree=1)\n",
    "tol = 1E-3\n",
    "def outer_boundary(x, on_boundary):\n",
    "    return on_boundary and sqrt(x[0]*x[0]+x[1]*x[1]) > 3-tol\n",
    "\n",
    "def inner_boundary(x, on_boundary):\n",
    "    return on_boundary and (sqrt(x[0]*x[0]+x[1]*x[1])< 1.5 + tol)\n",
    "\n",
    "#def midup_boundary(x, on_boundry):\n",
    "#    return on_boundry and sqrt(x[0]*x[0]+(x[1]-2.25)*(x[1]-2.25)) < 0.3+tol\n",
    "\n",
    "#def middown_boundary(x, on_boundry):\n",
    "#    return on_boundry and -sqrt(x[0]*x[0]+(x[1]-2.25)*(x[1]-2.25)) < 0.3+tol\n",
    "\n",
    "def midup_boundary(x, on_boundry):\n",
    "    theta1 = atan2(x[1]-2.25,x[0])\n",
    "    return on_boundry and  0+tol < theta1 < pi-tol and sqrt(x[0]*x[0]+(x[1]-2.25)*(x[1]-2.25)) < 0.3+tol\n",
    "\n",
    "def middown_boundary(x, on_boundry):\n",
    "    theta1 = atan2(x[1]-2.25,x[0])\n",
    "    return on_boundry and  -pi-tol < theta1 < 0-tol and sqrt(x[0]*x[0]+(x[1]-2.25)*(x[1]-2.25)) < 0.3+tol\n",
    "\n",
    "\n",
    "bc = [DirichletBC(X, Expression(\"0\",r=r,t=theta, degree=2), outer_boundary),\n",
    "       DirichletBC(X, Expression(\"15\",r=r,t=theta, degree=2), inner_boundary),\n",
    "     DirichletBC(X, Expression(\"20\",r=r1,t=theta1, degree=2), midup_boundary),\n",
    "     DirichletBC(X, Expression(\"0\",r=r1,t=theta1, degree=2), middown_boundary)]"
   ]
  },
  {
   "cell_type": "code",
   "execution_count": 87,
   "metadata": {},
   "outputs": [],
   "source": [
    "# Define variational proble\n",
    "V = TrialFunction(X)\n",
    "v = TestFunction(X)\n",
    "rho = Constant(0.5)\n",
    "a = dot(grad(epsilon_0*epsilon_e*V), grad(v))*dx\n",
    "L = rho*v*dx\n",
    "\n",
    "# Compute solution\n",
    "V = Function(X)\n",
    "solve(a == L, V, bc)"
   ]
  },
  {
   "cell_type": "code",
   "execution_count": 88,
   "metadata": {},
   "outputs": [
    {
     "data": {
      "text/plain": [
       "<matplotlib.tri.tricontour.TriContourSet at 0x7fbee4584f28>"
      ]
     },
     "execution_count": 88,
     "metadata": {},
     "output_type": "execute_result"
    },
    {
     "data": {
      "image/png": "[encoded data removed]",
      "text/plain": [
       "<Figure size 432x288 with 1 Axes>"
      ]
     },
     "metadata": {
      "needs_background": "light"
     },
     "output_type": "display_data"
    }
   ],
   "source": [
    "plot(V)"
   ]
  },
  {
   "cell_type": "code",
   "execution_count": null,
   "metadata": {},
   "outputs": [],
   "source": []
  }
 ],
 "metadata": {
  "kernelspec": {
   "display_name": "Python 3",
   "language": "python",
   "name": "python3"
  },
  "language_info": {
   "codemirror_mode": {
    "name": "ipython",
    "version": 3
   },
   "file_extension": ".py",
   "mimetype": "text/x-python",
   "name": "python",
   "nbconvert_exporter": "python",
   "pygments_lexer": "ipython3",
   "version": "3.6.7"
  }
 },
 "nbformat": 4,
 "nbformat_minor": 2
}
