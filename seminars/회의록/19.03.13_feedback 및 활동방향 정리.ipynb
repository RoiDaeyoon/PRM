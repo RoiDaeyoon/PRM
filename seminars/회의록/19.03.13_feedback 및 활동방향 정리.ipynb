{
 "cells": [
  {
   "cell_type": "markdown",
   "metadata": {},
   "source": [
    "## 교수님 feedback 및 활동방향 정리"
   ]
  },
  {
   "cell_type": "markdown",
   "metadata": {},
   "source": [
    "### 3/13 seminar"
   ]
  },
  {
   "cell_type": "markdown",
   "metadata": {},
   "source": [
    "* Boltzmann equation 은 mass balance 식 2개로 구성됨. <br>\n",
    "반응이 있을 때 chemical 별로 식이 필요함. Source 항 달라짐.<br>\n",
    "반응이 없을 때는 심플한 diffusion model.\n",
    "\n",
    "\n",
    "* Poisson equation: 전기장 분포 식 (입자별 고려 필요하지 않음)<br>\n",
    "서강대 논문의 geometry(원통형 reactor, 가운데 전극)에서 원형 단면에 대해 poisson equation을 Fenics로 풀어볼 것. ($\\rho$는 임의 설정. dielectric material을 어떻게 채울 것인지 여러가지로 계산해 볼 것)<br>\n",
    "micro discharge 각각이 microreactor라고 생각하여 계산함. 각각을 계산하여 summation. (CSTR이 무수히 연결된 반응기 - PFR과 같음) steady 상태에서 계산.<br>\n",
    "유효 반응기 부피 = micro discharge 분포."
   ]
  },
  {
   "cell_type": "markdown",
   "metadata": {},
   "source": [
    "### 3/20 seminar"
   ]
  },
  {
   "cell_type": "markdown",
   "metadata": {},
   "source": [
    "* domain 내부에 유전물질(구) 채워짐. 단면을 잘랐을 때 유전물질이 여러 사이즈로 잘리는 경우 생각하여 simulation $\\to$ 입자마다 boundary에서의 전위값 달라짐. 어떻게 simulation할 것인지?<br>\n",
    "유전물질 한 개부터 시작. 유전물질 surface의 boundary condition 어떻게 처리할 것인지? 유전물질 한 개 이상 포함되면 왜곡 발생함.\n",
    "\n",
    "\n",
    "* 전기장 발생하면 $\\rho$ 변화 발생 $\\to$ 전기장 변화 $\\to$ $\\rho$ 변화 $\\to$ ...\n",
    "=> 특정 값에서 정상상태 유지됨.<br>\n",
    "$\\rho$는 연립방정식을 풀어야하여 상호작용. 어떻게 풀 것인지 고민해 볼 것\n",
    "\n",
    "\n",
    "\n",
    "* 발생된 전압은 15kV. reactor에 실제로 가해지는 전압도 15kV 인지? - O<br>\n",
    "교류의 효과는 어떻게 고려? 시간에 따라 달라지면 poisson equation 사용 불가."
   ]
  },
  {
   "cell_type": "code",
   "execution_count": null,
   "metadata": {
    "collapsed": true
   },
   "outputs": [],
   "source": []
  }
 ],
 "metadata": {
  "kernelspec": {
   "display_name": "Python 3",
   "language": "python",
   "name": "python3"
  },
  "language_info": {
   "codemirror_mode": {
    "name": "ipython",
    "version": 3
   },
   "file_extension": ".py",
   "mimetype": "text/x-python",
   "name": "python",
   "nbconvert_exporter": "python",
   "pygments_lexer": "ipython3",
   "version": "3.6.1"
  }
 },
 "nbformat": 4,
 "nbformat_minor": 2
}
