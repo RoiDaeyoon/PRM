{
 "cells": [
  {
   "cell_type": "markdown",
   "metadata": {},
   "source": [
    "# Gmsh for fenics"
   ]
  },
  {
   "cell_type": "markdown",
   "metadata": {},
   "source": [
    "## 1.Gmsh?"
   ]
  },
  {
   "cell_type": "markdown",
   "metadata": {},
   "source": [
    "Gmsh는 CAD 엔진과 포스트 프로세서가 내장 된 3D 유한 요소 그리드 생성기이다.\n",
    "\n",
    "설계 목표는 매개 변수 입력 및 고급 시각화 기능을 갖춘 빠르고 가볍고 사용하기 쉬운 메쉬 도구를 제공하는 것이다.\n",
    "\n",
    "Gmsh는 기하학, 메쉬, 해석기 및 사후 처리의 네 가지 모듈로 구성된다.\n",
    "\n",
    "이 모듈에 대한 입력은 그래픽 사용자 인터페이스를 사용하여 대화식으로 또는 Gmsh의 자체 스크립팅 언어를 사용하는 ASCII 텍스트 파일로 지정된다."
   ]
  },
  {
   "cell_type": "markdown",
   "metadata": {},
   "source": [
    "![alt](./gmsh/a319_4_small.png)"
   ]
  },
  {
   "cell_type": "markdown",
   "metadata": {},
   "source": [
    "![alt](./gmsh/spheres3_small.png)"
   ]
  },
  {
   "cell_type": "markdown",
   "metadata": {},
   "source": [
    "![alt](./gmsh/19-1.png)"
   ]
  },
  {
   "cell_type": "markdown",
   "metadata": {},
   "source": [
    "## 2. Mesh generation"
   ]
  },
  {
   "cell_type": "markdown",
   "metadata": {},
   "source": [
    "gmsh 실행 시 다음과 같은 창이 실행된다"
   ]
  },
  {
   "cell_type": "markdown",
   "metadata": {},
   "source": [
    "![alt](./gmsh/1.png)"
   ]
  },
  {
   "cell_type": "markdown",
   "metadata": {},
   "source": [
    "원형 mesh를 만들기 위해서 Add에 있는 Disk를 사용한다. 이때 크기와 위치를 설정하고 키보드 'e'키를 누르면 생성되고 'q'키를 누르면 Disk 생성을 중지한다."
   ]
  },
  {
   "cell_type": "markdown",
   "metadata": {},
   "source": [
    "![alt](./gmsh/2.png)"
   ]
  },
  {
   "cell_type": "markdown",
   "metadata": {},
   "source": [
    "![alt](./gmsh/3.png)"
   ]
  },
  {
   "cell_type": "markdown",
   "metadata": {},
   "source": [
    "두 개의 disk 생성 결과 Surface가 2개 생성된 것을 확인할 수 있다.\n",
    "\n",
    "이렇게 형성된 두 개의 disk는 별도의 작업을 통해서 도넛 모양으로 바뀌게 된다."
   ]
  },
  {
   "cell_type": "markdown",
   "metadata": {},
   "source": [
    "![alt](./gmsh/4.png)"
   ]
  },
  {
   "cell_type": "markdown",
   "metadata": {},
   "source": [
    "![alt](./gmsh/5.png)"
   ]
  },
  {
   "cell_type": "markdown",
   "metadata": {},
   "source": [
    "두 개의 disk를 나누기 위해서는 Boolean에서 cut을 사용해서 두 개의 disk를 나누게 된다."
   ]
  },
  {
   "cell_type": "markdown",
   "metadata": {},
   "source": [
    "![alt](./gmsh/7.png)"
   ]
  },
  {
   "cell_type": "markdown",
   "metadata": {},
   "source": [
    "이때 cut 설정에서 Delete object 및 Delete tool를 모두 체크해 주고 Surface2(바깥쪽 disk)를 먼저 'e'키를 눌러서 설정해 준 뒤, 그 뒤 제거할 Surface1(안쪽 disk)를 'e'키를 눌러서 설정한다."
   ]
  },
  {
   "cell_type": "markdown",
   "metadata": {},
   "source": [
    "![alt](./gmsh/8.png)"
   ]
  },
  {
   "cell_type": "markdown",
   "metadata": {},
   "source": [
    "cut의 결과 Surface1(안쪽 disk)가 사라지고 Surface2에서 그 만큼뺀 면적이 남은 것을 확인할 수 있다."
   ]
  },
  {
   "cell_type": "markdown",
   "metadata": {},
   "source": [
    "![alt](./gmsh/9.png)"
   ]
  },
  {
   "cell_type": "markdown",
   "metadata": {},
   "source": [
    "내부에 입자를 추가하는 경우 입자의 면적을 완전히 삭제하는 것이아니라 Surface2와 분리하는 것이기에 Delete tool의 항목을 해제한다."
   ]
  },
  {
   "cell_type": "markdown",
   "metadata": {},
   "source": [
    "![alt](./gmsh/10.png)"
   ]
  },
  {
   "cell_type": "markdown",
   "metadata": {},
   "source": [
    "cut의 결과 두개의 면적이 분리되었고 앞서 살펴봤던 Surface1과는 다르게 입자의 면적이 사라지지 않음을 확인할 수 있다."
   ]
  },
  {
   "cell_type": "markdown",
   "metadata": {},
   "source": [
    "![alt](./gmsh/11.png)"
   ]
  },
  {
   "cell_type": "markdown",
   "metadata": {},
   "source": [
    "![alt](./gmsh/12.png)"
   ]
  },
  {
   "cell_type": "markdown",
   "metadata": {},
   "source": [
    "Elementary 설정 한 후 각각에 대한 Physical을 설정해야한다.\n",
    "\n",
    "이때 vacuum과 dielectric particle의 경우 Surface를 통해서, inner 및 outer line은 curve를 통해서 설정한다. 그 후 해당하는 것을 선택후 'e'키를 눌러서 설정해주면 된다.\n",
    "\n",
    "각각의 설정에서 name과 number는 중복되지 않는다는 조건하에 자유롭게 설정이 가능하다.\n",
    "\n",
    "특히 이때 정한 number는 차후 fenics에서 경계 조건 및 Class를 통한 유전율 구분에 사용된다."
   ]
  },
  {
   "cell_type": "markdown",
   "metadata": {},
   "source": [
    "![alt](./gmsh/13.png)"
   ]
  },
  {
   "cell_type": "markdown",
   "metadata": {},
   "source": [
    "![alt](./gmsh/14.png)"
   ]
  },
  {
   "cell_type": "markdown",
   "metadata": {},
   "source": [
    "![alt](./gmsh/15.png)"
   ]
  },
  {
   "cell_type": "markdown",
   "metadata": {},
   "source": [
    "![alt](./gmsh/16.png)"
   ]
  },
  {
   "cell_type": "markdown",
   "metadata": {},
   "source": [
    "![alt](./gmsh/17.png)"
   ]
  },
  {
   "cell_type": "markdown",
   "metadata": {},
   "source": [
    "그 결과로 elementary 뿐만 아니라 physical 또한 설정된 것을 확인할 수 있다."
   ]
  },
  {
   "cell_type": "markdown",
   "metadata": {},
   "source": [
    "![alt](./gmsh/18.png)"
   ]
  },
  {
   "cell_type": "markdown",
   "metadata": {},
   "source": [
    "physical을 설정한 이후에는 Mesh 항목에서 2D 버튼을 눌러서 mesh를 형성한다.\n",
    "\n",
    "이때 mesh에 대한 설정은 Define을 통해서 가능하며 이 경우 Transfinte에서 Curve를 통해서 보다 더 자세한 설정이 가능하다. 예를 들어 Number of points를 더 증가하면 보다 복잡한 mesh를 형성할 수 있다."
   ]
  },
  {
   "cell_type": "markdown",
   "metadata": {},
   "source": [
    "![alt](./gmsh/19-1.png)"
   ]
  },
  {
   "cell_type": "markdown",
   "metadata": {},
   "source": [
    "![alt](./gmsh/19-2.png)"
   ]
  },
  {
   "cell_type": "markdown",
   "metadata": {},
   "source": [
    "gmsh를 fenics에서 사용하기 위해서는 우선 msh파일로 저장한 후 변환해야한다.\n",
    "\n",
    "따라서 이때 일반적인 save가 아닌 export를 통해서 msh파일로 저장한다.\n",
    "\n",
    "이때 fenics 변환을 위해서는 Version 2 ASCll로 저장해야한다. 버전이 다를 경우 dolfin을 통한 변환이 이뤄지지 않게 되기 떄문이다."
   ]
  },
  {
   "cell_type": "markdown",
   "metadata": {},
   "source": [
    "![alt](./gmsh/19.png)"
   ]
  },
  {
   "cell_type": "markdown",
   "metadata": {},
   "source": [
    "![alt](./gmsh/20.png)"
   ]
  },
  {
   "cell_type": "markdown",
   "metadata": {},
   "source": [
    "![alt](./gmsh/21.png)"
   ]
  },
  {
   "cell_type": "markdown",
   "metadata": {},
   "source": [
    "msh 파일 생성 후 아래의 코드를 통해서 변환을 하면 된다."
   ]
  },
  {
   "cell_type": "code",
   "execution_count": 2,
   "metadata": {},
   "outputs": [],
   "source": [
    "from fenics import *\n",
    "from dolfin import *\n",
    "from mshr import *\n",
    "%matplotlib inline"
   ]
  },
  {
   "cell_type": "code",
   "execution_count": 3,
   "metadata": {},
   "outputs": [
    {
     "name": "stdout",
     "output_type": "stream",
     "text": [
      "Converting from Gmsh format (.msh, .gmsh) to DOLFIN XML format\n",
      "Expecting 780 vertices\n",
      "Found all vertices\n",
      "Expecting 1462 cells\n",
      "Found all cells\n",
      "Conversion done\n"
     ]
    }
   ],
   "source": [
    "!dolfin-convert geo.msh geo.xml"
   ]
  },
  {
   "cell_type": "markdown",
   "metadata": {},
   "source": [
    "![alt](./gmsh/22.png)"
   ]
  },
  {
   "cell_type": "markdown",
   "metadata": {},
   "source": [
    "이렇게 변환된 파일들은 fenics 코드 내에서 다음과 같이 활용된다."
   ]
  },
  {
   "cell_type": "code",
   "execution_count": null,
   "metadata": {},
   "outputs": [],
   "source": [
    "mesh = fn.Mesh('geo.xml')\n",
    "subdomains = fn.MeshFunction(\"size_t\", mesh,'geo_physical_region.xml')\n",
    "boundaries = fn.MeshFunction('size_t', mesh,'geo_facet_region.xml')"
   ]
  },
  {
   "cell_type": "code",
   "execution_count": 1,
   "metadata": {},
   "outputs": [
    {
     "name": "stdout",
     "output_type": "stream",
     "text": [
      "Converting from Gmsh format (.msh, .gmsh) to DOLFIN XML format\n",
      "Expecting 4093 vertices\n",
      "Found all vertices\n",
      "Expecting 8088 cells\n",
      "Found all cells\n",
      "Conversion done\n"
     ]
    }
   ],
   "source": [
    "!dolfin-convert geo2.msh geo2.xml"
   ]
  },
  {
   "cell_type": "code",
   "execution_count": null,
   "metadata": {},
   "outputs": [],
   "source": []
  }
 ],
 "metadata": {
  "kernelspec": {
   "display_name": "Python 3",
   "language": "python",
   "name": "python3"
  },
  "language_info": {
   "codemirror_mode": {
    "name": "ipython",
    "version": 3
   },
   "file_extension": ".py",
   "mimetype": "text/x-python",
   "name": "python",
   "nbconvert_exporter": "python",
   "pygments_lexer": "ipython3",
   "version": "3.6.5"
  }
 },
 "nbformat": 4,
 "nbformat_minor": 2
}
