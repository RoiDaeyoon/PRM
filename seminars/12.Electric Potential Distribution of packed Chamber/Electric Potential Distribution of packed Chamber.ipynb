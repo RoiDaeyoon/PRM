{
 "cells": [
  {
   "cell_type": "markdown",
   "metadata": {},
   "source": [
    "# Electric Potential Distribution in Dielectric particles packed Chamber"
   ]
  },
  {
   "cell_type": "markdown",
   "metadata": {},
   "source": [
    "<br>\n",
    "\n",
    "## 내용 요약"
   ]
  },
  {
   "cell_type": "markdown",
   "metadata": {},
   "source": [
    "### 1. Poisson eq'n\n",
    "  - 프로젝트의 핵심이 되는 방정식이기 때문에, 명확하게 정리하여 향후 진행에 도움이 되고자 함.\n",
    "\n",
    "### 2. Neumann Boundary Condition\n",
    "  - 교수님의 Feedback을 토대로, Neumann B.C를 적용한 결과와 이에 대한 고찰.\n",
    "\n",
    "### 3. New Solution\n",
    "  - Electric Potential Distribution를 구하는 다른 Solution을 제안하고, 이에 대한 결과 값을 발표."
   ]
  },
  {
   "cell_type": "markdown",
   "metadata": {},
   "source": [
    "<br>\n",
    "\n",
    "## POISSON EQUATION"
   ]
  },
  {
   "cell_type": "markdown",
   "metadata": {},
   "source": [
    "Poisson eq'n은 두 가지 개념만 확실하게 숙지하면 이해하기 편하다.\n",
    "- 전하$q$와 전속$\\psi$\n",
    "- 가우스 법칙"
   ]
  },
  {
   "cell_type": "markdown",
   "metadata": {},
   "source": [
    "### (1) 전하와 전속"
   ]
  },
  {
   "cell_type": "markdown",
   "metadata": {},
   "source": [
    "<img src=\"./fig/1.png\" style=\"height:250px\">"
   ]
  },
  {
   "cell_type": "markdown",
   "metadata": {},
   "source": [
    "- 점전하가 존재하면 위와 같이 normal vector 방향으로 여러 전기력선이 발생한다. \n",
    "- 전기력선의 모음을 전속 $\\underline\\psi$ [C] 이라 한다. \n",
    "- **매질에 관계없이** ＋Q[C]의 전하에서 Q[C]의 전속이 나온다. "
   ]
  },
  {
   "cell_type": "markdown",
   "metadata": {},
   "source": [
    "<img src=\"./fig/4.png\" style=\"height:250px\">"
   ]
  },
  {
   "cell_type": "markdown",
   "metadata": {},
   "source": [
    "- 전속을 단위면적으로 나누어, **전속의 빽빽한 정도**를 **전속밀도 $\\underline D$ [C/m^2]** 라 한다.\n",
    "- Poisson eq'n의 좌항에 놓이게 된다."
   ]
  },
  {
   "cell_type": "markdown",
   "metadata": {},
   "source": [
    "<img src=\"./fig/2.png\" style=\"height:250px\">"
   ]
  },
  {
   "cell_type": "markdown",
   "metadata": {},
   "source": [
    "- 이러한 점전하가 특정 폐곡면 내부에 자유롭게 존재하면 **가우스 공간 내의 자유전하**라고 할 수 있다."
   ]
  },
  {
   "cell_type": "markdown",
   "metadata": {},
   "source": [
    "<img src=\"./fig/3.png\" style=\"height:250px\">"
   ]
  },
  {
   "cell_type": "markdown",
   "metadata": {},
   "source": [
    "- 자유전하의 갯수가 위와 같이 늘어나면, 전하는 **자유전하밀도 $\\rho_v = \\frac{q}{V}$**를 활용하여 표현해야 한다. \n",
    "- 여기서 **자유전하밀도**란, **가우스 공간에 존재하는 자유전하 입자의 수**다.\n",
    "- Poisson eq'n의 우항에 놓이게 된다."
   ]
  },
  {
   "cell_type": "markdown",
   "metadata": {},
   "source": [
    "### [정리]\n",
    "- 전하[C]가 존재하면, 같은 크기의 전속[C]이 발생한다. 이는 매질과 무관하다.\n",
    "- 전속밀도는 단위 면적당 전속이다.\n",
    "- 전속밀도를 폐곡면으로 적분하면, 폐곡면 내부 전하가 내보낸 전체 전속이 된다.\n",
    "- 전하의 수가 많기 때문에 전하밀도를 활용한다."
   ]
  },
  {
   "cell_type": "markdown",
   "metadata": {},
   "source": [
    "### (2) 가우스 법칙"
   ]
  },
  {
   "cell_type": "markdown",
   "metadata": {},
   "source": [
    "가우스 법칙은 적분형태와 미분형태가 있고, 이는 다음과 같다."
   ]
  },
  {
   "cell_type": "markdown",
   "metadata": {},
   "source": [
    "<img src=\"./fig/5.png\" style=\"height:140px\">"
   ]
  },
  {
   "cell_type": "markdown",
   "metadata": {},
   "source": [
    "- 적분형태 : 폐곡면에서의 모든 전속을 더한 값(단위 : C)은 내부 알짜 자유전하량(단위 : C)과 같다는 의미이다.\n",
    "- 미분형태 : Poisson eq'n을 유도하기 위해 사용할 식이다. 적분형의 발산 정리 이후 미분하여 나타낸 형태이다.\n",
    "  - 발산정리 : 면적분형태를 부피에 대한 적분식으로 나타낸다."
   ]
  },
  {
   "cell_type": "markdown",
   "metadata": {},
   "source": [
    "**Poisson eq'n을 유도하는 과정은 다음과 같다.**"
   ]
  },
  {
   "cell_type": "markdown",
   "metadata": {},
   "source": [
    "앞선 가우스 법칙 미분형태에서 시작한다."
   ]
  },
  {
   "cell_type": "markdown",
   "metadata": {},
   "source": [
    "<img src=\"./fig/6.png\" style=\"height:400px\">"
   ]
  },
  {
   "cell_type": "markdown",
   "metadata": {},
   "source": [
    "여기서 유의해야 할 곳은 두 번째 부분이다. 이는 **유전율이 일정한 단일 상** 내에서만 성립한다."
   ]
  },
  {
   "cell_type": "markdown",
   "metadata": {},
   "source": [
    "<img src=\"./fig/7.png\" style=\"height:300px\">"
   ]
  },
  {
   "cell_type": "markdown",
   "metadata": {},
   "source": [
    "전속밀도 $\\underline D$는 매질에 상관없이 일정하지만, **전기장은 유전율에 따라 다르다.**\n",
    "<br>따라서, 가능하다면 다음과 같이 표시하는 것이 보다 명료하겠다."
   ]
  },
  {
   "cell_type": "markdown",
   "metadata": {},
   "source": [
    "<img src=\"./fig/8.png\" style=\"height:25px\">"
   ]
  },
  {
   "cell_type": "markdown",
   "metadata": {},
   "source": [
    "### (3) 프로젝트 적용"
   ]
  },
  {
   "cell_type": "markdown",
   "metadata": {},
   "source": [
    "- 결국 유전입자로 Packed된 진공 챔버 내부는, 기본(유전율이 일정한) 푸아송 방정식으로 풀어서는 안된다. \n",
    "- 진공과 유전입자, 두 가지의 유전율이 다른 영역이 존재한다고 보아야 한다."
   ]
  },
  {
   "cell_type": "markdown",
   "metadata": {},
   "source": [
    "<img src=\"./fig/9.png\" style=\"height:300px\">"
   ]
  },
  {
   "cell_type": "markdown",
   "metadata": {},
   "source": [
    "우리는 다음 두 가지 해결 방향을 생각했다.\n",
    "\n",
    "1. **유전입자 영역을 제거**하고, **진공 공간만 고려**하여 푼다. (유전입자의 유전율은 생각하지 않는다.)\n",
    "  - 단일상이기 때문에 기본 푸아송 방정식으로 해결할 수 있다. \n",
    "  - 유전입자 내부의 영향을 고려해야 하기 때문에, 유의미한 유전입자의 바운더리 조건을 직접 주어야 함.\n",
    "  - Neumann Boundary Condition 적용을 고려함.\n",
    "  \n",
    "  \n",
    "2. **전체 공간**을 기준으로 풀되, **유전입자 영역에 해당 유전율($\\varepsilon_1$)을 적용**.\n",
    "  - 전자기학 책, 문헌 등 이를 Poisson eq'n에 직접 적용하여 푸는 것은 발견하지 못했다."
   ]
  },
  {
   "cell_type": "markdown",
   "metadata": {},
   "source": [
    "<br>\n",
    "\n",
    "## NEUMANN BOUNDARY CONDITION"
   ]
  },
  {
   "cell_type": "markdown",
   "metadata": {},
   "source": [
    "- 유전입자의 B.C에 Dirichlet B.C를 적용하는 것은 어렵다고 판단하였다.\n",
    "- Neumann B.C를 적용해보라는 교수님의 Feedback에 따라 진행하였다."
   ]
  },
  {
   "cell_type": "markdown",
   "metadata": {},
   "source": [
    "### (1) 포아송 방정식의 풀이 : 노이만 바운더리 조건이 존재할 때"
   ]
  },
  {
   "cell_type": "markdown",
   "metadata": {},
   "source": [
    "- Neumann boundary는 다음과 같이 g로 정의된다."
   ]
  },
  {
   "cell_type": "markdown",
   "metadata": {},
   "source": [
    "<img src=\"./fig/10.png\" style=\"height:70px\">"
   ]
  },
  {
   "cell_type": "markdown",
   "metadata": {},
   "source": [
    "- 푸아송 방정식에 다음과 같은 Dirichlet, Neumann B.C를 준다고 가정하자."
   ]
  },
  {
   "cell_type": "markdown",
   "metadata": {},
   "source": [
    "<img src=\"./fig/11.png\" style=\"height:130px\">"
   ]
  },
  {
   "cell_type": "markdown",
   "metadata": {},
   "source": [
    "- Test function v를 적용하여 Weak form으로 바꾼 뒤, 최종 형태를 살펴보면 다음과 같다."
   ]
  },
  {
   "cell_type": "markdown",
   "metadata": {},
   "source": [
    "<img src=\"./fig/12.png\" style=\"height:70px\">"
   ]
  },
  {
   "cell_type": "markdown",
   "metadata": {},
   "source": [
    "- 이를 유한요소법을 활용하여 풀이한다."
   ]
  },
  {
   "cell_type": "markdown",
   "metadata": {},
   "source": [
    "### (2) 코드 구현"
   ]
  },
  {
   "cell_type": "code",
   "execution_count": 2,
   "metadata": {},
   "outputs": [
    {
     "data": {
      "image/png": "[encoded data removed]",
      "text/plain": [
       "<Figure size 432x288 with 1 Axes>"
      ]
     },
     "metadata": {
      "needs_background": "light"
     },
     "output_type": "display_data"
    }
   ],
   "source": [
    "# from dolfin import *\n",
    "\n",
    "# Create mesh and define function space\n",
    "from dolfin import *\n",
    "from mshr import *\n",
    "import matplotlib.pyplot as plt\n",
    "\n",
    "geometry_1 = Circle(Point(0, 0), 1.5)\n",
    "geometry_2 = Circle(Point(0, 0), 3)\n",
    "geometry_3 = Circle(Point(0, 2,5), 0.3)\n",
    "geometry = geometry_2 - geometry_1 - geometry_3\n",
    "mesh = generate_mesh(geometry, 100)    # 충분한 mesh 숫자가 적용돼야 올바른 계산 결과가 나타난다.\n",
    "X = FunctionSpace(mesh, \"Lagrange\", 2)    # 함수가 적용되는 함수공간 X : mesh를 토대로 결정된다.\n",
    "tol = 1E-3    # 10^(-4)부터는 바운더리 영역을 잘 잡지 못함.\n",
    "\n",
    "epsilon_0 = 1\n",
    "epsilon_e = 1\n",
    "\n",
    "# Define boundary condition\n",
    "\n",
    "def boundary_I(x, on_boundary):\n",
    "    r=sqrt(x[0]*x[0]+x[1]*x[1])    # x[0]:x, x[1]:y 을 의미한다. (x로 나타내는 표현은 이 함수 내에서만 적용 됨을 유의)\n",
    "    return on_boundary and near(r, 1.5 , tol)  # r이 1.5인 원형 모양의 boundary (near()함수와 tol을 활용, r=1.5 근처의 미세 영역을 설정)\n",
    "\n",
    "bc_I = DirichletBC(X, 15, boundary_I)    # DirichletBC(함수공간, 경계 영역의 조건, 경계 영역)\n",
    "\n",
    "def boundary_O(x, on_boundary):\n",
    "    r=sqrt(x[0]*x[0]+x[1]*x[1])\n",
    "    return on_boundary and near(r, 3 , tol)  # r이 3인 원형 모양의 boundary (near()함수와 tol을 활용, r=3 근처의 미세 영역을 설정)\n",
    "\n",
    "bc_O = DirichletBC(X, 0, boundary_O)\n",
    "\n",
    "bcs=[bc_I, bc_O]    # boundary 조건이 다수인 경우 []를 활용한다.\n",
    "\n",
    "g = Expression('5*x[1]*x[1]', degree=1)  # Neumann B.C 조건 : g = partial{V}/partial{n}\n",
    "                                         # 반드시 expression이나 constant를 통해 적용해야 한다.\n",
    "\n",
    "# Define variational problem\n",
    "V = TrialFunction(X)\n",
    "v = TestFunction(X)\n",
    "rho = Expression(\"0.5\", degree=2)\n",
    "a = dot(epsilon_0*epsilon_e*grad(V), grad(v))*dx\n",
    "L = rho*v*dx - g*v*ds   # ds는 모든 바운더리 영역에 적용시킬때 사용한다. \n",
    "                        # 그러나, 앞서 Dirichlet B.C로 안쪽, 바깥쪽 경계면을 미리 지정해줬다. \n",
    "                        # 따라서 이를 제외한 남은 영역인 중간 구멍 경계에 g (Neumann B.C)를 적용한다.\n",
    "                        # Note that the integration *ds is carried out over the entire boundary, including the Dirichlet boundary. \n",
    "                        # However, since the test function v vanishes on the Dirichlet boundary (as a result specifying a DirichletBC), \n",
    "                        # the integral will only include the contribution from the Neumann boundary.\n",
    "\n",
    "\n",
    "# Compute solution\n",
    "V = Function(X)\n",
    "solve(a == L, V, bcs)\n",
    "\n",
    "# Save solution in VTK format\n",
    "file = File(\"electric_potential.pvd\")\n",
    "file << V\n",
    "\n",
    "# Plot solution\n",
    "import matplotlib.pyplot as plt\n",
    "plot(V)\n",
    "plt.show()"
   ]
  },
  {
   "cell_type": "markdown",
   "metadata": {},
   "source": [
    "### (3) 결과 및 고찰"
   ]
  },
  {
   "cell_type": "markdown",
   "metadata": {},
   "source": [
    "### [결과]"
   ]
  },
  {
   "cell_type": "markdown",
   "metadata": {},
   "source": [
    "**Case1) Dirichlet boundary condition**"
   ]
  },
  {
   "cell_type": "markdown",
   "metadata": {},
   "source": [
    "<img src=\"./fig/13.png\" style=\"height:300px\">"
   ]
  },
  {
   "cell_type": "markdown",
   "metadata": {},
   "source": [
    "- 기존처럼 내, 외부에 Dirichlet B.C만 적용한 결과이다."
   ]
  },
  {
   "cell_type": "markdown",
   "metadata": {},
   "source": [
    "**Case2) Dirichlet B.C + Neumann B.C $(-\\frac{\\partial V}{\\partial \\underline n} = 8y^2)$**"
   ]
  },
  {
   "cell_type": "markdown",
   "metadata": {},
   "source": [
    "<img src=\"./fig/14.png\" style=\"height:300px\">"
   ]
  },
  {
   "cell_type": "markdown",
   "metadata": {},
   "source": [
    "- 유전입자 경계에 노이만 바운더리를 적용한 결과이다.\n",
    "- 유전입자 경계에 올바르게 들어갔음을 확인할 수 있다."
   ]
  },
  {
   "cell_type": "markdown",
   "metadata": {},
   "source": [
    "**Case2) Dirichlet B.C + Neumann B.C $(-\\frac{\\partial V}{\\partial \\underline n} = 0)$**"
   ]
  },
  {
   "cell_type": "markdown",
   "metadata": {},
   "source": [
    "<img src=\"./fig/15.png\" style=\"height:300px\">"
   ]
  },
  {
   "cell_type": "markdown",
   "metadata": {},
   "source": [
    "- Case1 과 동일한 결과이다.\n",
    "- 전위의 노말벡터방향 gradient를 0이라고 적용하면, 해당 항이 소거되어 Dirichlet 조건만 남게 된다."
   ]
  },
  {
   "cell_type": "markdown",
   "metadata": {},
   "source": [
    "### [고찰]"
   ]
  },
  {
   "cell_type": "markdown",
   "metadata": {},
   "source": [
    "**노이만 경계조건을 올바른 위치에 적용시키는 것 까지 성공하였다.** 그러나, 전기포텐셜의 그레디언트를 0으로 입력한 것이 잘못된 것으로 보인다. 계속 고민해 보았으나, 노이만 경계조건인 경우 **어떤 값을 주어야 할 지 명확히 이해하지 못했다...**"
   ]
  },
  {
   "cell_type": "markdown",
   "metadata": {},
   "source": [
    "<br>\n",
    "\n",
    "## NEW SOLUTION : SUBDOMAINS FOR DIFFERENT MATERIALS"
   ]
  },
  {
   "cell_type": "markdown",
   "metadata": {},
   "source": [
    "이번 솔루션은 두 번째 풀이 방향과 부합한다. 전체 영역을 기준으로 풀되, 유전입자의 영역에 따로 유전율을 주는 방법으로 살펴보았다."
   ]
  },
  {
   "cell_type": "markdown",
   "metadata": {},
   "source": [
    "### (1) 개요"
   ]
  },
  {
   "cell_type": "markdown",
   "metadata": {},
   "source": [
    "<img src=\"./fig/16.png\" style=\"height:100px\">"
   ]
  },
  {
   "cell_type": "markdown",
   "metadata": {},
   "source": [
    "- Poisson eq'n for electrostatics와 Heat eq'n (steady state)을 비교\n",
    "   - $\\varepsilon$과 $\\kappa$가 유사함을 확인\n",
    "- FEniCS 예제 중 Heat eq'n subdomain 예제 참고"
   ]
  },
  {
   "cell_type": "markdown",
   "metadata": {},
   "source": [
    "### [예제]"
   ]
  },
  {
   "cell_type": "markdown",
   "metadata": {},
   "source": [
    "<img src=\"./fig/17.png\" style=\"height:200px\">"
   ]
  },
  {
   "cell_type": "markdown",
   "metadata": {},
   "source": [
    "- 위 아래의 도메인을 다르게 잡아, 영역에 따라 $\\kappa$값을 변경하여 Poisson eq'n을 푸는 예제이다. \n",
    "- 이 예제를 응용하여 우리 프로젝트에 적용하였다."
   ]
  },
  {
   "cell_type": "markdown",
   "metadata": {},
   "source": [
    "### (2) 코드 구현"
   ]
  },
  {
   "cell_type": "code",
   "execution_count": 5,
   "metadata": {},
   "outputs": [
    {
     "data": {
      "image/png": "[encoded data removed]",
      "text/plain": [
       "<Figure size 432x288 with 1 Axes>"
      ]
     },
     "metadata": {
      "needs_background": "light"
     },
     "output_type": "display_data"
    }
   ],
   "source": [
    "# from dolfin import *\n",
    "\n",
    "# Create mesh and define function space\n",
    "from dolfin import *\n",
    "from mshr import *\n",
    "import matplotlib.pyplot as plt\n",
    "\n",
    "geometry_1 = Circle(Point(0, 0), 1.5)\n",
    "geometry_2 = Circle(Point(0, 0), 3)\n",
    "geometry = geometry_2 - geometry_1\n",
    "mesh = generate_mesh(geometry, 200)    # 충분한 mesh 숫자가 적용돼야 올바른 계산 결과가 나타난다.\n",
    "X = FunctionSpace(mesh, \"Lagrange\", 2)    # 함수가 적용되는 함수공간 X : mesh를 토대로 결정된다.\n",
    "tol = 1E-4    # 10^(-4)부터는 바운더리 영역을 잘 잡지 못함.\n",
    "\n",
    "\n",
    "# Define boundary condition\n",
    "\n",
    "def boundary_O(x, on_boundary):\n",
    "    r=sqrt(x[0]*x[0]+x[1]*x[1])    # x[0]:x, x[1]:y 을 의미한다. (x로 나타내는 표현은 이 함수 내에서만 적용 됨을 유의)\n",
    "    return on_boundary and near(r, 1.5 , tol)    # r이 1.5인 원형 모양의 boundary (near()함수 내의 tol로 미세 영역을 설정)\n",
    "\n",
    "bc_O = DirichletBC(X, 15, boundary_O)    # DirichletBC(함수공간, 경계 영역의 조건, 경계 영역)\n",
    "\n",
    "def boundary_I(x, on_boundary):\n",
    "    r=sqrt(x[0]*x[0]+x[1]*x[1])\n",
    "    return on_boundary and near(r, 3 , tol)  # r이 3인 원형 모양의 boundary (near()함수 내의 tol로 미세 영역을 설정)\n",
    "\n",
    "bc_I = DirichletBC(X, 0, boundary_I)\n",
    "\n",
    "bcs=[bc_I, bc_O]    # boundary 조건이 다수인 경우 []를 활용한다.\n",
    "\n",
    "\n",
    "# Define subdomain\n",
    "tol = 1E-4\n",
    "e_0 = 1.0\n",
    "e_1 = 11.54     # 11.54 : dielectric particle Al2O3의 유전율 (at 25 celcius)\n",
    "\n",
    "Dielectric_area='sqrt(x[0]*x[0]+(x[1]-2.5)*(x[1]-2.5)) <= 0.3 + tol ? e_1 : e_0'\n",
    "# 두 개 이상 넣고싶은 경우 :  or 로 묶어줄 수 있다.\n",
    "\n",
    "epsilon = Expression(Dielectric_area ,degree=0, tol=tol, e_0=e_0, e_1=e_1)    \n",
    "\n",
    "# Define variational problem\n",
    "V = TrialFunction(X)\n",
    "v = TestFunction(X)\n",
    "rho = Expression(\"0.5\", degree=2)\n",
    "a = epsilon*dot(grad(V), grad(v))*dx\n",
    "L = rho*v*dx\n",
    "\n",
    "# Compute solution\n",
    "V = Function(X)\n",
    "solve(a == L, V, bcs)\n",
    "\n",
    "# Save solution in VTK format\n",
    "file = File(\"electric_potential.pvd\")\n",
    "file << V\n",
    "\n",
    "# Plot solution\n",
    "import matplotlib.pyplot as plt\n",
    "plot(V)\n",
    "plt.show()"
   ]
  },
  {
   "cell_type": "markdown",
   "metadata": {},
   "source": [
    "### [예상 결과]"
   ]
  },
  {
   "cell_type": "markdown",
   "metadata": {},
   "source": [
    "- 이론적으로 유전율이 큰 유전입자 영역에서, **전기장의 세기가 작아지기 때문에 완만한 전위 분포가 예상**되었다."
   ]
  },
  {
   "cell_type": "markdown",
   "metadata": {},
   "source": [
    "### [결과]"
   ]
  },
  {
   "cell_type": "markdown",
   "metadata": {},
   "source": [
    "<img src=\"./fig/18.png\" style=\"height:400px\">"
   ]
  },
  {
   "cell_type": "markdown",
   "metadata": {},
   "source": [
    "- 예상과 부합하는 결과 : 유전입자 영역에서 **평평한 전위 분포가 나타났다.**"
   ]
  },
  {
   "cell_type": "markdown",
   "metadata": {},
   "source": [
    "### [다수의 영역 설정]"
   ]
  },
  {
   "cell_type": "markdown",
   "metadata": {},
   "source": [
    "- or 함수를 활용하여 다수의 유전입자 영역을 지정해 주었다.\n",
    "- 이에 대한 Electric Potential 결과이다."
   ]
  },
  {
   "cell_type": "markdown",
   "metadata": {},
   "source": [
    "<img src=\"./fig/20.png\" style=\"height:400px\">"
   ]
  },
  {
   "cell_type": "markdown",
   "metadata": {},
   "source": [
    "<img src=\"./fig/21.png\" style=\"height:400px\">"
   ]
  },
  {
   "cell_type": "markdown",
   "metadata": {},
   "source": [
    "### [한계점]\n",
    "1. Cpp 코드로 유전입자 영역을 설정해줘야 한다. \n",
    "2. 다수의 유전입자로 packed 돼 있기때문에 이를 자동화 할 수 있는 코드 구현이 필요하다.\n",
    "3. 정 못하면 하나 하나 수작업으로 입력하는 수를 써야..."
   ]
  },
  {
   "cell_type": "markdown",
   "metadata": {},
   "source": [
    "### (3) Gmesh를 활용한 방법"
   ]
  },
  {
   "cell_type": "markdown",
   "metadata": {},
   "source": [
    "### Gmsh란?\n",
    "Gmsh는 Graphic User Interface를 활용하여 복잡한 mesh, surface 등의 설정이 가능한 프로그램이다."
   ]
  },
  {
   "cell_type": "markdown",
   "metadata": {},
   "source": [
    "- 내부 영역을 코드로 입력하기 어렵다면, Gmesh를 활용할 수 있다.\n",
    "- Gmsh가 프로젝트에 사용될 수 있어, git에 매뉴얼을 업데이트 하고 있다. 이를 참고할 수 있다."
   ]
  },
  {
   "cell_type": "markdown",
   "metadata": {},
   "source": [
    "### Gmsh 사용 화면 예시"
   ]
  },
  {
   "cell_type": "markdown",
   "metadata": {},
   "source": [
    "<img src=\"./fig/19.png\" style=\"height:500px\">"
   ]
  },
  {
   "cell_type": "markdown",
   "metadata": {},
   "source": [
    "### 코드 구현"
   ]
  },
  {
   "cell_type": "code",
   "execution_count": 6,
   "metadata": {},
   "outputs": [
    {
     "name": "stdout",
     "output_type": "stream",
     "text": [
      "Calling FFC just-in-time (JIT) compiler, this may take some time.\n",
      "WARNING: user expression has not supplied value_shape method or an element. Assuming scalar element.\n",
      "Calling FFC just-in-time (JIT) compiler, this may take some time.\n"
     ]
    },
    {
     "data": {
      "text/plain": [
       "<matplotlib.tri.tricontour.TriContourSet at 0x7f638512dc88>"
      ]
     },
     "execution_count": 6,
     "metadata": {},
     "output_type": "execute_result"
    },
    {
     "data": {
      "image/png": "[encoded data removed]",
      "text/plain": [
       "<Figure size 432x288 with 1 Axes>"
      ]
     },
     "metadata": {
      "needs_background": "light"
     },
     "output_type": "display_data"
    }
   ],
   "source": [
    "import fenics as fn\n",
    "import numpy as np\n",
    "import matplotlib.pyplot as plt\n",
    "%matplotlib inline\n",
    "\n",
    "mesh = fn.Mesh('geo.xml')\n",
    "subdomains = fn.MeshFunction(\"size_t\", mesh,'geo_physical_region.xml')\n",
    "boundaries = fn.MeshFunction('size_t', mesh,'geo_facet_region.xml')\n",
    "\n",
    "V = fn.FunctionSpace(mesh, 'P', 2)\n",
    "dx = fn.Measure('dx', domain=mesh, subdomain_data=subdomains)\n",
    "V0 = fn.FunctionSpace(mesh, 'DG', 0)\n",
    "\n",
    "inner_boundary = fn.DirichletBC(V, fn.Constant(15.0), boundaries, 3)\n",
    "outer_boundary = fn.DirichletBC(V, fn.Constant(0), boundaries, 4)\n",
    "bcs =[inner_boundary, outer_boundary]\n",
    "\n",
    "eps_r = 10 # dielectric particle 유전율을 의미한다.\n",
    "\n",
    "'''아래의 class는 subdomain을 바탕으로 유전율을 결정하게 된다.\n",
    "앞서 gmsh를 사용해서 subdomain에서 dielectric particle를 physical에서 2로 지정했다.\n",
    "따라서 이에 해당하는 지점은 dielectric particle 유전율이 된다.\n",
    "그 외의 지점 vacuum의 경우 유전율이 1이 된다.'''\n",
    "\n",
    "class permittivity(fn.UserExpression):\n",
    "    def __init__(self, markers, **kwargs):\n",
    "        self.markers = markers\n",
    "        super().__init__(**kwargs)\n",
    "        \n",
    "    def eval_cell(self, values, x, cell):\n",
    "        if self.markers[cell.index] == 2:\n",
    "            values[0] = eps_r\n",
    "        else:\n",
    "            values[0] = 1\n",
    "\n",
    "eps = permittivity(subdomains, degree=2)\n",
    "\n",
    "u = fn.TrialFunction(V)\n",
    "v = fn.TestFunction(V)\n",
    "a = fn.dot(fn.grad(u), fn.grad(v)) * eps * fn.dx #기존의 경우 eps를 1로 고정하였으나 Subdomain에서 위치에 따라서 변경\n",
    "L = fn.Constant('0') * v * fn.dx\n",
    "u = fn.Function(V)\n",
    "fn.solve(a == L, u, bcs)\n",
    "\n",
    "fn.plot(u)"
   ]
  },
  {
   "cell_type": "markdown",
   "metadata": {},
   "source": [
    "### [고찰]\n",
    "GUI를 활용하기 때문에 비교적 쉽게 영역을 설정할 수 있다. 하지만 다수의 입자를 입력하는 과정은 이를 통해서도 해결되지 않았다. 이에 대한 해결 방법이 Gmsh에 존재하는 지 또한, 확인해봐야 할 것 같다."
   ]
  }
 ],
 "metadata": {
  "kernelspec": {
   "display_name": "Python 3",
   "language": "python",
   "name": "python3"
  },
  "language_info": {
   "codemirror_mode": {
    "name": "ipython",
    "version": 3
   },
   "file_extension": ".py",
   "mimetype": "text/x-python",
   "name": "python",
   "nbconvert_exporter": "python",
   "pygments_lexer": "ipython3",
   "version": "3.6.5"
  }
 },
 "nbformat": 4,
 "nbformat_minor": 2
}
